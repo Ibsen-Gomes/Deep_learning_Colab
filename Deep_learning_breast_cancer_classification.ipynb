{
  "nbformat": 4,
  "nbformat_minor": 0,
  "metadata": {
    "colab": {
      "provenance": [],
      "authorship_tag": "ABX9TyPtG5ghrMB8yCEuffjBfKXa",
      "include_colab_link": true
    },
    "kernelspec": {
      "name": "python3",
      "display_name": "Python 3"
    },
    "language_info": {
      "name": "python"
    }
  },
  "cells": [
    {
      "cell_type": "markdown",
      "metadata": {
        "id": "view-in-github",
        "colab_type": "text"
      },
      "source": [
        "<a href=\"https://colab.research.google.com/github/Ibsen-Gomes/Deep_learning_Colab/blob/main/Deep_learning_breast_cancer_classification.ipynb\" target=\"_parent\"><img src=\"https://colab.research.google.com/assets/colab-badge.svg\" alt=\"Open In Colab\"/></a>"
      ]
    },
    {
      "cell_type": "code",
      "execution_count": 1,
      "metadata": {
        "id": "wmoRDk5Hw87Q"
      },
      "outputs": [],
      "source": [
        "import pandas as pd\n",
        "import numpy as np\n",
        "import seaborn as sns\n",
        "from sklearn.model_selection import train_test_split\n",
        "from sklearn.metrics import confusion_matrix, accuracy_score"
      ]
    },
    {
      "cell_type": "code",
      "source": [
        "import torch\n",
        "torch.__version__"
      ],
      "metadata": {
        "colab": {
          "base_uri": "https://localhost:8080/",
          "height": 35
        },
        "id": "csxD8avJxcF5",
        "outputId": "c1f6698f-e671-4eaf-9f48-5432ecc732d8"
      },
      "execution_count": 2,
      "outputs": [
        {
          "output_type": "execute_result",
          "data": {
            "text/plain": [
              "'2.0.1+cu118'"
            ],
            "application/vnd.google.colaboratory.intrinsic+json": {
              "type": "string"
            }
          },
          "metadata": {},
          "execution_count": 2
        }
      ]
    },
    {
      "cell_type": "code",
      "source": [
        "import torch.nn as nn"
      ],
      "metadata": {
        "id": "ZdRl6WxXxoua"
      },
      "execution_count": 3,
      "outputs": []
    },
    {
      "cell_type": "markdown",
      "source": [
        "### Load data"
      ],
      "metadata": {
        "id": "6lGVDwFJy86B"
      }
    },
    {
      "cell_type": "code",
      "source": [
        "np.random.seed(42)\n",
        "torch.manual_seed(42)"
      ],
      "metadata": {
        "colab": {
          "base_uri": "https://localhost:8080/"
        },
        "id": "CssdCo9pxsaL",
        "outputId": "06708d0f-f5f8-41ef-9ae8-3060f7a3bb84"
      },
      "execution_count": 4,
      "outputs": [
        {
          "output_type": "execute_result",
          "data": {
            "text/plain": [
              "<torch._C.Generator at 0x7fbce495c9b0>"
            ]
          },
          "metadata": {},
          "execution_count": 4
        }
      ]
    },
    {
      "cell_type": "code",
      "source": [
        "previsores = pd.read_csv('/content/entradas_breast.csv')\n",
        "classe = pd.read_csv('/content/saidas_breast.csv')"
      ],
      "metadata": {
        "id": "7Ffz0JXdzEqr"
      },
      "execution_count": 5,
      "outputs": []
    },
    {
      "cell_type": "code",
      "source": [
        "previsores.shape"
      ],
      "metadata": {
        "colab": {
          "base_uri": "https://localhost:8080/"
        },
        "id": "nj_lwatI7Ase",
        "outputId": "58503900-3d65-4bbb-c4b6-7a8bdf5c823b"
      },
      "execution_count": 6,
      "outputs": [
        {
          "output_type": "execute_result",
          "data": {
            "text/plain": [
              "(569, 30)"
            ]
          },
          "metadata": {},
          "execution_count": 6
        }
      ]
    },
    {
      "cell_type": "code",
      "source": [
        "previsores.head()"
      ],
      "metadata": {
        "colab": {
          "base_uri": "https://localhost:8080/",
          "height": 300
        },
        "id": "7hgIKjvU7LFP",
        "outputId": "e80d77f3-2c02-4073-ac90-1c312a86a8f2"
      },
      "execution_count": 7,
      "outputs": [
        {
          "output_type": "execute_result",
          "data": {
            "text/plain": [
              "    radius_mean   texture_mean   perimeter_mean   area_mean   smoothness_mean  \\\n",
              "0         17.99          10.38           122.80      1001.0           0.11840   \n",
              "1         20.57          17.77           132.90      1326.0           0.08474   \n",
              "2         19.69          21.25           130.00      1203.0           0.10960   \n",
              "3         11.42          20.38            77.58       386.1           0.14250   \n",
              "4         20.29          14.34           135.10      1297.0           0.10030   \n",
              "\n",
              "    compactness_mean   concavity_mean  concave_points_mean   symmetry_mean  \\\n",
              "0            0.27760           0.3001              0.14710          0.2419   \n",
              "1            0.07864           0.0869              0.07017          0.1812   \n",
              "2            0.15990           0.1974              0.12790          0.2069   \n",
              "3            0.28390           0.2414              0.10520          0.2597   \n",
              "4            0.13280         198.0000              0.10430          0.1809   \n",
              "\n",
              "    fractal_dimension_mean  ...   radius_worst   texture_worst  \\\n",
              "0                  0.07871  ...          25.38           17.33   \n",
              "1                  0.05667  ...          24.99           23.41   \n",
              "2                  0.05999  ...          23.57           25.53   \n",
              "3                  0.09744  ...          14.91           26.50   \n",
              "4                  0.05883  ...          22.54           16.67   \n",
              "\n",
              "    perimeter_worst   area_worst   smoothness_worst   compactness_worst  \\\n",
              "0            184.60       2019.0             0.1622              0.6656   \n",
              "1            158.80       1956.0             0.1238              0.1866   \n",
              "2            152.50       1709.0             0.1444              0.4245   \n",
              "3             98.87        567.7             0.2098              0.8663   \n",
              "4            152.20       1575.0             0.1374            205.0000   \n",
              "\n",
              "    concavity_worst   concave_points_worst   symmetry_worst  \\\n",
              "0            0.7119                 0.2654           0.4601   \n",
              "1            0.2416               186.0000         275.0000   \n",
              "2            0.4504               243.0000           0.3613   \n",
              "3            0.6869                 0.2575           0.6638   \n",
              "4            0.4000                 0.1625           0.2364   \n",
              "\n",
              "    fractal_dimension_worst  \n",
              "0                   0.11890  \n",
              "1                   0.08902  \n",
              "2                   0.08758  \n",
              "3                 173.00000  \n",
              "4                   0.07678  \n",
              "\n",
              "[5 rows x 30 columns]"
            ],
            "text/html": [
              "\n",
              "\n",
              "  <div id=\"df-62bf97ba-fcb7-453e-8aee-2aa0b44cf6a4\">\n",
              "    <div class=\"colab-df-container\">\n",
              "      <div>\n",
              "<style scoped>\n",
              "    .dataframe tbody tr th:only-of-type {\n",
              "        vertical-align: middle;\n",
              "    }\n",
              "\n",
              "    .dataframe tbody tr th {\n",
              "        vertical-align: top;\n",
              "    }\n",
              "\n",
              "    .dataframe thead th {\n",
              "        text-align: right;\n",
              "    }\n",
              "</style>\n",
              "<table border=\"1\" class=\"dataframe\">\n",
              "  <thead>\n",
              "    <tr style=\"text-align: right;\">\n",
              "      <th></th>\n",
              "      <th>radius_mean</th>\n",
              "      <th>texture_mean</th>\n",
              "      <th>perimeter_mean</th>\n",
              "      <th>area_mean</th>\n",
              "      <th>smoothness_mean</th>\n",
              "      <th>compactness_mean</th>\n",
              "      <th>concavity_mean</th>\n",
              "      <th>concave_points_mean</th>\n",
              "      <th>symmetry_mean</th>\n",
              "      <th>fractal_dimension_mean</th>\n",
              "      <th>...</th>\n",
              "      <th>radius_worst</th>\n",
              "      <th>texture_worst</th>\n",
              "      <th>perimeter_worst</th>\n",
              "      <th>area_worst</th>\n",
              "      <th>smoothness_worst</th>\n",
              "      <th>compactness_worst</th>\n",
              "      <th>concavity_worst</th>\n",
              "      <th>concave_points_worst</th>\n",
              "      <th>symmetry_worst</th>\n",
              "      <th>fractal_dimension_worst</th>\n",
              "    </tr>\n",
              "  </thead>\n",
              "  <tbody>\n",
              "    <tr>\n",
              "      <th>0</th>\n",
              "      <td>17.99</td>\n",
              "      <td>10.38</td>\n",
              "      <td>122.80</td>\n",
              "      <td>1001.0</td>\n",
              "      <td>0.11840</td>\n",
              "      <td>0.27760</td>\n",
              "      <td>0.3001</td>\n",
              "      <td>0.14710</td>\n",
              "      <td>0.2419</td>\n",
              "      <td>0.07871</td>\n",
              "      <td>...</td>\n",
              "      <td>25.38</td>\n",
              "      <td>17.33</td>\n",
              "      <td>184.60</td>\n",
              "      <td>2019.0</td>\n",
              "      <td>0.1622</td>\n",
              "      <td>0.6656</td>\n",
              "      <td>0.7119</td>\n",
              "      <td>0.2654</td>\n",
              "      <td>0.4601</td>\n",
              "      <td>0.11890</td>\n",
              "    </tr>\n",
              "    <tr>\n",
              "      <th>1</th>\n",
              "      <td>20.57</td>\n",
              "      <td>17.77</td>\n",
              "      <td>132.90</td>\n",
              "      <td>1326.0</td>\n",
              "      <td>0.08474</td>\n",
              "      <td>0.07864</td>\n",
              "      <td>0.0869</td>\n",
              "      <td>0.07017</td>\n",
              "      <td>0.1812</td>\n",
              "      <td>0.05667</td>\n",
              "      <td>...</td>\n",
              "      <td>24.99</td>\n",
              "      <td>23.41</td>\n",
              "      <td>158.80</td>\n",
              "      <td>1956.0</td>\n",
              "      <td>0.1238</td>\n",
              "      <td>0.1866</td>\n",
              "      <td>0.2416</td>\n",
              "      <td>186.0000</td>\n",
              "      <td>275.0000</td>\n",
              "      <td>0.08902</td>\n",
              "    </tr>\n",
              "    <tr>\n",
              "      <th>2</th>\n",
              "      <td>19.69</td>\n",
              "      <td>21.25</td>\n",
              "      <td>130.00</td>\n",
              "      <td>1203.0</td>\n",
              "      <td>0.10960</td>\n",
              "      <td>0.15990</td>\n",
              "      <td>0.1974</td>\n",
              "      <td>0.12790</td>\n",
              "      <td>0.2069</td>\n",
              "      <td>0.05999</td>\n",
              "      <td>...</td>\n",
              "      <td>23.57</td>\n",
              "      <td>25.53</td>\n",
              "      <td>152.50</td>\n",
              "      <td>1709.0</td>\n",
              "      <td>0.1444</td>\n",
              "      <td>0.4245</td>\n",
              "      <td>0.4504</td>\n",
              "      <td>243.0000</td>\n",
              "      <td>0.3613</td>\n",
              "      <td>0.08758</td>\n",
              "    </tr>\n",
              "    <tr>\n",
              "      <th>3</th>\n",
              "      <td>11.42</td>\n",
              "      <td>20.38</td>\n",
              "      <td>77.58</td>\n",
              "      <td>386.1</td>\n",
              "      <td>0.14250</td>\n",
              "      <td>0.28390</td>\n",
              "      <td>0.2414</td>\n",
              "      <td>0.10520</td>\n",
              "      <td>0.2597</td>\n",
              "      <td>0.09744</td>\n",
              "      <td>...</td>\n",
              "      <td>14.91</td>\n",
              "      <td>26.50</td>\n",
              "      <td>98.87</td>\n",
              "      <td>567.7</td>\n",
              "      <td>0.2098</td>\n",
              "      <td>0.8663</td>\n",
              "      <td>0.6869</td>\n",
              "      <td>0.2575</td>\n",
              "      <td>0.6638</td>\n",
              "      <td>173.00000</td>\n",
              "    </tr>\n",
              "    <tr>\n",
              "      <th>4</th>\n",
              "      <td>20.29</td>\n",
              "      <td>14.34</td>\n",
              "      <td>135.10</td>\n",
              "      <td>1297.0</td>\n",
              "      <td>0.10030</td>\n",
              "      <td>0.13280</td>\n",
              "      <td>198.0000</td>\n",
              "      <td>0.10430</td>\n",
              "      <td>0.1809</td>\n",
              "      <td>0.05883</td>\n",
              "      <td>...</td>\n",
              "      <td>22.54</td>\n",
              "      <td>16.67</td>\n",
              "      <td>152.20</td>\n",
              "      <td>1575.0</td>\n",
              "      <td>0.1374</td>\n",
              "      <td>205.0000</td>\n",
              "      <td>0.4000</td>\n",
              "      <td>0.1625</td>\n",
              "      <td>0.2364</td>\n",
              "      <td>0.07678</td>\n",
              "    </tr>\n",
              "  </tbody>\n",
              "</table>\n",
              "<p>5 rows × 30 columns</p>\n",
              "</div>\n",
              "      <button class=\"colab-df-convert\" onclick=\"convertToInteractive('df-62bf97ba-fcb7-453e-8aee-2aa0b44cf6a4')\"\n",
              "              title=\"Convert this dataframe to an interactive table.\"\n",
              "              style=\"display:none;\">\n",
              "\n",
              "  <svg xmlns=\"http://www.w3.org/2000/svg\" height=\"24px\"viewBox=\"0 0 24 24\"\n",
              "       width=\"24px\">\n",
              "    <path d=\"M0 0h24v24H0V0z\" fill=\"none\"/>\n",
              "    <path d=\"M18.56 5.44l.94 2.06.94-2.06 2.06-.94-2.06-.94-.94-2.06-.94 2.06-2.06.94zm-11 1L8.5 8.5l.94-2.06 2.06-.94-2.06-.94L8.5 2.5l-.94 2.06-2.06.94zm10 10l.94 2.06.94-2.06 2.06-.94-2.06-.94-.94-2.06-.94 2.06-2.06.94z\"/><path d=\"M17.41 7.96l-1.37-1.37c-.4-.4-.92-.59-1.43-.59-.52 0-1.04.2-1.43.59L10.3 9.45l-7.72 7.72c-.78.78-.78 2.05 0 2.83L4 21.41c.39.39.9.59 1.41.59.51 0 1.02-.2 1.41-.59l7.78-7.78 2.81-2.81c.8-.78.8-2.07 0-2.86zM5.41 20L4 18.59l7.72-7.72 1.47 1.35L5.41 20z\"/>\n",
              "  </svg>\n",
              "      </button>\n",
              "\n",
              "\n",
              "\n",
              "    <div id=\"df-f7e7a857-a837-4b89-b1f2-50e42aa89b79\">\n",
              "      <button class=\"colab-df-quickchart\" onclick=\"quickchart('df-f7e7a857-a837-4b89-b1f2-50e42aa89b79')\"\n",
              "              title=\"Suggest charts.\"\n",
              "              style=\"display:none;\">\n",
              "\n",
              "<svg xmlns=\"http://www.w3.org/2000/svg\" height=\"24px\"viewBox=\"0 0 24 24\"\n",
              "     width=\"24px\">\n",
              "    <g>\n",
              "        <path d=\"M19 3H5c-1.1 0-2 .9-2 2v14c0 1.1.9 2 2 2h14c1.1 0 2-.9 2-2V5c0-1.1-.9-2-2-2zM9 17H7v-7h2v7zm4 0h-2V7h2v10zm4 0h-2v-4h2v4z\"/>\n",
              "    </g>\n",
              "</svg>\n",
              "      </button>\n",
              "    </div>\n",
              "\n",
              "<style>\n",
              "  .colab-df-quickchart {\n",
              "    background-color: #E8F0FE;\n",
              "    border: none;\n",
              "    border-radius: 50%;\n",
              "    cursor: pointer;\n",
              "    display: none;\n",
              "    fill: #1967D2;\n",
              "    height: 32px;\n",
              "    padding: 0 0 0 0;\n",
              "    width: 32px;\n",
              "  }\n",
              "\n",
              "  .colab-df-quickchart:hover {\n",
              "    background-color: #E2EBFA;\n",
              "    box-shadow: 0px 1px 2px rgba(60, 64, 67, 0.3), 0px 1px 3px 1px rgba(60, 64, 67, 0.15);\n",
              "    fill: #174EA6;\n",
              "  }\n",
              "\n",
              "  [theme=dark] .colab-df-quickchart {\n",
              "    background-color: #3B4455;\n",
              "    fill: #D2E3FC;\n",
              "  }\n",
              "\n",
              "  [theme=dark] .colab-df-quickchart:hover {\n",
              "    background-color: #434B5C;\n",
              "    box-shadow: 0px 1px 3px 1px rgba(0, 0, 0, 0.15);\n",
              "    filter: drop-shadow(0px 1px 2px rgba(0, 0, 0, 0.3));\n",
              "    fill: #FFFFFF;\n",
              "  }\n",
              "</style>\n",
              "\n",
              "    <script>\n",
              "      async function quickchart(key) {\n",
              "        const containerElement = document.querySelector('#' + key);\n",
              "        const charts = await google.colab.kernel.invokeFunction(\n",
              "            'suggestCharts', [key], {});\n",
              "      }\n",
              "    </script>\n",
              "\n",
              "      <script>\n",
              "\n",
              "function displayQuickchartButton(domScope) {\n",
              "  let quickchartButtonEl =\n",
              "    domScope.querySelector('#df-f7e7a857-a837-4b89-b1f2-50e42aa89b79 button.colab-df-quickchart');\n",
              "  quickchartButtonEl.style.display =\n",
              "    google.colab.kernel.accessAllowed ? 'block' : 'none';\n",
              "}\n",
              "\n",
              "        displayQuickchartButton(document);\n",
              "      </script>\n",
              "      <style>\n",
              "    .colab-df-container {\n",
              "      display:flex;\n",
              "      flex-wrap:wrap;\n",
              "      gap: 12px;\n",
              "    }\n",
              "\n",
              "    .colab-df-convert {\n",
              "      background-color: #E8F0FE;\n",
              "      border: none;\n",
              "      border-radius: 50%;\n",
              "      cursor: pointer;\n",
              "      display: none;\n",
              "      fill: #1967D2;\n",
              "      height: 32px;\n",
              "      padding: 0 0 0 0;\n",
              "      width: 32px;\n",
              "    }\n",
              "\n",
              "    .colab-df-convert:hover {\n",
              "      background-color: #E2EBFA;\n",
              "      box-shadow: 0px 1px 2px rgba(60, 64, 67, 0.3), 0px 1px 3px 1px rgba(60, 64, 67, 0.15);\n",
              "      fill: #174EA6;\n",
              "    }\n",
              "\n",
              "    [theme=dark] .colab-df-convert {\n",
              "      background-color: #3B4455;\n",
              "      fill: #D2E3FC;\n",
              "    }\n",
              "\n",
              "    [theme=dark] .colab-df-convert:hover {\n",
              "      background-color: #434B5C;\n",
              "      box-shadow: 0px 1px 3px 1px rgba(0, 0, 0, 0.15);\n",
              "      filter: drop-shadow(0px 1px 2px rgba(0, 0, 0, 0.3));\n",
              "      fill: #FFFFFF;\n",
              "    }\n",
              "  </style>\n",
              "\n",
              "      <script>\n",
              "        const buttonEl =\n",
              "          document.querySelector('#df-62bf97ba-fcb7-453e-8aee-2aa0b44cf6a4 button.colab-df-convert');\n",
              "        buttonEl.style.display =\n",
              "          google.colab.kernel.accessAllowed ? 'block' : 'none';\n",
              "\n",
              "        async function convertToInteractive(key) {\n",
              "          const element = document.querySelector('#df-62bf97ba-fcb7-453e-8aee-2aa0b44cf6a4');\n",
              "          const dataTable =\n",
              "            await google.colab.kernel.invokeFunction('convertToInteractive',\n",
              "                                                     [key], {});\n",
              "          if (!dataTable) return;\n",
              "\n",
              "          const docLinkHtml = 'Like what you see? Visit the ' +\n",
              "            '<a target=\"_blank\" href=https://colab.research.google.com/notebooks/data_table.ipynb>data table notebook</a>'\n",
              "            + ' to learn more about interactive tables.';\n",
              "          element.innerHTML = '';\n",
              "          dataTable['output_type'] = 'display_data';\n",
              "          await google.colab.output.renderOutput(dataTable, element);\n",
              "          const docLink = document.createElement('div');\n",
              "          docLink.innerHTML = docLinkHtml;\n",
              "          element.appendChild(docLink);\n",
              "        }\n",
              "      </script>\n",
              "    </div>\n",
              "  </div>\n"
            ]
          },
          "metadata": {},
          "execution_count": 7
        }
      ]
    },
    {
      "cell_type": "code",
      "source": [
        "classe.head()"
      ],
      "metadata": {
        "colab": {
          "base_uri": "https://localhost:8080/",
          "height": 206
        },
        "id": "55FTNTiL7ONY",
        "outputId": "2091c192-a01c-4822-da20-ca4d73528499"
      },
      "execution_count": 8,
      "outputs": [
        {
          "output_type": "execute_result",
          "data": {
            "text/plain": [
              "   0\n",
              "0  0\n",
              "1  0\n",
              "2  0\n",
              "3  0\n",
              "4  0"
            ],
            "text/html": [
              "\n",
              "\n",
              "  <div id=\"df-c45281d2-4d0e-4ad4-a3af-ae620e892812\">\n",
              "    <div class=\"colab-df-container\">\n",
              "      <div>\n",
              "<style scoped>\n",
              "    .dataframe tbody tr th:only-of-type {\n",
              "        vertical-align: middle;\n",
              "    }\n",
              "\n",
              "    .dataframe tbody tr th {\n",
              "        vertical-align: top;\n",
              "    }\n",
              "\n",
              "    .dataframe thead th {\n",
              "        text-align: right;\n",
              "    }\n",
              "</style>\n",
              "<table border=\"1\" class=\"dataframe\">\n",
              "  <thead>\n",
              "    <tr style=\"text-align: right;\">\n",
              "      <th></th>\n",
              "      <th>0</th>\n",
              "    </tr>\n",
              "  </thead>\n",
              "  <tbody>\n",
              "    <tr>\n",
              "      <th>0</th>\n",
              "      <td>0</td>\n",
              "    </tr>\n",
              "    <tr>\n",
              "      <th>1</th>\n",
              "      <td>0</td>\n",
              "    </tr>\n",
              "    <tr>\n",
              "      <th>2</th>\n",
              "      <td>0</td>\n",
              "    </tr>\n",
              "    <tr>\n",
              "      <th>3</th>\n",
              "      <td>0</td>\n",
              "    </tr>\n",
              "    <tr>\n",
              "      <th>4</th>\n",
              "      <td>0</td>\n",
              "    </tr>\n",
              "  </tbody>\n",
              "</table>\n",
              "</div>\n",
              "      <button class=\"colab-df-convert\" onclick=\"convertToInteractive('df-c45281d2-4d0e-4ad4-a3af-ae620e892812')\"\n",
              "              title=\"Convert this dataframe to an interactive table.\"\n",
              "              style=\"display:none;\">\n",
              "\n",
              "  <svg xmlns=\"http://www.w3.org/2000/svg\" height=\"24px\"viewBox=\"0 0 24 24\"\n",
              "       width=\"24px\">\n",
              "    <path d=\"M0 0h24v24H0V0z\" fill=\"none\"/>\n",
              "    <path d=\"M18.56 5.44l.94 2.06.94-2.06 2.06-.94-2.06-.94-.94-2.06-.94 2.06-2.06.94zm-11 1L8.5 8.5l.94-2.06 2.06-.94-2.06-.94L8.5 2.5l-.94 2.06-2.06.94zm10 10l.94 2.06.94-2.06 2.06-.94-2.06-.94-.94-2.06-.94 2.06-2.06.94z\"/><path d=\"M17.41 7.96l-1.37-1.37c-.4-.4-.92-.59-1.43-.59-.52 0-1.04.2-1.43.59L10.3 9.45l-7.72 7.72c-.78.78-.78 2.05 0 2.83L4 21.41c.39.39.9.59 1.41.59.51 0 1.02-.2 1.41-.59l7.78-7.78 2.81-2.81c.8-.78.8-2.07 0-2.86zM5.41 20L4 18.59l7.72-7.72 1.47 1.35L5.41 20z\"/>\n",
              "  </svg>\n",
              "      </button>\n",
              "\n",
              "\n",
              "\n",
              "    <div id=\"df-656371fc-3d4f-4728-aadd-98f4fcd399ba\">\n",
              "      <button class=\"colab-df-quickchart\" onclick=\"quickchart('df-656371fc-3d4f-4728-aadd-98f4fcd399ba')\"\n",
              "              title=\"Suggest charts.\"\n",
              "              style=\"display:none;\">\n",
              "\n",
              "<svg xmlns=\"http://www.w3.org/2000/svg\" height=\"24px\"viewBox=\"0 0 24 24\"\n",
              "     width=\"24px\">\n",
              "    <g>\n",
              "        <path d=\"M19 3H5c-1.1 0-2 .9-2 2v14c0 1.1.9 2 2 2h14c1.1 0 2-.9 2-2V5c0-1.1-.9-2-2-2zM9 17H7v-7h2v7zm4 0h-2V7h2v10zm4 0h-2v-4h2v4z\"/>\n",
              "    </g>\n",
              "</svg>\n",
              "      </button>\n",
              "    </div>\n",
              "\n",
              "<style>\n",
              "  .colab-df-quickchart {\n",
              "    background-color: #E8F0FE;\n",
              "    border: none;\n",
              "    border-radius: 50%;\n",
              "    cursor: pointer;\n",
              "    display: none;\n",
              "    fill: #1967D2;\n",
              "    height: 32px;\n",
              "    padding: 0 0 0 0;\n",
              "    width: 32px;\n",
              "  }\n",
              "\n",
              "  .colab-df-quickchart:hover {\n",
              "    background-color: #E2EBFA;\n",
              "    box-shadow: 0px 1px 2px rgba(60, 64, 67, 0.3), 0px 1px 3px 1px rgba(60, 64, 67, 0.15);\n",
              "    fill: #174EA6;\n",
              "  }\n",
              "\n",
              "  [theme=dark] .colab-df-quickchart {\n",
              "    background-color: #3B4455;\n",
              "    fill: #D2E3FC;\n",
              "  }\n",
              "\n",
              "  [theme=dark] .colab-df-quickchart:hover {\n",
              "    background-color: #434B5C;\n",
              "    box-shadow: 0px 1px 3px 1px rgba(0, 0, 0, 0.15);\n",
              "    filter: drop-shadow(0px 1px 2px rgba(0, 0, 0, 0.3));\n",
              "    fill: #FFFFFF;\n",
              "  }\n",
              "</style>\n",
              "\n",
              "    <script>\n",
              "      async function quickchart(key) {\n",
              "        const containerElement = document.querySelector('#' + key);\n",
              "        const charts = await google.colab.kernel.invokeFunction(\n",
              "            'suggestCharts', [key], {});\n",
              "      }\n",
              "    </script>\n",
              "\n",
              "      <script>\n",
              "\n",
              "function displayQuickchartButton(domScope) {\n",
              "  let quickchartButtonEl =\n",
              "    domScope.querySelector('#df-656371fc-3d4f-4728-aadd-98f4fcd399ba button.colab-df-quickchart');\n",
              "  quickchartButtonEl.style.display =\n",
              "    google.colab.kernel.accessAllowed ? 'block' : 'none';\n",
              "}\n",
              "\n",
              "        displayQuickchartButton(document);\n",
              "      </script>\n",
              "      <style>\n",
              "    .colab-df-container {\n",
              "      display:flex;\n",
              "      flex-wrap:wrap;\n",
              "      gap: 12px;\n",
              "    }\n",
              "\n",
              "    .colab-df-convert {\n",
              "      background-color: #E8F0FE;\n",
              "      border: none;\n",
              "      border-radius: 50%;\n",
              "      cursor: pointer;\n",
              "      display: none;\n",
              "      fill: #1967D2;\n",
              "      height: 32px;\n",
              "      padding: 0 0 0 0;\n",
              "      width: 32px;\n",
              "    }\n",
              "\n",
              "    .colab-df-convert:hover {\n",
              "      background-color: #E2EBFA;\n",
              "      box-shadow: 0px 1px 2px rgba(60, 64, 67, 0.3), 0px 1px 3px 1px rgba(60, 64, 67, 0.15);\n",
              "      fill: #174EA6;\n",
              "    }\n",
              "\n",
              "    [theme=dark] .colab-df-convert {\n",
              "      background-color: #3B4455;\n",
              "      fill: #D2E3FC;\n",
              "    }\n",
              "\n",
              "    [theme=dark] .colab-df-convert:hover {\n",
              "      background-color: #434B5C;\n",
              "      box-shadow: 0px 1px 3px 1px rgba(0, 0, 0, 0.15);\n",
              "      filter: drop-shadow(0px 1px 2px rgba(0, 0, 0, 0.3));\n",
              "      fill: #FFFFFF;\n",
              "    }\n",
              "  </style>\n",
              "\n",
              "      <script>\n",
              "        const buttonEl =\n",
              "          document.querySelector('#df-c45281d2-4d0e-4ad4-a3af-ae620e892812 button.colab-df-convert');\n",
              "        buttonEl.style.display =\n",
              "          google.colab.kernel.accessAllowed ? 'block' : 'none';\n",
              "\n",
              "        async function convertToInteractive(key) {\n",
              "          const element = document.querySelector('#df-c45281d2-4d0e-4ad4-a3af-ae620e892812');\n",
              "          const dataTable =\n",
              "            await google.colab.kernel.invokeFunction('convertToInteractive',\n",
              "                                                     [key], {});\n",
              "          if (!dataTable) return;\n",
              "\n",
              "          const docLinkHtml = 'Like what you see? Visit the ' +\n",
              "            '<a target=\"_blank\" href=https://colab.research.google.com/notebooks/data_table.ipynb>data table notebook</a>'\n",
              "            + ' to learn more about interactive tables.';\n",
              "          element.innerHTML = '';\n",
              "          dataTable['output_type'] = 'display_data';\n",
              "          await google.colab.output.renderOutput(dataTable, element);\n",
              "          const docLink = document.createElement('div');\n",
              "          docLink.innerHTML = docLinkHtml;\n",
              "          element.appendChild(docLink);\n",
              "        }\n",
              "      </script>\n",
              "    </div>\n",
              "  </div>\n"
            ]
          },
          "metadata": {},
          "execution_count": 8
        }
      ]
    },
    {
      "cell_type": "code",
      "source": [
        "np.unique(classe)"
      ],
      "metadata": {
        "colab": {
          "base_uri": "https://localhost:8080/"
        },
        "id": "nhg_bRLq7XNU",
        "outputId": "b375f176-aa5d-4070-b977-fca49f4de38a"
      },
      "execution_count": 9,
      "outputs": [
        {
          "output_type": "execute_result",
          "data": {
            "text/plain": [
              "array([0, 1])"
            ]
          },
          "metadata": {},
          "execution_count": 9
        }
      ]
    },
    {
      "cell_type": "code",
      "source": [
        "sns.countplot(x=classe['0'])"
      ],
      "metadata": {
        "colab": {
          "base_uri": "https://localhost:8080/",
          "height": 466
        },
        "id": "A8nJH17w7dEP",
        "outputId": "09a76f86-55be-4731-8812-b2a4cc3165e6"
      },
      "execution_count": 10,
      "outputs": [
        {
          "output_type": "execute_result",
          "data": {
            "text/plain": [
              "<Axes: xlabel='0', ylabel='count'>"
            ]
          },
          "metadata": {},
          "execution_count": 10
        },
        {
          "output_type": "display_data",
          "data": {
            "text/plain": [
              "<Figure size 640x480 with 1 Axes>"
            ],
            "image/png": "[encoded data removed]"
          },
          "metadata": {}
        }
      ]
    },
    {
      "cell_type": "code",
      "source": [
        "previsores_train, previsores_test, classe_train, classe_test = train_test_split(previsores,\n",
        "                                                                               classe,\n",
        "                                                                               test_size = 0.25)"
      ],
      "metadata": {
        "id": "gld6l0R87haV"
      },
      "execution_count": 11,
      "outputs": []
    },
    {
      "cell_type": "code",
      "source": [
        "previsores_train.shape"
      ],
      "metadata": {
        "colab": {
          "base_uri": "https://localhost:8080/"
        },
        "id": "CUjcuSks9shE",
        "outputId": "3ed337fb-eb3e-4cd0-a613-37f3aa9f4a17"
      },
      "execution_count": 12,
      "outputs": [
        {
          "output_type": "execute_result",
          "data": {
            "text/plain": [
              "(426, 30)"
            ]
          },
          "metadata": {},
          "execution_count": 12
        }
      ]
    },
    {
      "cell_type": "code",
      "source": [
        "classe_train.shape"
      ],
      "metadata": {
        "colab": {
          "base_uri": "https://localhost:8080/"
        },
        "id": "klXQSqHA9vv-",
        "outputId": "a2c270ff-6776-4b18-d994-70fcea7f01f8"
      },
      "execution_count": 13,
      "outputs": [
        {
          "output_type": "execute_result",
          "data": {
            "text/plain": [
              "(426, 1)"
            ]
          },
          "metadata": {},
          "execution_count": 13
        }
      ]
    },
    {
      "cell_type": "code",
      "source": [
        "previsores_test.shape"
      ],
      "metadata": {
        "colab": {
          "base_uri": "https://localhost:8080/"
        },
        "id": "z0LcTLoo91sA",
        "outputId": "05a02ae1-7561-49b5-b718-407eca0568f9"
      },
      "execution_count": 14,
      "outputs": [
        {
          "output_type": "execute_result",
          "data": {
            "text/plain": [
              "(143, 30)"
            ]
          },
          "metadata": {},
          "execution_count": 14
        }
      ]
    },
    {
      "cell_type": "code",
      "source": [
        "classe_test.shape"
      ],
      "metadata": {
        "colab": {
          "base_uri": "https://localhost:8080/"
        },
        "id": "NlIrPZDT-Eeh",
        "outputId": "bbd33873-d25d-4ac0-ab7d-abf76640a558"
      },
      "execution_count": 15,
      "outputs": [
        {
          "output_type": "execute_result",
          "data": {
            "text/plain": [
              "(143, 1)"
            ]
          },
          "metadata": {},
          "execution_count": 15
        }
      ]
    },
    {
      "cell_type": "code",
      "source": [],
      "metadata": {
        "id": "vS5ng2Uv-INV"
      },
      "execution_count": 15,
      "outputs": []
    },
    {
      "cell_type": "markdown",
      "source": [
        "### Transformação em tensores:\n",
        "\n",
        "##### Essencial para processamento em GPUs"
      ],
      "metadata": {
        "id": "iMjDJRI5-Qk2"
      }
    },
    {
      "cell_type": "code",
      "source": [
        "type(previsores_train)"
      ],
      "metadata": {
        "colab": {
          "base_uri": "https://localhost:8080/"
        },
        "id": "71ii63IR-TLU",
        "outputId": "95e0d4d4-4e06-430c-c68f-b649df406596"
      },
      "execution_count": 16,
      "outputs": [
        {
          "output_type": "execute_result",
          "data": {
            "text/plain": [
              "pandas.core.frame.DataFrame"
            ]
          },
          "metadata": {},
          "execution_count": 16
        }
      ]
    },
    {
      "cell_type": "code",
      "source": [
        "type(np.array(previsores_train))"
      ],
      "metadata": {
        "colab": {
          "base_uri": "https://localhost:8080/"
        },
        "id": "c4_33HEb-XNQ",
        "outputId": "a2008091-93d6-41ae-d6b4-03744bf52866"
      },
      "execution_count": 17,
      "outputs": [
        {
          "output_type": "execute_result",
          "data": {
            "text/plain": [
              "numpy.ndarray"
            ]
          },
          "metadata": {},
          "execution_count": 17
        }
      ]
    },
    {
      "cell_type": "code",
      "source": [
        "previsores_train = torch.tensor(np.array(previsores_train), dtype = torch.float)\n",
        "classe_train = torch.tensor(np.array(classe_train), dtype = torch.float)"
      ],
      "metadata": {
        "id": "QjG2y_q7-gxZ"
      },
      "execution_count": 18,
      "outputs": []
    },
    {
      "cell_type": "code",
      "source": [
        "type(previsores_train)"
      ],
      "metadata": {
        "colab": {
          "base_uri": "https://localhost:8080/"
        },
        "id": "zg53Wqw2_Gci",
        "outputId": "21f37d75-8046-41cd-d3da-ccc3010f14eb"
      },
      "execution_count": 19,
      "outputs": [
        {
          "output_type": "execute_result",
          "data": {
            "text/plain": [
              "torch.Tensor"
            ]
          },
          "metadata": {},
          "execution_count": 19
        }
      ]
    },
    {
      "cell_type": "code",
      "source": [
        "type(classe_train)"
      ],
      "metadata": {
        "colab": {
          "base_uri": "https://localhost:8080/"
        },
        "id": "CLOVRRFr_eaX",
        "outputId": "51f772e6-0e2b-41e2-ceaa-f7cca828c812"
      },
      "execution_count": 20,
      "outputs": [
        {
          "output_type": "execute_result",
          "data": {
            "text/plain": [
              "torch.Tensor"
            ]
          },
          "metadata": {},
          "execution_count": 20
        }
      ]
    },
    {
      "cell_type": "markdown",
      "source": [
        "#### Criação de um dataset com união dos previsres e classes:"
      ],
      "metadata": {
        "id": "wNCCss9tACcx"
      }
    },
    {
      "cell_type": "code",
      "source": [
        "dataset = torch.utils.data.TensorDataset(previsores_train, classe_train)"
      ],
      "metadata": {
        "id": "tYalOFt__g2-"
      },
      "execution_count": 21,
      "outputs": []
    },
    {
      "cell_type": "code",
      "source": [
        "type(dataset)"
      ],
      "metadata": {
        "colab": {
          "base_uri": "https://localhost:8080/"
        },
        "id": "vn-Wkaa1AQvm",
        "outputId": "65893fda-a9a4-4027-bd82-0573fcb8f981"
      },
      "execution_count": 22,
      "outputs": [
        {
          "output_type": "execute_result",
          "data": {
            "text/plain": [
              "torch.utils.data.dataset.TensorDataset"
            ]
          },
          "metadata": {},
          "execution_count": 22
        }
      ]
    },
    {
      "cell_type": "code",
      "source": [
        "train_loader = torch.utils.data.DataLoader(dataset, batch_size=10, shuffle=True)"
      ],
      "metadata": {
        "id": "h8yf2Y7MAU-K"
      },
      "execution_count": 23,
      "outputs": []
    },
    {
      "cell_type": "code",
      "source": [],
      "metadata": {
        "id": "4sRCcHICBLuv"
      },
      "execution_count": 23,
      "outputs": []
    },
    {
      "cell_type": "markdown",
      "source": [
        "### Construção do modelo:"
      ],
      "metadata": {
        "id": "qBI-F7_DBMbf"
      }
    },
    {
      "cell_type": "code",
      "source": [
        "# 30 neurônios no input = 30 atributos previsores\n",
        "# 16 neurônios 1° camada oculta\n",
        "# 16 neurônios 2° camada oculta\n",
        "# pq 16 neurônios nas redes ocultas? -> (entradas + saídas) / 2 = (30+1)/2 = 16\n",
        "# 1 neurônio na camada de saída (probabilidade de uma classe 0 ou 1)\n",
        "\n",
        "classificador = nn.Sequential( # sequencia de camada\n",
        "\n",
        "    nn.Linear(in_features=30, out_features=16,), # Linear = todas as camadas de entrada ligado a todos de saída\n",
        "    nn.ReLU(), # função de ativação aplicado no 1° camdada de 16 neurônios\n",
        "\n",
        "    nn.Linear(16, 16), # Linear = todas as 16 camadas ligadas aos próximos 16 neurônios\n",
        "    nn.ReLU(), # função de ativação aplicado no 2° camada de 16 neurônios\n",
        "\n",
        "    nn.Linear(16, 1), # Linear = todas as 16 camadas ligadas ao neurônio de saída\n",
        "    nn.Sigmoid(), # função de ativação na camada com 1 neurônio\n",
        ")\n"
      ],
      "metadata": {
        "id": "hdzyUVFuBOgG"
      },
      "execution_count": 24,
      "outputs": []
    },
    {
      "cell_type": "code",
      "source": [
        "# observar a estrutura da rede neural:\n",
        "\n",
        "classificador.parameters"
      ],
      "metadata": {
        "colab": {
          "base_uri": "https://localhost:8080/"
        },
        "id": "XBdDGExFEZP2",
        "outputId": "de75b6ad-1734-4af5-d3b5-1b393c4a751d"
      },
      "execution_count": 25,
      "outputs": [
        {
          "output_type": "execute_result",
          "data": {
            "text/plain": [
              "<bound method Module.parameters of Sequential(\n",
              "  (0): Linear(in_features=30, out_features=16, bias=True)\n",
              "  (1): ReLU()\n",
              "  (2): Linear(in_features=16, out_features=16, bias=True)\n",
              "  (3): ReLU()\n",
              "  (4): Linear(in_features=16, out_features=1, bias=True)\n",
              "  (5): Sigmoid()\n",
              ")>"
            ]
          },
          "metadata": {},
          "execution_count": 25
        }
      ]
    },
    {
      "cell_type": "code",
      "source": [
        "# Função de erro:\n",
        "\n",
        "criterion = nn.BCELoss()\n",
        "# Binary cross entropy (comparação entre previsão e gabarito)"
      ],
      "metadata": {
        "id": "unaZfXUTE6PO"
      },
      "execution_count": 26,
      "outputs": []
    },
    {
      "cell_type": "code",
      "source": [
        "# Otimizador\n",
        "\n",
        "optimizer = torch.optim.Adam(classificador.parameters(),\n",
        "                             lr = 0.001, # taxa de aprendizado\n",
        "                             weight_decay = 0.0001) # decaimento dos pesos\n",
        "                             # diminui lr com o passar das epocas"
      ],
      "metadata": {
        "id": "8OPpzysMFD4B"
      },
      "execution_count": 27,
      "outputs": []
    },
    {
      "cell_type": "code",
      "source": [
        "# Necessário um For para treinamento (diferente do TensorFLow ou Sklearn que tem um fit)\n",
        "for epoch in range(100): # Em 1 epoca passando por 426 registros de 10 em 10 (batch) registros\n",
        "  running_loss = 0. # Inicializar o acumulador do erro\n",
        "\n",
        "  for data in train_loader: # train_loader = dados dividido em 10 em 10 registros\n",
        "\n",
        "    inputs, labels = data # inputs=previsores e labels=classes\n",
        "    optimizer.zero_grad() # zerar, pq em cada ajuste de peso é necessario calcular o gradiente separadamente\n",
        "\n",
        "    outputs = classificador(inputs) #passando os inputs no modelo e gerando os outputs -> processo forward na rede (esqeurda p/ direita)\n",
        "    # outputs-> classificador.forward(inputs)\n",
        "    loss = criterion(outputs, labels) #calculo do erro entre labels reais e preditos\n",
        "    loss.backward() #voltando e atualizando os pesos processo de backward na rede (direita p/ esquerda)\n",
        "    optimizer.step() #atualização dos pesos usando o \"Adam\"\n",
        "\n",
        "    running_loss += loss.item() #somatorio do erro\n",
        "  print('Época %3d: perda %.5f' % (epoch+1, running_loss/len(train_loader)))\n"
      ],
      "metadata": {
        "colab": {
          "base_uri": "https://localhost:8080/"
        },
        "id": "mV1iDbiCFiHm",
        "outputId": "b0d5d044-ba67-40d4-c5f1-710d3983631c"
      },
      "execution_count": 28,
      "outputs": [
        {
          "output_type": "stream",
          "name": "stdout",
          "text": [
            "Época   1: perda 10.76845\n",
            "Época   2: perda 2.76033\n",
            "Época   3: perda 1.41596\n",
            "Época   4: perda 0.70450\n",
            "Época   5: perda 0.68355\n",
            "Época   6: perda 0.38389\n",
            "Época   7: perda 0.60377\n",
            "Época   8: perda 0.28244\n",
            "Época   9: perda 0.25952\n",
            "Época  10: perda 0.24751\n",
            "Época  11: perda 0.31085\n",
            "Época  12: perda 0.23567\n",
            "Época  13: perda 0.25210\n",
            "Época  14: perda 0.23270\n",
            "Época  15: perda 0.23848\n",
            "Época  16: perda 0.20633\n",
            "Época  17: perda 0.24387\n",
            "Época  18: perda 0.28400\n",
            "Época  19: perda 0.22199\n",
            "Época  20: perda 0.22885\n",
            "Época  21: perda 0.19840\n",
            "Época  22: perda 0.26132\n",
            "Época  23: perda 0.27163\n",
            "Época  24: perda 0.22426\n",
            "Época  25: perda 0.26579\n",
            "Época  26: perda 0.22590\n",
            "Época  27: perda 0.20857\n",
            "Época  28: perda 0.20451\n",
            "Época  29: perda 0.20278\n",
            "Época  30: perda 0.20289\n",
            "Época  31: perda 0.23885\n",
            "Época  32: perda 0.19190\n",
            "Época  33: perda 0.24389\n",
            "Época  34: perda 0.38608\n",
            "Época  35: perda 0.23924\n",
            "Época  36: perda 0.26869\n",
            "Época  37: perda 0.22983\n",
            "Época  38: perda 0.35327\n",
            "Época  39: perda 0.41073\n",
            "Época  40: perda 0.23598\n",
            "Época  41: perda 0.24683\n",
            "Época  42: perda 0.17950\n",
            "Época  43: perda 0.17404\n",
            "Época  44: perda 0.20017\n",
            "Época  45: perda 0.19187\n",
            "Época  46: perda 0.16739\n",
            "Época  47: perda 0.22035\n",
            "Época  48: perda 0.20409\n",
            "Época  49: perda 0.17189\n",
            "Época  50: perda 0.18399\n",
            "Época  51: perda 0.18035\n",
            "Época  52: perda 0.18436\n",
            "Época  53: perda 0.17365\n",
            "Época  54: perda 0.19575\n",
            "Época  55: perda 0.18712\n",
            "Época  56: perda 0.18084\n",
            "Época  57: perda 0.19334\n",
            "Época  58: perda 0.19100\n",
            "Época  59: perda 0.16328\n",
            "Época  60: perda 0.19409\n",
            "Época  61: perda 0.15603\n",
            "Época  62: perda 0.21006\n",
            "Época  63: perda 0.14880\n",
            "Época  64: perda 0.17919\n",
            "Época  65: perda 0.23830\n",
            "Época  66: perda 0.24273\n",
            "Época  67: perda 0.15340\n",
            "Época  68: perda 0.16052\n",
            "Época  69: perda 0.16396\n",
            "Época  70: perda 0.17297\n",
            "Época  71: perda 0.15893\n",
            "Época  72: perda 0.15543\n",
            "Época  73: perda 0.19978\n",
            "Época  74: perda 0.18473\n",
            "Época  75: perda 0.16940\n",
            "Época  76: perda 0.13820\n",
            "Época  77: perda 0.15342\n",
            "Época  78: perda 0.17160\n",
            "Época  79: perda 0.17440\n",
            "Época  80: perda 0.19348\n",
            "Época  81: perda 0.16987\n",
            "Época  82: perda 0.15534\n",
            "Época  83: perda 0.16130\n",
            "Época  84: perda 0.15593\n",
            "Época  85: perda 0.15051\n",
            "Época  86: perda 0.15632\n",
            "Época  87: perda 0.18837\n",
            "Época  88: perda 0.16734\n",
            "Época  89: perda 0.18310\n",
            "Época  90: perda 0.17599\n",
            "Época  91: perda 0.15742\n",
            "Época  92: perda 0.16861\n",
            "Época  93: perda 0.17069\n",
            "Época  94: perda 0.18726\n",
            "Época  95: perda 0.18152\n",
            "Época  96: perda 0.16691\n",
            "Época  97: perda 0.15681\n",
            "Época  98: perda 0.14507\n",
            "Época  99: perda 0.15358\n",
            "Época 100: perda 0.15444\n"
          ]
        }
      ]
    },
    {
      "cell_type": "code",
      "source": [],
      "metadata": {
        "id": "B-GdMs6zMS3M"
      },
      "execution_count": 28,
      "outputs": []
    },
    {
      "cell_type": "markdown",
      "source": [
        "### Visuzalização dos pesos:"
      ],
      "metadata": {
        "id": "VigzDj6-cglC"
      }
    },
    {
      "cell_type": "code",
      "source": [
        "params = list(classificador.parameters())\n"
      ],
      "metadata": {
        "id": "Q4c7IswAckt1"
      },
      "execution_count": 29,
      "outputs": []
    },
    {
      "cell_type": "code",
      "source": [
        "pesos0 = params[0]\n",
        "pesos0.shape"
      ],
      "metadata": {
        "colab": {
          "base_uri": "https://localhost:8080/"
        },
        "id": "yuZaRTcPcvwm",
        "outputId": "ecf25557-b6f5-424a-8c3f-4f9ee0a4b416"
      },
      "execution_count": 30,
      "outputs": [
        {
          "output_type": "execute_result",
          "data": {
            "text/plain": [
              "torch.Size([16, 30])"
            ]
          },
          "metadata": {},
          "execution_count": 30
        }
      ]
    },
    {
      "cell_type": "code",
      "source": [
        "# ligação (pesos) entre todas os 30 inputs da camadas de entrada com os 16 neurônios da primeira camada oculta\n",
        "print(pesos0)"
      ],
      "metadata": {
        "colab": {
          "base_uri": "https://localhost:8080/"
        },
        "id": "Gi9bHgTsdH4K",
        "outputId": "80c73443-3603-4d90-a4ee-cf2e95e4bf01"
      },
      "execution_count": 31,
      "outputs": [
        {
          "output_type": "stream",
          "name": "stdout",
          "text": [
            "Parameter containing:\n",
            "tensor([[-6.7048e-02,  1.2647e-01, -2.6380e-01,  8.0228e-02, -2.1038e-02,\n",
            "          7.3645e-02, -3.8682e-02,  6.4476e-03,  4.6320e-02, -4.8976e-04,\n",
            "          1.5157e-01,  3.8141e-02,  9.7813e-02,  9.5630e-02,  8.0925e-03,\n",
            "         -1.7582e-01,  1.4276e-01, -1.4056e-01,  6.8774e-02,  2.6168e-01,\n",
            "         -3.2357e-01,  4.1727e-02, -2.4658e-01,  6.9130e-02, -2.9534e-01,\n",
            "         -1.2235e-01, -2.5240e-01, -1.6792e-01, -1.5795e-01,  5.0240e-02],\n",
            "        [ 1.1476e-01, -1.5002e-01, -3.9405e-02,  6.4891e-05,  9.1534e-02,\n",
            "          7.2517e-02,  8.4780e-02,  1.1925e-01, -2.8373e-02, -6.8649e-02,\n",
            "          9.2078e-02, -2.1361e-02,  6.9109e-02,  1.2491e-01,  2.4290e-02,\n",
            "         -2.1839e-01,  1.1823e-01, -1.9843e-01,  1.1583e-01,  1.8124e-01,\n",
            "         -3.7764e-01,  2.6967e-02, -2.6733e-01,  1.6276e-01,  4.6862e-02,\n",
            "          7.9380e-02,  2.8672e-02,  4.0246e-02,  1.2518e-01,  1.0407e-01],\n",
            "        [ 4.3195e-02, -2.5811e-01,  1.4246e-01, -7.2937e-02, -1.6527e-01,\n",
            "          1.2222e-01,  3.9138e-02, -2.3809e-01, -1.7673e-01,  1.7223e-01,\n",
            "          9.4839e-02, -7.9149e-03,  1.1745e-01, -2.2494e-01, -6.1521e-03,\n",
            "         -7.3340e-02, -9.9158e-02,  9.2183e-02,  2.6290e-01, -5.6939e-02,\n",
            "         -3.1800e-03, -3.3379e-01,  1.3782e-01, -1.3056e-01, -3.4716e-03,\n",
            "         -9.1617e-02, -3.8218e-02, -2.9595e-01, -2.0149e-01, -1.0746e-01],\n",
            "        [ 8.8821e-02, -6.0317e-02,  3.1275e-01,  1.7184e-01, -2.6762e-01,\n",
            "         -3.3582e-02,  4.5877e-02, -2.8642e-02,  1.1290e-02, -2.3994e-01,\n",
            "         -5.5897e-02,  3.4274e-02,  1.5613e-03, -2.2053e-01, -4.2142e-02,\n",
            "          1.5312e-01, -4.5466e-01,  2.6459e-01, -2.5416e-01, -3.9402e-01,\n",
            "          4.0701e-01, -8.6131e-02,  2.0564e-01, -1.5236e-01, -8.4136e-02,\n",
            "         -2.2128e-02,  4.7320e-02, -1.0612e-01, -4.1907e-02, -4.1474e-01],\n",
            "        [ 1.3501e-02, -4.0772e-02, -3.3634e-04, -1.1867e-01,  9.1066e-03,\n",
            "         -7.5297e-02, -3.2823e-02, -1.4516e-04,  1.4984e-02,  5.9572e-03,\n",
            "          1.1410e-01,  6.1583e-02, -1.2573e-01,  1.8238e-01,  6.6657e-05,\n",
            "          9.8064e-04,  1.6894e-03,  3.8823e-05,  7.3070e-04,  6.0516e-05,\n",
            "          7.3149e-02, -1.2024e-01,  1.3876e-01, -1.3619e-01,  1.4480e-02,\n",
            "          9.2090e-02,  1.2034e-01,  6.9384e-02,  5.1544e-02,  9.3459e-03],\n",
            "        [ 6.0549e-02, -7.5058e-02,  8.6720e-02, -9.9590e-02,  3.3844e-01,\n",
            "         -3.3562e-01,  2.6207e-01,  3.5905e-01,  1.3568e-01,  2.5742e-01,\n",
            "          2.0201e-01,  2.7414e-02,  2.2684e-02, -1.8240e-01, -1.4530e-03,\n",
            "          4.6672e-02, -6.5529e-02, -1.6770e-02, -1.7453e-01, -1.7808e-01,\n",
            "          1.0832e-02, -1.4051e-01,  1.4784e-01, -6.0195e-02,  4.8304e-02,\n",
            "         -2.0371e-01, -1.1830e-01,  1.6420e-01,  2.9488e-01, -3.5432e-01],\n",
            "        [ 1.0992e-01,  5.0213e-02,  1.7151e-01, -5.8092e-02, -2.2454e-02,\n",
            "          8.6195e-02,  1.3874e-02,  2.8137e-02, -6.4677e-03,  4.0278e-01,\n",
            "         -5.2417e-02, -8.8593e-02,  7.6948e-02,  2.0087e-01, -1.5659e-02,\n",
            "         -4.3934e-02, -4.2917e-02,  2.0814e-01,  1.5567e-01, -2.0714e-01,\n",
            "         -1.2042e-02, -2.0320e-01,  2.4245e-01,  3.6519e-02,  1.8116e-02,\n",
            "         -1.1502e-01, -4.2715e-02, -1.6214e-01, -3.7538e-03, -1.5701e-01],\n",
            "        [ 7.7793e-02, -4.3990e-02, -2.6754e-01, -1.4515e-01,  7.8199e-03,\n",
            "          8.8361e-02,  2.9317e-01, -4.9156e-01, -1.9329e-01,  2.9888e-02,\n",
            "         -1.2303e-01,  1.0965e-01, -5.5233e-02, -3.2381e-02,  4.3112e-03,\n",
            "         -2.2615e-01,  1.1543e-01, -1.9467e-02,  2.4876e-01,  1.2911e-01,\n",
            "         -2.6156e-01,  6.5393e-02,  1.4073e-02,  1.4570e-01,  2.7911e-01,\n",
            "         -9.1465e-02, -2.4093e-01, -1.2874e-01, -2.4784e-01, -9.9299e-02],\n",
            "        [ 2.9534e-02, -6.7833e-02, -2.9292e-02, -9.6404e-02, -2.5079e-18,\n",
            "         -5.2966e-19, -9.2912e-29, -6.0414e-39, -3.9808e-02,  6.0657e-25,\n",
            "         -2.7435e-02, -1.2573e-01, -2.7512e-02, -6.9255e-02, -2.4147e-39,\n",
            "          1.7785e-39,  3.4913e-34, -1.0210e-39,  1.2438e-39, -1.4174e-41,\n",
            "          5.9436e-02, -1.1471e-01,  8.1167e-02, -7.8333e-02,  1.2291e-13,\n",
            "          1.1026e-01, -4.4947e-10, -1.9528e-26, -4.9736e-08, -1.4130e-17],\n",
            "        [ 1.2716e-01, -9.6606e-02,  2.8694e-01,  1.6601e-01, -3.0490e-01,\n",
            "         -3.3055e-01, -6.4633e-02, -1.0475e-01,  4.9065e-02,  2.5819e-01,\n",
            "          7.0250e-02, -1.3344e-01,  1.2577e-02, -1.7376e-01, -5.7487e-03,\n",
            "         -2.4566e-01, -1.4370e-01,  3.8815e-01,  5.1748e-01, -2.0230e-02,\n",
            "          2.0967e-01, -9.0606e-02,  1.4338e-02, -1.5380e-01,  2.3413e-01,\n",
            "         -3.5903e-02, -2.1231e-02,  1.0400e-01,  6.2561e-02, -2.0216e-02],\n",
            "        [ 2.7853e-02,  1.6159e-01, -9.6482e-03, -1.1881e-01,  1.4118e-02,\n",
            "          1.5208e-01, -5.7755e-02,  1.6146e-01,  1.1630e-02, -1.8267e-01,\n",
            "          1.5855e-01,  1.2441e-02, -1.4102e-01,  1.0609e-01,  1.3661e-03,\n",
            "          1.7644e-01,  9.5820e-02,  2.0391e-01, -1.8304e-01,  3.7370e-05,\n",
            "         -4.8688e-02,  1.6484e-01,  1.7487e-01,  7.0020e-02, -6.9379e-02,\n",
            "         -1.1804e-01, -8.6535e-02, -2.0486e-01, -8.6340e-02, -4.6421e-02],\n",
            "        [ 1.1218e-01,  2.2193e-03, -1.0309e-01, -1.2595e-01, -6.7779e-39,\n",
            "         -9.7354e-40, -1.5592e-34,  1.5075e-39, -6.1587e-03,  5.5889e-40,\n",
            "         -2.1237e-03, -8.6196e-03, -4.4310e-02, -1.0601e-01, -2.3854e-39,\n",
            "         -6.2640e-39,  4.1170e-02, -2.8456e-39, -7.5635e-40, -5.3912e-39,\n",
            "          8.3843e-03,  4.2835e-02,  9.3997e-02,  6.4559e-02,  1.5095e-36,\n",
            "          1.6260e-03,  3.9202e-10, -4.2909e-03, -1.3148e-19, -5.0730e-39],\n",
            "        [ 7.4143e-02, -1.4811e-02, -6.0389e-02,  1.6538e-02,  2.1062e-02,\n",
            "          3.8204e-01, -3.3811e-01,  2.5636e-02,  1.2802e-02,  4.9825e-02,\n",
            "          2.4000e-01,  7.2982e-02, -8.6779e-02, -8.0673e-02, -3.4767e-04,\n",
            "          6.0810e-03,  8.0767e-03,  1.2242e-01, -8.3846e-02, -3.5987e-01,\n",
            "          2.2570e-01, -1.4122e-01,  1.0777e-01,  1.2284e-01,  9.5422e-03,\n",
            "          1.7132e-01, -1.9748e-01, -4.6376e-02,  4.5087e-02, -1.7439e-01],\n",
            "        [-1.5007e-01, -9.1982e-02,  3.1265e-02,  8.3296e-02,  2.4996e-01,\n",
            "         -2.3224e-01, -9.7256e-02, -4.7671e-02,  4.4021e-02, -3.8152e-01,\n",
            "         -3.6908e-02,  5.6293e-02, -5.9912e-02, -3.3120e-02,  5.1604e-03,\n",
            "          1.1874e-01, -1.5311e-01, -1.4603e-01, -3.1566e-01,  3.7452e-02,\n",
            "         -1.4446e-01, -3.0891e-02,  1.1052e-01,  8.5961e-02,  2.5860e-01,\n",
            "         -1.2972e-01,  8.7095e-02,  1.9532e-01, -1.0291e-01, -2.9762e-02],\n",
            "        [-1.7822e-01, -3.7844e-01, -2.7535e-01,  9.2500e-02,  2.3872e-01,\n",
            "          1.8501e-02, -7.3027e-03, -2.8288e-01, -2.6068e-01,  3.9018e-01,\n",
            "          1.1881e-01,  1.3754e-02, -1.2240e-01,  1.5031e-01,  2.1116e-03,\n",
            "         -2.3711e-01, -5.9796e-02, -1.9282e-01,  3.2608e-01,  4.6190e-03,\n",
            "         -2.2752e-01, -2.1180e-01, -1.3080e-01,  1.1792e-01, -2.1733e-02,\n",
            "         -2.6842e-01, -3.3961e-01,  1.2572e-01,  1.5307e-01, -9.0433e-02],\n",
            "        [ 3.0581e-02, -2.1170e-01,  1.2721e-02,  6.3441e-02, -9.9361e-03,\n",
            "         -1.2651e-02, -1.2286e-01,  2.4372e-01,  1.0769e-01, -1.1545e-01,\n",
            "         -2.8654e-02,  1.1394e-05,  3.2059e-02, -2.5998e-01, -3.1251e-02,\n",
            "          3.6120e-02, -1.9893e-01,  1.2675e-01,  5.1787e-02, -1.6271e-01,\n",
            "          3.4288e-01, -1.5071e-02,  2.4994e-01, -3.4623e-02,  3.6937e-03,\n",
            "          1.0811e-01,  5.1947e-02, -8.9355e-02,  6.9783e-02, -2.0119e-01]],\n",
            "       requires_grad=True)\n"
          ]
        }
      ]
    },
    {
      "cell_type": "code",
      "source": [
        "# Unidade de bias na 1° camada oculta\n",
        "bias0 = params[1]\n",
        "bias0.shape"
      ],
      "metadata": {
        "colab": {
          "base_uri": "https://localhost:8080/"
        },
        "id": "GZRBS5m1ddWV",
        "outputId": "05451243-abba-4f17-a31b-6befdd39a0bc"
      },
      "execution_count": 32,
      "outputs": [
        {
          "output_type": "execute_result",
          "data": {
            "text/plain": [
              "torch.Size([16])"
            ]
          },
          "metadata": {},
          "execution_count": 32
        }
      ]
    },
    {
      "cell_type": "code",
      "source": [
        "# ligação (pesos) entre todas os 16 neurônios da primeira camada oculta com os 16 neurônios da segunda camada oculta.\n",
        "pesos1 = params[2]\n",
        "pesos1.shape"
      ],
      "metadata": {
        "colab": {
          "base_uri": "https://localhost:8080/"
        },
        "id": "-p6BK-pFd_ol",
        "outputId": "e6c2d47d-5e2d-4507-c773-490b6ee36c55"
      },
      "execution_count": 33,
      "outputs": [
        {
          "output_type": "execute_result",
          "data": {
            "text/plain": [
              "torch.Size([16, 16])"
            ]
          },
          "metadata": {},
          "execution_count": 33
        }
      ]
    },
    {
      "cell_type": "code",
      "source": [
        "# Unidade de bias na 2° camada oculta\n",
        "bias1 = params[3]\n",
        "bias1.shape"
      ],
      "metadata": {
        "colab": {
          "base_uri": "https://localhost:8080/"
        },
        "id": "z5GZVMXZeK7r",
        "outputId": "a98e5003-74f1-4dc3-edd9-8bc5ccd5c734"
      },
      "execution_count": 34,
      "outputs": [
        {
          "output_type": "execute_result",
          "data": {
            "text/plain": [
              "torch.Size([16])"
            ]
          },
          "metadata": {},
          "execution_count": 34
        }
      ]
    },
    {
      "cell_type": "code",
      "source": [],
      "metadata": {
        "id": "fr3wtnXae1xo"
      },
      "execution_count": 34,
      "outputs": []
    },
    {
      "cell_type": "markdown",
      "source": [
        "### Avaliação do modelo:"
      ],
      "metadata": {
        "id": "NmUp-V8SfD31"
      }
    },
    {
      "cell_type": "code",
      "source": [
        "classificador.eval() # .eval = significa que o classificador em modo avaliação\n"
      ],
      "metadata": {
        "colab": {
          "base_uri": "https://localhost:8080/"
        },
        "id": "OfDvxf0qfFnk",
        "outputId": "1eb04c88-3982-4d37-d5ef-5d3332c37e4f"
      },
      "execution_count": 35,
      "outputs": [
        {
          "output_type": "execute_result",
          "data": {
            "text/plain": [
              "Sequential(\n",
              "  (0): Linear(in_features=30, out_features=16, bias=True)\n",
              "  (1): ReLU()\n",
              "  (2): Linear(in_features=16, out_features=16, bias=True)\n",
              "  (3): ReLU()\n",
              "  (4): Linear(in_features=16, out_features=1, bias=True)\n",
              "  (5): Sigmoid()\n",
              ")"
            ]
          },
          "metadata": {},
          "execution_count": 35
        }
      ]
    },
    {
      "cell_type": "code",
      "source": [
        "type(previsores_test)"
      ],
      "metadata": {
        "colab": {
          "base_uri": "https://localhost:8080/"
        },
        "id": "ZQNa5mbTgyEH",
        "outputId": "5b23cbde-e0a3-4648-9ca6-d4c9255ca161"
      },
      "execution_count": 36,
      "outputs": [
        {
          "output_type": "execute_result",
          "data": {
            "text/plain": [
              "pandas.core.frame.DataFrame"
            ]
          },
          "metadata": {},
          "execution_count": 36
        }
      ]
    },
    {
      "cell_type": "code",
      "source": [
        "previsores_test = torch.tensor(np.array(previsores_test), dtype=torch.float)"
      ],
      "metadata": {
        "id": "_IogBHRgg6Zn"
      },
      "execution_count": 37,
      "outputs": []
    },
    {
      "cell_type": "code",
      "source": [
        "type(previsores_test)"
      ],
      "metadata": {
        "colab": {
          "base_uri": "https://localhost:8080/"
        },
        "id": "qlrl_6fchGMk",
        "outputId": "1de08bf1-6486-4c63-9c10-63436e93453c"
      },
      "execution_count": 38,
      "outputs": [
        {
          "output_type": "execute_result",
          "data": {
            "text/plain": [
              "torch.Tensor"
            ]
          },
          "metadata": {},
          "execution_count": 38
        }
      ]
    },
    {
      "cell_type": "code",
      "source": [
        "previsoes = classificador.forward(previsores_test) # passar pela rede neural em forward"
      ],
      "metadata": {
        "id": "j5moNpFOhIZc"
      },
      "execution_count": 39,
      "outputs": []
    },
    {
      "cell_type": "code",
      "source": [
        "# probabilidade entre 0 e 1\n",
        "previsoes"
      ],
      "metadata": {
        "colab": {
          "base_uri": "https://localhost:8080/"
        },
        "id": "Ta9pu3pAhZ_2",
        "outputId": "85d11c30-4628-4170-f77e-690c6695db5f"
      },
      "execution_count": 40,
      "outputs": [
        {
          "output_type": "execute_result",
          "data": {
            "text/plain": [
              "tensor([[1.7379e-01],\n",
              "        [7.1350e-10],\n",
              "        [1.1734e-04],\n",
              "        [9.9992e-01],\n",
              "        [8.8177e-01],\n",
              "        [5.2573e-12],\n",
              "        [3.1515e-09],\n",
              "        [1.3328e-01],\n",
              "        [9.8356e-01],\n",
              "        [8.7446e-01],\n",
              "        [9.0748e-01],\n",
              "        [6.1902e-04],\n",
              "        [5.6222e-01],\n",
              "        [5.0661e-02],\n",
              "        [1.0000e+00],\n",
              "        [5.4049e-01],\n",
              "        [9.7615e-01],\n",
              "        [9.9335e-01],\n",
              "        [1.0000e+00],\n",
              "        [3.2630e-07],\n",
              "        [1.4201e-04],\n",
              "        [8.5586e-01],\n",
              "        [9.8900e-12],\n",
              "        [9.9822e-01],\n",
              "        [9.3698e-01],\n",
              "        [9.8806e-01],\n",
              "        [9.9266e-01],\n",
              "        [9.9158e-01],\n",
              "        [7.5648e-01],\n",
              "        [4.4503e-09],\n",
              "        [9.9648e-01],\n",
              "        [9.8840e-01],\n",
              "        [1.0000e+00],\n",
              "        [1.5677e-01],\n",
              "        [9.9731e-01],\n",
              "        [9.9826e-01],\n",
              "        [2.6660e-04],\n",
              "        [5.1431e-01],\n",
              "        [2.2537e-07],\n",
              "        [2.1144e-01],\n",
              "        [9.7095e-01],\n",
              "        [8.0252e-04],\n",
              "        [9.5313e-01],\n",
              "        [4.4876e-01],\n",
              "        [9.9789e-01],\n",
              "        [9.6743e-01],\n",
              "        [1.0000e+00],\n",
              "        [1.0000e+00],\n",
              "        [9.5144e-01],\n",
              "        [8.2044e-01],\n",
              "        [2.0437e-07],\n",
              "        [1.4314e-07],\n",
              "        [9.8460e-01],\n",
              "        [9.9736e-01],\n",
              "        [9.9496e-01],\n",
              "        [4.0518e-01],\n",
              "        [9.1398e-01],\n",
              "        [3.8656e-11],\n",
              "        [9.6027e-01],\n",
              "        [9.8997e-01],\n",
              "        [6.8883e-01],\n",
              "        [5.6455e-09],\n",
              "        [1.0753e-11],\n",
              "        [8.1330e-01],\n",
              "        [9.8491e-01],\n",
              "        [5.6541e-02],\n",
              "        [6.4030e-06],\n",
              "        [1.8724e-03],\n",
              "        [9.7154e-01],\n",
              "        [9.8005e-01],\n",
              "        [9.0559e-01],\n",
              "        [7.2822e-07],\n",
              "        [6.7985e-01],\n",
              "        [3.2262e-01],\n",
              "        [1.0000e+00],\n",
              "        [8.7162e-01],\n",
              "        [3.6790e-01],\n",
              "        [1.3808e-01],\n",
              "        [8.4706e-01],\n",
              "        [9.9941e-01],\n",
              "        [1.8702e-02],\n",
              "        [9.8370e-01],\n",
              "        [9.9532e-01],\n",
              "        [4.1749e-08],\n",
              "        [3.4111e-04],\n",
              "        [1.4812e-02],\n",
              "        [6.5215e-03],\n",
              "        [1.4673e-06],\n",
              "        [1.0000e+00],\n",
              "        [9.1876e-01],\n",
              "        [5.4473e-01],\n",
              "        [5.4331e-01],\n",
              "        [5.0099e-01],\n",
              "        [1.0000e+00],\n",
              "        [9.9900e-01],\n",
              "        [1.0000e+00],\n",
              "        [1.2163e-07],\n",
              "        [2.0697e-05],\n",
              "        [9.9907e-01],\n",
              "        [1.0565e-04],\n",
              "        [9.1298e-07],\n",
              "        [1.0000e+00],\n",
              "        [3.5750e-08],\n",
              "        [2.1144e-05],\n",
              "        [7.7994e-01],\n",
              "        [6.0850e-01],\n",
              "        [8.7317e-01],\n",
              "        [1.0443e-13],\n",
              "        [3.6996e-01],\n",
              "        [9.0173e-02],\n",
              "        [5.8116e-06],\n",
              "        [7.9211e-01],\n",
              "        [9.5581e-01],\n",
              "        [7.8851e-19],\n",
              "        [1.0000e+00],\n",
              "        [5.2916e-11],\n",
              "        [1.0000e+00],\n",
              "        [8.1340e-01],\n",
              "        [9.4578e-01],\n",
              "        [1.8835e-02],\n",
              "        [5.5519e-01],\n",
              "        [9.9583e-01],\n",
              "        [9.8585e-01],\n",
              "        [4.0499e-07],\n",
              "        [9.8451e-01],\n",
              "        [3.4045e-13],\n",
              "        [1.2180e-06],\n",
              "        [1.0000e+00],\n",
              "        [9.5728e-01],\n",
              "        [8.0682e-11],\n",
              "        [3.5858e-09],\n",
              "        [7.5683e-02],\n",
              "        [1.1146e-01],\n",
              "        [9.8416e-01],\n",
              "        [4.4293e-02],\n",
              "        [7.0609e-01],\n",
              "        [6.6926e-01],\n",
              "        [9.0157e-01],\n",
              "        [9.2779e-01],\n",
              "        [6.7231e-05],\n",
              "        [8.4309e-01],\n",
              "        [1.6798e-14],\n",
              "        [9.5206e-01]], grad_fn=<SigmoidBackward0>)"
            ]
          },
          "metadata": {},
          "execution_count": 40
        }
      ]
    },
    {
      "cell_type": "code",
      "source": [
        "# Limiar de classificação\n",
        "\n",
        "previsoes = np.array(previsoes> 0.5) # valor 0.5 de acordo com o cenário\n",
        "previsoes"
      ],
      "metadata": {
        "colab": {
          "base_uri": "https://localhost:8080/"
        },
        "id": "4F6bTn7shbtu",
        "outputId": "082c829f-c067-48b3-b0b9-f28fe815dd91"
      },
      "execution_count": 41,
      "outputs": [
        {
          "output_type": "execute_result",
          "data": {
            "text/plain": [
              "array([[False],\n",
              "       [False],\n",
              "       [False],\n",
              "       [ True],\n",
              "       [ True],\n",
              "       [False],\n",
              "       [False],\n",
              "       [False],\n",
              "       [ True],\n",
              "       [ True],\n",
              "       [ True],\n",
              "       [False],\n",
              "       [ True],\n",
              "       [False],\n",
              "       [ True],\n",
              "       [ True],\n",
              "       [ True],\n",
              "       [ True],\n",
              "       [ True],\n",
              "       [False],\n",
              "       [False],\n",
              "       [ True],\n",
              "       [False],\n",
              "       [ True],\n",
              "       [ True],\n",
              "       [ True],\n",
              "       [ True],\n",
              "       [ True],\n",
              "       [ True],\n",
              "       [False],\n",
              "       [ True],\n",
              "       [ True],\n",
              "       [ True],\n",
              "       [False],\n",
              "       [ True],\n",
              "       [ True],\n",
              "       [False],\n",
              "       [ True],\n",
              "       [False],\n",
              "       [False],\n",
              "       [ True],\n",
              "       [False],\n",
              "       [ True],\n",
              "       [False],\n",
              "       [ True],\n",
              "       [ True],\n",
              "       [ True],\n",
              "       [ True],\n",
              "       [ True],\n",
              "       [ True],\n",
              "       [False],\n",
              "       [False],\n",
              "       [ True],\n",
              "       [ True],\n",
              "       [ True],\n",
              "       [False],\n",
              "       [ True],\n",
              "       [False],\n",
              "       [ True],\n",
              "       [ True],\n",
              "       [ True],\n",
              "       [False],\n",
              "       [False],\n",
              "       [ True],\n",
              "       [ True],\n",
              "       [False],\n",
              "       [False],\n",
              "       [False],\n",
              "       [ True],\n",
              "       [ True],\n",
              "       [ True],\n",
              "       [False],\n",
              "       [ True],\n",
              "       [False],\n",
              "       [ True],\n",
              "       [ True],\n",
              "       [False],\n",
              "       [False],\n",
              "       [ True],\n",
              "       [ True],\n",
              "       [False],\n",
              "       [ True],\n",
              "       [ True],\n",
              "       [False],\n",
              "       [False],\n",
              "       [False],\n",
              "       [False],\n",
              "       [False],\n",
              "       [ True],\n",
              "       [ True],\n",
              "       [ True],\n",
              "       [ True],\n",
              "       [ True],\n",
              "       [ True],\n",
              "       [ True],\n",
              "       [ True],\n",
              "       [False],\n",
              "       [False],\n",
              "       [ True],\n",
              "       [False],\n",
              "       [False],\n",
              "       [ True],\n",
              "       [False],\n",
              "       [False],\n",
              "       [ True],\n",
              "       [ True],\n",
              "       [ True],\n",
              "       [False],\n",
              "       [False],\n",
              "       [False],\n",
              "       [False],\n",
              "       [ True],\n",
              "       [ True],\n",
              "       [False],\n",
              "       [ True],\n",
              "       [False],\n",
              "       [ True],\n",
              "       [ True],\n",
              "       [ True],\n",
              "       [False],\n",
              "       [ True],\n",
              "       [ True],\n",
              "       [ True],\n",
              "       [False],\n",
              "       [ True],\n",
              "       [False],\n",
              "       [False],\n",
              "       [ True],\n",
              "       [ True],\n",
              "       [False],\n",
              "       [False],\n",
              "       [False],\n",
              "       [False],\n",
              "       [ True],\n",
              "       [False],\n",
              "       [ True],\n",
              "       [ True],\n",
              "       [ True],\n",
              "       [ True],\n",
              "       [False],\n",
              "       [ True],\n",
              "       [False],\n",
              "       [ True]])"
            ]
          },
          "metadata": {},
          "execution_count": 41
        }
      ]
    },
    {
      "cell_type": "code",
      "source": [
        "previsoes.shape"
      ],
      "metadata": {
        "colab": {
          "base_uri": "https://localhost:8080/"
        },
        "id": "U1XhZgdei5_u",
        "outputId": "5a8004a1-412a-497d-9437-abe0f108aecf"
      },
      "execution_count": 42,
      "outputs": [
        {
          "output_type": "execute_result",
          "data": {
            "text/plain": [
              "(143, 1)"
            ]
          },
          "metadata": {},
          "execution_count": 42
        }
      ]
    },
    {
      "cell_type": "code",
      "source": [
        "classe_test"
      ],
      "metadata": {
        "colab": {
          "base_uri": "https://localhost:8080/",
          "height": 424
        },
        "id": "gqzQto-YilA0",
        "outputId": "772c271d-5a3f-4603-d489-19c553bf8691"
      },
      "execution_count": 43,
      "outputs": [
        {
          "output_type": "execute_result",
          "data": {
            "text/plain": [
              "     0\n",
              "204  1\n",
              "70   0\n",
              "131  0\n",
              "431  1\n",
              "540  1\n",
              "..  ..\n",
              "89   1\n",
              "199  0\n",
              "411  1\n",
              "18   0\n",
              "390  1\n",
              "\n",
              "[143 rows x 1 columns]"
            ],
            "text/html": [
              "\n",
              "\n",
              "  <div id=\"df-0b27c56e-40d2-4be7-8e7f-7604d0f2fcb9\">\n",
              "    <div class=\"colab-df-container\">\n",
              "      <div>\n",
              "<style scoped>\n",
              "    .dataframe tbody tr th:only-of-type {\n",
              "        vertical-align: middle;\n",
              "    }\n",
              "\n",
              "    .dataframe tbody tr th {\n",
              "        vertical-align: top;\n",
              "    }\n",
              "\n",
              "    .dataframe thead th {\n",
              "        text-align: right;\n",
              "    }\n",
              "</style>\n",
              "<table border=\"1\" class=\"dataframe\">\n",
              "  <thead>\n",
              "    <tr style=\"text-align: right;\">\n",
              "      <th></th>\n",
              "      <th>0</th>\n",
              "    </tr>\n",
              "  </thead>\n",
              "  <tbody>\n",
              "    <tr>\n",
              "      <th>204</th>\n",
              "      <td>1</td>\n",
              "    </tr>\n",
              "    <tr>\n",
              "      <th>70</th>\n",
              "      <td>0</td>\n",
              "    </tr>\n",
              "    <tr>\n",
              "      <th>131</th>\n",
              "      <td>0</td>\n",
              "    </tr>\n",
              "    <tr>\n",
              "      <th>431</th>\n",
              "      <td>1</td>\n",
              "    </tr>\n",
              "    <tr>\n",
              "      <th>540</th>\n",
              "      <td>1</td>\n",
              "    </tr>\n",
              "    <tr>\n",
              "      <th>...</th>\n",
              "      <td>...</td>\n",
              "    </tr>\n",
              "    <tr>\n",
              "      <th>89</th>\n",
              "      <td>1</td>\n",
              "    </tr>\n",
              "    <tr>\n",
              "      <th>199</th>\n",
              "      <td>0</td>\n",
              "    </tr>\n",
              "    <tr>\n",
              "      <th>411</th>\n",
              "      <td>1</td>\n",
              "    </tr>\n",
              "    <tr>\n",
              "      <th>18</th>\n",
              "      <td>0</td>\n",
              "    </tr>\n",
              "    <tr>\n",
              "      <th>390</th>\n",
              "      <td>1</td>\n",
              "    </tr>\n",
              "  </tbody>\n",
              "</table>\n",
              "<p>143 rows × 1 columns</p>\n",
              "</div>\n",
              "      <button class=\"colab-df-convert\" onclick=\"convertToInteractive('df-0b27c56e-40d2-4be7-8e7f-7604d0f2fcb9')\"\n",
              "              title=\"Convert this dataframe to an interactive table.\"\n",
              "              style=\"display:none;\">\n",
              "\n",
              "  <svg xmlns=\"http://www.w3.org/2000/svg\" height=\"24px\"viewBox=\"0 0 24 24\"\n",
              "       width=\"24px\">\n",
              "    <path d=\"M0 0h24v24H0V0z\" fill=\"none\"/>\n",
              "    <path d=\"M18.56 5.44l.94 2.06.94-2.06 2.06-.94-2.06-.94-.94-2.06-.94 2.06-2.06.94zm-11 1L8.5 8.5l.94-2.06 2.06-.94-2.06-.94L8.5 2.5l-.94 2.06-2.06.94zm10 10l.94 2.06.94-2.06 2.06-.94-2.06-.94-.94-2.06-.94 2.06-2.06.94z\"/><path d=\"M17.41 7.96l-1.37-1.37c-.4-.4-.92-.59-1.43-.59-.52 0-1.04.2-1.43.59L10.3 9.45l-7.72 7.72c-.78.78-.78 2.05 0 2.83L4 21.41c.39.39.9.59 1.41.59.51 0 1.02-.2 1.41-.59l7.78-7.78 2.81-2.81c.8-.78.8-2.07 0-2.86zM5.41 20L4 18.59l7.72-7.72 1.47 1.35L5.41 20z\"/>\n",
              "  </svg>\n",
              "      </button>\n",
              "\n",
              "\n",
              "\n",
              "    <div id=\"df-acb3989d-bcf8-430f-acbf-e9ac288ab78a\">\n",
              "      <button class=\"colab-df-quickchart\" onclick=\"quickchart('df-acb3989d-bcf8-430f-acbf-e9ac288ab78a')\"\n",
              "              title=\"Suggest charts.\"\n",
              "              style=\"display:none;\">\n",
              "\n",
              "<svg xmlns=\"http://www.w3.org/2000/svg\" height=\"24px\"viewBox=\"0 0 24 24\"\n",
              "     width=\"24px\">\n",
              "    <g>\n",
              "        <path d=\"M19 3H5c-1.1 0-2 .9-2 2v14c0 1.1.9 2 2 2h14c1.1 0 2-.9 2-2V5c0-1.1-.9-2-2-2zM9 17H7v-7h2v7zm4 0h-2V7h2v10zm4 0h-2v-4h2v4z\"/>\n",
              "    </g>\n",
              "</svg>\n",
              "      </button>\n",
              "    </div>\n",
              "\n",
              "<style>\n",
              "  .colab-df-quickchart {\n",
              "    background-color: #E8F0FE;\n",
              "    border: none;\n",
              "    border-radius: 50%;\n",
              "    cursor: pointer;\n",
              "    display: none;\n",
              "    fill: #1967D2;\n",
              "    height: 32px;\n",
              "    padding: 0 0 0 0;\n",
              "    width: 32px;\n",
              "  }\n",
              "\n",
              "  .colab-df-quickchart:hover {\n",
              "    background-color: #E2EBFA;\n",
              "    box-shadow: 0px 1px 2px rgba(60, 64, 67, 0.3), 0px 1px 3px 1px rgba(60, 64, 67, 0.15);\n",
              "    fill: #174EA6;\n",
              "  }\n",
              "\n",
              "  [theme=dark] .colab-df-quickchart {\n",
              "    background-color: #3B4455;\n",
              "    fill: #D2E3FC;\n",
              "  }\n",
              "\n",
              "  [theme=dark] .colab-df-quickchart:hover {\n",
              "    background-color: #434B5C;\n",
              "    box-shadow: 0px 1px 3px 1px rgba(0, 0, 0, 0.15);\n",
              "    filter: drop-shadow(0px 1px 2px rgba(0, 0, 0, 0.3));\n",
              "    fill: #FFFFFF;\n",
              "  }\n",
              "</style>\n",
              "\n",
              "    <script>\n",
              "      async function quickchart(key) {\n",
              "        const containerElement = document.querySelector('#' + key);\n",
              "        const charts = await google.colab.kernel.invokeFunction(\n",
              "            'suggestCharts', [key], {});\n",
              "      }\n",
              "    </script>\n",
              "\n",
              "      <script>\n",
              "\n",
              "function displayQuickchartButton(domScope) {\n",
              "  let quickchartButtonEl =\n",
              "    domScope.querySelector('#df-acb3989d-bcf8-430f-acbf-e9ac288ab78a button.colab-df-quickchart');\n",
              "  quickchartButtonEl.style.display =\n",
              "    google.colab.kernel.accessAllowed ? 'block' : 'none';\n",
              "}\n",
              "\n",
              "        displayQuickchartButton(document);\n",
              "      </script>\n",
              "      <style>\n",
              "    .colab-df-container {\n",
              "      display:flex;\n",
              "      flex-wrap:wrap;\n",
              "      gap: 12px;\n",
              "    }\n",
              "\n",
              "    .colab-df-convert {\n",
              "      background-color: #E8F0FE;\n",
              "      border: none;\n",
              "      border-radius: 50%;\n",
              "      cursor: pointer;\n",
              "      display: none;\n",
              "      fill: #1967D2;\n",
              "      height: 32px;\n",
              "      padding: 0 0 0 0;\n",
              "      width: 32px;\n",
              "    }\n",
              "\n",
              "    .colab-df-convert:hover {\n",
              "      background-color: #E2EBFA;\n",
              "      box-shadow: 0px 1px 2px rgba(60, 64, 67, 0.3), 0px 1px 3px 1px rgba(60, 64, 67, 0.15);\n",
              "      fill: #174EA6;\n",
              "    }\n",
              "\n",
              "    [theme=dark] .colab-df-convert {\n",
              "      background-color: #3B4455;\n",
              "      fill: #D2E3FC;\n",
              "    }\n",
              "\n",
              "    [theme=dark] .colab-df-convert:hover {\n",
              "      background-color: #434B5C;\n",
              "      box-shadow: 0px 1px 3px 1px rgba(0, 0, 0, 0.15);\n",
              "      filter: drop-shadow(0px 1px 2px rgba(0, 0, 0, 0.3));\n",
              "      fill: #FFFFFF;\n",
              "    }\n",
              "  </style>\n",
              "\n",
              "      <script>\n",
              "        const buttonEl =\n",
              "          document.querySelector('#df-0b27c56e-40d2-4be7-8e7f-7604d0f2fcb9 button.colab-df-convert');\n",
              "        buttonEl.style.display =\n",
              "          google.colab.kernel.accessAllowed ? 'block' : 'none';\n",
              "\n",
              "        async function convertToInteractive(key) {\n",
              "          const element = document.querySelector('#df-0b27c56e-40d2-4be7-8e7f-7604d0f2fcb9');\n",
              "          const dataTable =\n",
              "            await google.colab.kernel.invokeFunction('convertToInteractive',\n",
              "                                                     [key], {});\n",
              "          if (!dataTable) return;\n",
              "\n",
              "          const docLinkHtml = 'Like what you see? Visit the ' +\n",
              "            '<a target=\"_blank\" href=https://colab.research.google.com/notebooks/data_table.ipynb>data table notebook</a>'\n",
              "            + ' to learn more about interactive tables.';\n",
              "          element.innerHTML = '';\n",
              "          dataTable['output_type'] = 'display_data';\n",
              "          await google.colab.output.renderOutput(dataTable, element);\n",
              "          const docLink = document.createElement('div');\n",
              "          docLink.innerHTML = docLinkHtml;\n",
              "          element.appendChild(docLink);\n",
              "        }\n",
              "      </script>\n",
              "    </div>\n",
              "  </div>\n"
            ]
          },
          "metadata": {},
          "execution_count": 43
        }
      ]
    },
    {
      "cell_type": "code",
      "source": [
        "# Taxa de acerto, comparação entre as etiquetas 0 e 1 com as str True e False:\n",
        "\n",
        "taxa_acerto = accuracy_score(classe_test, previsoes)\n",
        "taxa_acerto"
      ],
      "metadata": {
        "colab": {
          "base_uri": "https://localhost:8080/"
        },
        "id": "6k_J_Ug8h_YX",
        "outputId": "72a64317-7b01-49fb-d723-055153755f9d"
      },
      "execution_count": 45,
      "outputs": [
        {
          "output_type": "execute_result",
          "data": {
            "text/plain": [
              "0.8881118881118881"
            ]
          },
          "metadata": {},
          "execution_count": 45
        }
      ]
    },
    {
      "cell_type": "code",
      "source": [
        "# Matrix de confusão:\n",
        "\n",
        "matrix = confusion_matrix(classe_test, previsoes)\n",
        "matrix"
      ],
      "metadata": {
        "colab": {
          "base_uri": "https://localhost:8080/"
        },
        "id": "KsDIRHeCiPUM",
        "outputId": "9c93bf85-12fe-4fe2-8819-d51be0ffc6d4"
      },
      "execution_count": 46,
      "outputs": [
        {
          "output_type": "execute_result",
          "data": {
            "text/plain": [
              "array([[49,  5],\n",
              "       [11, 78]])"
            ]
          },
          "metadata": {},
          "execution_count": 46
        }
      ]
    },
    {
      "cell_type": "code",
      "source": [
        "sns.heatmap(matrix, annot=True);"
      ],
      "metadata": {
        "colab": {
          "base_uri": "https://localhost:8080/",
          "height": 430
        },
        "id": "wMInwLwakmxe",
        "outputId": "4bf25658-e0f3-45d6-9074-8db19e5b1269"
      },
      "execution_count": 48,
      "outputs": [
        {
          "output_type": "display_data",
          "data": {
            "text/plain": [
              "<Figure size 640x480 with 2 Axes>"
            ],
            "image/png": "[encoded data removed]"
          },
          "metadata": {}
        }
      ]
    },
    {
      "cell_type": "code",
      "source": [],
      "metadata": {
        "id": "4btjJVHDktDi"
      },
      "execution_count": null,
      "outputs": []
    }
  ]
}