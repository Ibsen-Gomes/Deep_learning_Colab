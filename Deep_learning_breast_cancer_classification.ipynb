{
  "nbformat": 4,
  "nbformat_minor": 0,
  "metadata": {
    "colab": {
      "provenance": [],
      "mount_file_id": "15x8txVO1V9SusjtURzEeanVxIPwfAlxY",
      "authorship_tag": "ABX9TyOZpaX8LDqDAQ6BGAaWpLgE",
      "include_colab_link": true
    },
    "kernelspec": {
      "name": "python3",
      "display_name": "Python 3"
    },
    "language_info": {
      "name": "python"
    }
  },
  "cells": [
    {
      "cell_type": "markdown",
      "metadata": {
        "id": "view-in-github",
        "colab_type": "text"
      },
      "source": [
        "<a href=\"https://colab.research.google.com/github/Ibsen-Gomes/Deep_learning_Colab/blob/main/Deep_learning_breast_cancer_classification.ipynb\" target=\"_parent\"><img src=\"https://colab.research.google.com/assets/colab-badge.svg\" alt=\"Open In Colab\"/></a>"
      ]
    },
    {
      "cell_type": "markdown",
      "source": [
        "### Libraries:"
      ],
      "metadata": {
        "id": "M9dJck8L-CXw"
      }
    },
    {
      "cell_type": "code",
      "source": [
        "import pandas as pd\n",
        "import numpy as np\n",
        "import seaborn as sns\n",
        "from sklearn.model_selection import train_test_split\n",
        "from sklearn.metrics import confusion_matrix, accuracy_score"
      ],
      "metadata": {
        "id": "4WgHe92r-Ax6"
      },
      "execution_count": 1,
      "outputs": []
    },
    {
      "cell_type": "markdown",
      "source": [
        "### PyTorch package import:"
      ],
      "metadata": {
        "id": "NEvz3onB-JRE"
      }
    },
    {
      "cell_type": "code",
      "source": [
        "import torch\n",
        "torch.__version__"
      ],
      "metadata": {
        "colab": {
          "base_uri": "https://localhost:8080/",
          "height": 35
        },
        "id": "csxD8avJxcF5",
        "outputId": "948b63b9-a13e-4e09-8569-3431dd9b90a1"
      },
      "execution_count": 2,
      "outputs": [
        {
          "output_type": "execute_result",
          "data": {
            "text/plain": [
              "'2.0.1+cu118'"
            ],
            "application/vnd.google.colaboratory.intrinsic+json": {
              "type": "string"
            }
          },
          "metadata": {},
          "execution_count": 2
        }
      ]
    },
    {
      "cell_type": "code",
      "source": [
        "import torch.nn as nn"
      ],
      "metadata": {
        "id": "ZdRl6WxXxoua"
      },
      "execution_count": 3,
      "outputs": []
    },
    {
      "cell_type": "markdown",
      "source": [
        "### Load data"
      ],
      "metadata": {
        "id": "6lGVDwFJy86B"
      }
    },
    {
      "cell_type": "code",
      "source": [
        "np.random.seed(42)\n",
        "torch.manual_seed(42)"
      ],
      "metadata": {
        "colab": {
          "base_uri": "https://localhost:8080/"
        },
        "id": "CssdCo9pxsaL",
        "outputId": "c52d8382-abfa-4e27-f27f-4b1be21a6fed"
      },
      "execution_count": 4,
      "outputs": [
        {
          "output_type": "execute_result",
          "data": {
            "text/plain": [
              "<torch._C.Generator at 0x7a2dbfc68f30>"
            ]
          },
          "metadata": {},
          "execution_count": 4
        }
      ]
    },
    {
      "cell_type": "code",
      "source": [
        "previsores = pd.read_csv('/content/drive/MyDrive/Deep_learning/entradas_breast.csv')\n",
        "classe = pd.read_csv('/content/drive/MyDrive/Deep_learning/saidas_breast.csv')\n",
        "\n"
      ],
      "metadata": {
        "id": "7Ffz0JXdzEqr"
      },
      "execution_count": 5,
      "outputs": []
    },
    {
      "cell_type": "code",
      "source": [
        "previsores.shape"
      ],
      "metadata": {
        "colab": {
          "base_uri": "https://localhost:8080/"
        },
        "id": "nj_lwatI7Ase",
        "outputId": "5b642957-4718-405c-bbd5-500a90e472fe"
      },
      "execution_count": 6,
      "outputs": [
        {
          "output_type": "execute_result",
          "data": {
            "text/plain": [
              "(569, 30)"
            ]
          },
          "metadata": {},
          "execution_count": 6
        }
      ]
    },
    {
      "cell_type": "code",
      "source": [
        "previsores.head()"
      ],
      "metadata": {
        "colab": {
          "base_uri": "https://localhost:8080/",
          "height": 300
        },
        "id": "7hgIKjvU7LFP",
        "outputId": "5d66865d-e31e-459a-a5d3-59eb550a4b06"
      },
      "execution_count": 7,
      "outputs": [
        {
          "output_type": "execute_result",
          "data": {
            "text/plain": [
              "    radius_mean   texture_mean   perimeter_mean   area_mean   smoothness_mean  \\\n",
              "0         17.99          10.38           122.80      1001.0           0.11840   \n",
              "1         20.57          17.77           132.90      1326.0           0.08474   \n",
              "2         19.69          21.25           130.00      1203.0           0.10960   \n",
              "3         11.42          20.38            77.58       386.1           0.14250   \n",
              "4         20.29          14.34           135.10      1297.0           0.10030   \n",
              "\n",
              "    compactness_mean   concavity_mean  concave_points_mean   symmetry_mean  \\\n",
              "0            0.27760           0.3001              0.14710          0.2419   \n",
              "1            0.07864           0.0869              0.07017          0.1812   \n",
              "2            0.15990           0.1974              0.12790          0.2069   \n",
              "3            0.28390           0.2414              0.10520          0.2597   \n",
              "4            0.13280         198.0000              0.10430          0.1809   \n",
              "\n",
              "    fractal_dimension_mean  ...   radius_worst   texture_worst  \\\n",
              "0                  0.07871  ...          25.38           17.33   \n",
              "1                  0.05667  ...          24.99           23.41   \n",
              "2                  0.05999  ...          23.57           25.53   \n",
              "3                  0.09744  ...          14.91           26.50   \n",
              "4                  0.05883  ...          22.54           16.67   \n",
              "\n",
              "    perimeter_worst   area_worst   smoothness_worst   compactness_worst  \\\n",
              "0            184.60       2019.0             0.1622              0.6656   \n",
              "1            158.80       1956.0             0.1238              0.1866   \n",
              "2            152.50       1709.0             0.1444              0.4245   \n",
              "3             98.87        567.7             0.2098              0.8663   \n",
              "4            152.20       1575.0             0.1374            205.0000   \n",
              "\n",
              "    concavity_worst   concave_points_worst   symmetry_worst  \\\n",
              "0            0.7119                 0.2654           0.4601   \n",
              "1            0.2416               186.0000         275.0000   \n",
              "2            0.4504               243.0000           0.3613   \n",
              "3            0.6869                 0.2575           0.6638   \n",
              "4            0.4000                 0.1625           0.2364   \n",
              "\n",
              "    fractal_dimension_worst  \n",
              "0                   0.11890  \n",
              "1                   0.08902  \n",
              "2                   0.08758  \n",
              "3                 173.00000  \n",
              "4                   0.07678  \n",
              "\n",
              "[5 rows x 30 columns]"
            ],
            "text/html": [
              "\n",
              "\n",
              "  <div id=\"df-26530ec0-e37e-4fc7-b0bf-8c47708d1e04\">\n",
              "    <div class=\"colab-df-container\">\n",
              "      <div>\n",
              "<style scoped>\n",
              "    .dataframe tbody tr th:only-of-type {\n",
              "        vertical-align: middle;\n",
              "    }\n",
              "\n",
              "    .dataframe tbody tr th {\n",
              "        vertical-align: top;\n",
              "    }\n",
              "\n",
              "    .dataframe thead th {\n",
              "        text-align: right;\n",
              "    }\n",
              "</style>\n",
              "<table border=\"1\" class=\"dataframe\">\n",
              "  <thead>\n",
              "    <tr style=\"text-align: right;\">\n",
              "      <th></th>\n",
              "      <th>radius_mean</th>\n",
              "      <th>texture_mean</th>\n",
              "      <th>perimeter_mean</th>\n",
              "      <th>area_mean</th>\n",
              "      <th>smoothness_mean</th>\n",
              "      <th>compactness_mean</th>\n",
              "      <th>concavity_mean</th>\n",
              "      <th>concave_points_mean</th>\n",
              "      <th>symmetry_mean</th>\n",
              "      <th>fractal_dimension_mean</th>\n",
              "      <th>...</th>\n",
              "      <th>radius_worst</th>\n",
              "      <th>texture_worst</th>\n",
              "      <th>perimeter_worst</th>\n",
              "      <th>area_worst</th>\n",
              "      <th>smoothness_worst</th>\n",
              "      <th>compactness_worst</th>\n",
              "      <th>concavity_worst</th>\n",
              "      <th>concave_points_worst</th>\n",
              "      <th>symmetry_worst</th>\n",
              "      <th>fractal_dimension_worst</th>\n",
              "    </tr>\n",
              "  </thead>\n",
              "  <tbody>\n",
              "    <tr>\n",
              "      <th>0</th>\n",
              "      <td>17.99</td>\n",
              "      <td>10.38</td>\n",
              "      <td>122.80</td>\n",
              "      <td>1001.0</td>\n",
              "      <td>0.11840</td>\n",
              "      <td>0.27760</td>\n",
              "      <td>0.3001</td>\n",
              "      <td>0.14710</td>\n",
              "      <td>0.2419</td>\n",
              "      <td>0.07871</td>\n",
              "      <td>...</td>\n",
              "      <td>25.38</td>\n",
              "      <td>17.33</td>\n",
              "      <td>184.60</td>\n",
              "      <td>2019.0</td>\n",
              "      <td>0.1622</td>\n",
              "      <td>0.6656</td>\n",
              "      <td>0.7119</td>\n",
              "      <td>0.2654</td>\n",
              "      <td>0.4601</td>\n",
              "      <td>0.11890</td>\n",
              "    </tr>\n",
              "    <tr>\n",
              "      <th>1</th>\n",
              "      <td>20.57</td>\n",
              "      <td>17.77</td>\n",
              "      <td>132.90</td>\n",
              "      <td>1326.0</td>\n",
              "      <td>0.08474</td>\n",
              "      <td>0.07864</td>\n",
              "      <td>0.0869</td>\n",
              "      <td>0.07017</td>\n",
              "      <td>0.1812</td>\n",
              "      <td>0.05667</td>\n",
              "      <td>...</td>\n",
              "      <td>24.99</td>\n",
              "      <td>23.41</td>\n",
              "      <td>158.80</td>\n",
              "      <td>1956.0</td>\n",
              "      <td>0.1238</td>\n",
              "      <td>0.1866</td>\n",
              "      <td>0.2416</td>\n",
              "      <td>186.0000</td>\n",
              "      <td>275.0000</td>\n",
              "      <td>0.08902</td>\n",
              "    </tr>\n",
              "    <tr>\n",
              "      <th>2</th>\n",
              "      <td>19.69</td>\n",
              "      <td>21.25</td>\n",
              "      <td>130.00</td>\n",
              "      <td>1203.0</td>\n",
              "      <td>0.10960</td>\n",
              "      <td>0.15990</td>\n",
              "      <td>0.1974</td>\n",
              "      <td>0.12790</td>\n",
              "      <td>0.2069</td>\n",
              "      <td>0.05999</td>\n",
              "      <td>...</td>\n",
              "      <td>23.57</td>\n",
              "      <td>25.53</td>\n",
              "      <td>152.50</td>\n",
              "      <td>1709.0</td>\n",
              "      <td>0.1444</td>\n",
              "      <td>0.4245</td>\n",
              "      <td>0.4504</td>\n",
              "      <td>243.0000</td>\n",
              "      <td>0.3613</td>\n",
              "      <td>0.08758</td>\n",
              "    </tr>\n",
              "    <tr>\n",
              "      <th>3</th>\n",
              "      <td>11.42</td>\n",
              "      <td>20.38</td>\n",
              "      <td>77.58</td>\n",
              "      <td>386.1</td>\n",
              "      <td>0.14250</td>\n",
              "      <td>0.28390</td>\n",
              "      <td>0.2414</td>\n",
              "      <td>0.10520</td>\n",
              "      <td>0.2597</td>\n",
              "      <td>0.09744</td>\n",
              "      <td>...</td>\n",
              "      <td>14.91</td>\n",
              "      <td>26.50</td>\n",
              "      <td>98.87</td>\n",
              "      <td>567.7</td>\n",
              "      <td>0.2098</td>\n",
              "      <td>0.8663</td>\n",
              "      <td>0.6869</td>\n",
              "      <td>0.2575</td>\n",
              "      <td>0.6638</td>\n",
              "      <td>173.00000</td>\n",
              "    </tr>\n",
              "    <tr>\n",
              "      <th>4</th>\n",
              "      <td>20.29</td>\n",
              "      <td>14.34</td>\n",
              "      <td>135.10</td>\n",
              "      <td>1297.0</td>\n",
              "      <td>0.10030</td>\n",
              "      <td>0.13280</td>\n",
              "      <td>198.0000</td>\n",
              "      <td>0.10430</td>\n",
              "      <td>0.1809</td>\n",
              "      <td>0.05883</td>\n",
              "      <td>...</td>\n",
              "      <td>22.54</td>\n",
              "      <td>16.67</td>\n",
              "      <td>152.20</td>\n",
              "      <td>1575.0</td>\n",
              "      <td>0.1374</td>\n",
              "      <td>205.0000</td>\n",
              "      <td>0.4000</td>\n",
              "      <td>0.1625</td>\n",
              "      <td>0.2364</td>\n",
              "      <td>0.07678</td>\n",
              "    </tr>\n",
              "  </tbody>\n",
              "</table>\n",
              "<p>5 rows × 30 columns</p>\n",
              "</div>\n",
              "      <button class=\"colab-df-convert\" onclick=\"convertToInteractive('df-26530ec0-e37e-4fc7-b0bf-8c47708d1e04')\"\n",
              "              title=\"Convert this dataframe to an interactive table.\"\n",
              "              style=\"display:none;\">\n",
              "\n",
              "  <svg xmlns=\"http://www.w3.org/2000/svg\" height=\"24px\"viewBox=\"0 0 24 24\"\n",
              "       width=\"24px\">\n",
              "    <path d=\"M0 0h24v24H0V0z\" fill=\"none\"/>\n",
              "    <path d=\"M18.56 5.44l.94 2.06.94-2.06 2.06-.94-2.06-.94-.94-2.06-.94 2.06-2.06.94zm-11 1L8.5 8.5l.94-2.06 2.06-.94-2.06-.94L8.5 2.5l-.94 2.06-2.06.94zm10 10l.94 2.06.94-2.06 2.06-.94-2.06-.94-.94-2.06-.94 2.06-2.06.94z\"/><path d=\"M17.41 7.96l-1.37-1.37c-.4-.4-.92-.59-1.43-.59-.52 0-1.04.2-1.43.59L10.3 9.45l-7.72 7.72c-.78.78-.78 2.05 0 2.83L4 21.41c.39.39.9.59 1.41.59.51 0 1.02-.2 1.41-.59l7.78-7.78 2.81-2.81c.8-.78.8-2.07 0-2.86zM5.41 20L4 18.59l7.72-7.72 1.47 1.35L5.41 20z\"/>\n",
              "  </svg>\n",
              "      </button>\n",
              "\n",
              "\n",
              "\n",
              "    <div id=\"df-440503fa-650c-406a-acac-e9587d92ae5d\">\n",
              "      <button class=\"colab-df-quickchart\" onclick=\"quickchart('df-440503fa-650c-406a-acac-e9587d92ae5d')\"\n",
              "              title=\"Suggest charts.\"\n",
              "              style=\"display:none;\">\n",
              "\n",
              "<svg xmlns=\"http://www.w3.org/2000/svg\" height=\"24px\"viewBox=\"0 0 24 24\"\n",
              "     width=\"24px\">\n",
              "    <g>\n",
              "        <path d=\"M19 3H5c-1.1 0-2 .9-2 2v14c0 1.1.9 2 2 2h14c1.1 0 2-.9 2-2V5c0-1.1-.9-2-2-2zM9 17H7v-7h2v7zm4 0h-2V7h2v10zm4 0h-2v-4h2v4z\"/>\n",
              "    </g>\n",
              "</svg>\n",
              "      </button>\n",
              "    </div>\n",
              "\n",
              "<style>\n",
              "  .colab-df-quickchart {\n",
              "    background-color: #E8F0FE;\n",
              "    border: none;\n",
              "    border-radius: 50%;\n",
              "    cursor: pointer;\n",
              "    display: none;\n",
              "    fill: #1967D2;\n",
              "    height: 32px;\n",
              "    padding: 0 0 0 0;\n",
              "    width: 32px;\n",
              "  }\n",
              "\n",
              "  .colab-df-quickchart:hover {\n",
              "    background-color: #E2EBFA;\n",
              "    box-shadow: 0px 1px 2px rgba(60, 64, 67, 0.3), 0px 1px 3px 1px rgba(60, 64, 67, 0.15);\n",
              "    fill: #174EA6;\n",
              "  }\n",
              "\n",
              "  [theme=dark] .colab-df-quickchart {\n",
              "    background-color: #3B4455;\n",
              "    fill: #D2E3FC;\n",
              "  }\n",
              "\n",
              "  [theme=dark] .colab-df-quickchart:hover {\n",
              "    background-color: #434B5C;\n",
              "    box-shadow: 0px 1px 3px 1px rgba(0, 0, 0, 0.15);\n",
              "    filter: drop-shadow(0px 1px 2px rgba(0, 0, 0, 0.3));\n",
              "    fill: #FFFFFF;\n",
              "  }\n",
              "</style>\n",
              "\n",
              "    <script>\n",
              "      async function quickchart(key) {\n",
              "        const containerElement = document.querySelector('#' + key);\n",
              "        const charts = await google.colab.kernel.invokeFunction(\n",
              "            'suggestCharts', [key], {});\n",
              "      }\n",
              "    </script>\n",
              "\n",
              "      <script>\n",
              "\n",
              "function displayQuickchartButton(domScope) {\n",
              "  let quickchartButtonEl =\n",
              "    domScope.querySelector('#df-440503fa-650c-406a-acac-e9587d92ae5d button.colab-df-quickchart');\n",
              "  quickchartButtonEl.style.display =\n",
              "    google.colab.kernel.accessAllowed ? 'block' : 'none';\n",
              "}\n",
              "\n",
              "        displayQuickchartButton(document);\n",
              "      </script>\n",
              "      <style>\n",
              "    .colab-df-container {\n",
              "      display:flex;\n",
              "      flex-wrap:wrap;\n",
              "      gap: 12px;\n",
              "    }\n",
              "\n",
              "    .colab-df-convert {\n",
              "      background-color: #E8F0FE;\n",
              "      border: none;\n",
              "      border-radius: 50%;\n",
              "      cursor: pointer;\n",
              "      display: none;\n",
              "      fill: #1967D2;\n",
              "      height: 32px;\n",
              "      padding: 0 0 0 0;\n",
              "      width: 32px;\n",
              "    }\n",
              "\n",
              "    .colab-df-convert:hover {\n",
              "      background-color: #E2EBFA;\n",
              "      box-shadow: 0px 1px 2px rgba(60, 64, 67, 0.3), 0px 1px 3px 1px rgba(60, 64, 67, 0.15);\n",
              "      fill: #174EA6;\n",
              "    }\n",
              "\n",
              "    [theme=dark] .colab-df-convert {\n",
              "      background-color: #3B4455;\n",
              "      fill: #D2E3FC;\n",
              "    }\n",
              "\n",
              "    [theme=dark] .colab-df-convert:hover {\n",
              "      background-color: #434B5C;\n",
              "      box-shadow: 0px 1px 3px 1px rgba(0, 0, 0, 0.15);\n",
              "      filter: drop-shadow(0px 1px 2px rgba(0, 0, 0, 0.3));\n",
              "      fill: #FFFFFF;\n",
              "    }\n",
              "  </style>\n",
              "\n",
              "      <script>\n",
              "        const buttonEl =\n",
              "          document.querySelector('#df-26530ec0-e37e-4fc7-b0bf-8c47708d1e04 button.colab-df-convert');\n",
              "        buttonEl.style.display =\n",
              "          google.colab.kernel.accessAllowed ? 'block' : 'none';\n",
              "\n",
              "        async function convertToInteractive(key) {\n",
              "          const element = document.querySelector('#df-26530ec0-e37e-4fc7-b0bf-8c47708d1e04');\n",
              "          const dataTable =\n",
              "            await google.colab.kernel.invokeFunction('convertToInteractive',\n",
              "                                                     [key], {});\n",
              "          if (!dataTable) return;\n",
              "\n",
              "          const docLinkHtml = 'Like what you see? Visit the ' +\n",
              "            '<a target=\"_blank\" href=https://colab.research.google.com/notebooks/data_table.ipynb>data table notebook</a>'\n",
              "            + ' to learn more about interactive tables.';\n",
              "          element.innerHTML = '';\n",
              "          dataTable['output_type'] = 'display_data';\n",
              "          await google.colab.output.renderOutput(dataTable, element);\n",
              "          const docLink = document.createElement('div');\n",
              "          docLink.innerHTML = docLinkHtml;\n",
              "          element.appendChild(docLink);\n",
              "        }\n",
              "      </script>\n",
              "    </div>\n",
              "  </div>\n"
            ]
          },
          "metadata": {},
          "execution_count": 7
        }
      ]
    },
    {
      "cell_type": "code",
      "source": [
        "classe.head()"
      ],
      "metadata": {
        "colab": {
          "base_uri": "https://localhost:8080/",
          "height": 206
        },
        "id": "55FTNTiL7ONY",
        "outputId": "f0a76c09-b18c-4e34-a0ab-f3852198042b"
      },
      "execution_count": 8,
      "outputs": [
        {
          "output_type": "execute_result",
          "data": {
            "text/plain": [
              "   0\n",
              "0  0\n",
              "1  0\n",
              "2  0\n",
              "3  0\n",
              "4  0"
            ],
            "text/html": [
              "\n",
              "\n",
              "  <div id=\"df-92c45cfe-2073-460f-8276-fabecf811877\">\n",
              "    <div class=\"colab-df-container\">\n",
              "      <div>\n",
              "<style scoped>\n",
              "    .dataframe tbody tr th:only-of-type {\n",
              "        vertical-align: middle;\n",
              "    }\n",
              "\n",
              "    .dataframe tbody tr th {\n",
              "        vertical-align: top;\n",
              "    }\n",
              "\n",
              "    .dataframe thead th {\n",
              "        text-align: right;\n",
              "    }\n",
              "</style>\n",
              "<table border=\"1\" class=\"dataframe\">\n",
              "  <thead>\n",
              "    <tr style=\"text-align: right;\">\n",
              "      <th></th>\n",
              "      <th>0</th>\n",
              "    </tr>\n",
              "  </thead>\n",
              "  <tbody>\n",
              "    <tr>\n",
              "      <th>0</th>\n",
              "      <td>0</td>\n",
              "    </tr>\n",
              "    <tr>\n",
              "      <th>1</th>\n",
              "      <td>0</td>\n",
              "    </tr>\n",
              "    <tr>\n",
              "      <th>2</th>\n",
              "      <td>0</td>\n",
              "    </tr>\n",
              "    <tr>\n",
              "      <th>3</th>\n",
              "      <td>0</td>\n",
              "    </tr>\n",
              "    <tr>\n",
              "      <th>4</th>\n",
              "      <td>0</td>\n",
              "    </tr>\n",
              "  </tbody>\n",
              "</table>\n",
              "</div>\n",
              "      <button class=\"colab-df-convert\" onclick=\"convertToInteractive('df-92c45cfe-2073-460f-8276-fabecf811877')\"\n",
              "              title=\"Convert this dataframe to an interactive table.\"\n",
              "              style=\"display:none;\">\n",
              "\n",
              "  <svg xmlns=\"http://www.w3.org/2000/svg\" height=\"24px\"viewBox=\"0 0 24 24\"\n",
              "       width=\"24px\">\n",
              "    <path d=\"M0 0h24v24H0V0z\" fill=\"none\"/>\n",
              "    <path d=\"M18.56 5.44l.94 2.06.94-2.06 2.06-.94-2.06-.94-.94-2.06-.94 2.06-2.06.94zm-11 1L8.5 8.5l.94-2.06 2.06-.94-2.06-.94L8.5 2.5l-.94 2.06-2.06.94zm10 10l.94 2.06.94-2.06 2.06-.94-2.06-.94-.94-2.06-.94 2.06-2.06.94z\"/><path d=\"M17.41 7.96l-1.37-1.37c-.4-.4-.92-.59-1.43-.59-.52 0-1.04.2-1.43.59L10.3 9.45l-7.72 7.72c-.78.78-.78 2.05 0 2.83L4 21.41c.39.39.9.59 1.41.59.51 0 1.02-.2 1.41-.59l7.78-7.78 2.81-2.81c.8-.78.8-2.07 0-2.86zM5.41 20L4 18.59l7.72-7.72 1.47 1.35L5.41 20z\"/>\n",
              "  </svg>\n",
              "      </button>\n",
              "\n",
              "\n",
              "\n",
              "    <div id=\"df-e42e3ccd-a1d1-4e59-9818-9be2e65bbc12\">\n",
              "      <button class=\"colab-df-quickchart\" onclick=\"quickchart('df-e42e3ccd-a1d1-4e59-9818-9be2e65bbc12')\"\n",
              "              title=\"Suggest charts.\"\n",
              "              style=\"display:none;\">\n",
              "\n",
              "<svg xmlns=\"http://www.w3.org/2000/svg\" height=\"24px\"viewBox=\"0 0 24 24\"\n",
              "     width=\"24px\">\n",
              "    <g>\n",
              "        <path d=\"M19 3H5c-1.1 0-2 .9-2 2v14c0 1.1.9 2 2 2h14c1.1 0 2-.9 2-2V5c0-1.1-.9-2-2-2zM9 17H7v-7h2v7zm4 0h-2V7h2v10zm4 0h-2v-4h2v4z\"/>\n",
              "    </g>\n",
              "</svg>\n",
              "      </button>\n",
              "    </div>\n",
              "\n",
              "<style>\n",
              "  .colab-df-quickchart {\n",
              "    background-color: #E8F0FE;\n",
              "    border: none;\n",
              "    border-radius: 50%;\n",
              "    cursor: pointer;\n",
              "    display: none;\n",
              "    fill: #1967D2;\n",
              "    height: 32px;\n",
              "    padding: 0 0 0 0;\n",
              "    width: 32px;\n",
              "  }\n",
              "\n",
              "  .colab-df-quickchart:hover {\n",
              "    background-color: #E2EBFA;\n",
              "    box-shadow: 0px 1px 2px rgba(60, 64, 67, 0.3), 0px 1px 3px 1px rgba(60, 64, 67, 0.15);\n",
              "    fill: #174EA6;\n",
              "  }\n",
              "\n",
              "  [theme=dark] .colab-df-quickchart {\n",
              "    background-color: #3B4455;\n",
              "    fill: #D2E3FC;\n",
              "  }\n",
              "\n",
              "  [theme=dark] .colab-df-quickchart:hover {\n",
              "    background-color: #434B5C;\n",
              "    box-shadow: 0px 1px 3px 1px rgba(0, 0, 0, 0.15);\n",
              "    filter: drop-shadow(0px 1px 2px rgba(0, 0, 0, 0.3));\n",
              "    fill: #FFFFFF;\n",
              "  }\n",
              "</style>\n",
              "\n",
              "    <script>\n",
              "      async function quickchart(key) {\n",
              "        const containerElement = document.querySelector('#' + key);\n",
              "        const charts = await google.colab.kernel.invokeFunction(\n",
              "            'suggestCharts', [key], {});\n",
              "      }\n",
              "    </script>\n",
              "\n",
              "      <script>\n",
              "\n",
              "function displayQuickchartButton(domScope) {\n",
              "  let quickchartButtonEl =\n",
              "    domScope.querySelector('#df-e42e3ccd-a1d1-4e59-9818-9be2e65bbc12 button.colab-df-quickchart');\n",
              "  quickchartButtonEl.style.display =\n",
              "    google.colab.kernel.accessAllowed ? 'block' : 'none';\n",
              "}\n",
              "\n",
              "        displayQuickchartButton(document);\n",
              "      </script>\n",
              "      <style>\n",
              "    .colab-df-container {\n",
              "      display:flex;\n",
              "      flex-wrap:wrap;\n",
              "      gap: 12px;\n",
              "    }\n",
              "\n",
              "    .colab-df-convert {\n",
              "      background-color: #E8F0FE;\n",
              "      border: none;\n",
              "      border-radius: 50%;\n",
              "      cursor: pointer;\n",
              "      display: none;\n",
              "      fill: #1967D2;\n",
              "      height: 32px;\n",
              "      padding: 0 0 0 0;\n",
              "      width: 32px;\n",
              "    }\n",
              "\n",
              "    .colab-df-convert:hover {\n",
              "      background-color: #E2EBFA;\n",
              "      box-shadow: 0px 1px 2px rgba(60, 64, 67, 0.3), 0px 1px 3px 1px rgba(60, 64, 67, 0.15);\n",
              "      fill: #174EA6;\n",
              "    }\n",
              "\n",
              "    [theme=dark] .colab-df-convert {\n",
              "      background-color: #3B4455;\n",
              "      fill: #D2E3FC;\n",
              "    }\n",
              "\n",
              "    [theme=dark] .colab-df-convert:hover {\n",
              "      background-color: #434B5C;\n",
              "      box-shadow: 0px 1px 3px 1px rgba(0, 0, 0, 0.15);\n",
              "      filter: drop-shadow(0px 1px 2px rgba(0, 0, 0, 0.3));\n",
              "      fill: #FFFFFF;\n",
              "    }\n",
              "  </style>\n",
              "\n",
              "      <script>\n",
              "        const buttonEl =\n",
              "          document.querySelector('#df-92c45cfe-2073-460f-8276-fabecf811877 button.colab-df-convert');\n",
              "        buttonEl.style.display =\n",
              "          google.colab.kernel.accessAllowed ? 'block' : 'none';\n",
              "\n",
              "        async function convertToInteractive(key) {\n",
              "          const element = document.querySelector('#df-92c45cfe-2073-460f-8276-fabecf811877');\n",
              "          const dataTable =\n",
              "            await google.colab.kernel.invokeFunction('convertToInteractive',\n",
              "                                                     [key], {});\n",
              "          if (!dataTable) return;\n",
              "\n",
              "          const docLinkHtml = 'Like what you see? Visit the ' +\n",
              "            '<a target=\"_blank\" href=https://colab.research.google.com/notebooks/data_table.ipynb>data table notebook</a>'\n",
              "            + ' to learn more about interactive tables.';\n",
              "          element.innerHTML = '';\n",
              "          dataTable['output_type'] = 'display_data';\n",
              "          await google.colab.output.renderOutput(dataTable, element);\n",
              "          const docLink = document.createElement('div');\n",
              "          docLink.innerHTML = docLinkHtml;\n",
              "          element.appendChild(docLink);\n",
              "        }\n",
              "      </script>\n",
              "    </div>\n",
              "  </div>\n"
            ]
          },
          "metadata": {},
          "execution_count": 8
        }
      ]
    },
    {
      "cell_type": "code",
      "source": [
        "np.unique(classe)"
      ],
      "metadata": {
        "colab": {
          "base_uri": "https://localhost:8080/"
        },
        "id": "nhg_bRLq7XNU",
        "outputId": "6b8bd123-3798-49be-8129-11e48d0801ed"
      },
      "execution_count": 9,
      "outputs": [
        {
          "output_type": "execute_result",
          "data": {
            "text/plain": [
              "array([0, 1])"
            ]
          },
          "metadata": {},
          "execution_count": 9
        }
      ]
    },
    {
      "cell_type": "markdown",
      "source": [
        "### Sample count for each label:"
      ],
      "metadata": {
        "id": "u7DQfWgy-jHN"
      }
    },
    {
      "cell_type": "code",
      "source": [
        "sns.countplot(x=classe['0'])"
      ],
      "metadata": {
        "colab": {
          "base_uri": "https://localhost:8080/",
          "height": 466
        },
        "id": "A8nJH17w7dEP",
        "outputId": "00d198ee-c49a-4ea6-c347-3024d3a1bd97"
      },
      "execution_count": 10,
      "outputs": [
        {
          "output_type": "execute_result",
          "data": {
            "text/plain": [
              "<Axes: xlabel='0', ylabel='count'>"
            ]
          },
          "metadata": {},
          "execution_count": 10
        },
        {
          "output_type": "display_data",
          "data": {
            "text/plain": [
              "<Figure size 640x480 with 1 Axes>"
            ],
            "image/png": "[encoded data removed]"
          },
          "metadata": {}
        }
      ]
    },
    {
      "cell_type": "markdown",
      "source": [
        "### Split data into training and testing:"
      ],
      "metadata": {
        "id": "qSgbLMaS-sqf"
      }
    },
    {
      "cell_type": "code",
      "source": [
        "previsores_train, previsores_test, classe_train, classe_test = train_test_split(previsores,\n",
        "                                                                               classe,\n",
        "                                                                               test_size = 0.25)"
      ],
      "metadata": {
        "id": "gld6l0R87haV"
      },
      "execution_count": 11,
      "outputs": []
    },
    {
      "cell_type": "code",
      "source": [
        "print(previsores_train.shape, classe_train.shape, previsores_test.shape, classe_test.shape) # check the shapes"
      ],
      "metadata": {
        "colab": {
          "base_uri": "https://localhost:8080/"
        },
        "id": "f57P4p8g_Tvj",
        "outputId": "f582e629-c3ce-43fc-e22d-c01542c07bda"
      },
      "execution_count": 12,
      "outputs": [
        {
          "output_type": "stream",
          "name": "stdout",
          "text": [
            "(426, 30) (426, 1) (143, 30) (143, 1)\n"
          ]
        }
      ]
    },
    {
      "cell_type": "code",
      "source": [],
      "metadata": {
        "id": "vS5ng2Uv-INV"
      },
      "execution_count": 12,
      "outputs": []
    },
    {
      "cell_type": "markdown",
      "source": [
        "### Transformation into Tensors:\n",
        "\n",
        "##### Essential for processing on GPUs"
      ],
      "metadata": {
        "id": "iMjDJRI5-Qk2"
      }
    },
    {
      "cell_type": "code",
      "source": [
        "type(previsores_train)"
      ],
      "metadata": {
        "colab": {
          "base_uri": "https://localhost:8080/"
        },
        "id": "71ii63IR-TLU",
        "outputId": "9bb8e88a-b0e4-4005-9d96-ce79970075aa"
      },
      "execution_count": 13,
      "outputs": [
        {
          "output_type": "execute_result",
          "data": {
            "text/plain": [
              "pandas.core.frame.DataFrame"
            ]
          },
          "metadata": {},
          "execution_count": 13
        }
      ]
    },
    {
      "cell_type": "code",
      "source": [
        "type(np.array(previsores_train))"
      ],
      "metadata": {
        "colab": {
          "base_uri": "https://localhost:8080/"
        },
        "id": "c4_33HEb-XNQ",
        "outputId": "89616bc5-bdad-4ccb-a7e9-6988681a1049"
      },
      "execution_count": 14,
      "outputs": [
        {
          "output_type": "execute_result",
          "data": {
            "text/plain": [
              "numpy.ndarray"
            ]
          },
          "metadata": {},
          "execution_count": 14
        }
      ]
    },
    {
      "cell_type": "code",
      "source": [
        "previsores_train = torch.tensor(np.array(previsores_train), dtype = torch.float)\n",
        "classe_train = torch.tensor(np.array(classe_train), dtype = torch.float)"
      ],
      "metadata": {
        "id": "QjG2y_q7-gxZ"
      },
      "execution_count": 15,
      "outputs": []
    },
    {
      "cell_type": "code",
      "source": [
        "type(previsores_train)"
      ],
      "metadata": {
        "colab": {
          "base_uri": "https://localhost:8080/"
        },
        "id": "zg53Wqw2_Gci",
        "outputId": "37a02f57-e2d6-4314-9a22-d91b0b45d59b"
      },
      "execution_count": 16,
      "outputs": [
        {
          "output_type": "execute_result",
          "data": {
            "text/plain": [
              "torch.Tensor"
            ]
          },
          "metadata": {},
          "execution_count": 16
        }
      ]
    },
    {
      "cell_type": "code",
      "source": [
        "type(classe_train)"
      ],
      "metadata": {
        "colab": {
          "base_uri": "https://localhost:8080/"
        },
        "id": "CLOVRRFr_eaX",
        "outputId": "177a2752-28be-4c24-ac21-ae65f06aa041"
      },
      "execution_count": 17,
      "outputs": [
        {
          "output_type": "execute_result",
          "data": {
            "text/plain": [
              "torch.Tensor"
            ]
          },
          "metadata": {},
          "execution_count": 17
        }
      ]
    },
    {
      "cell_type": "markdown",
      "source": [
        "#### Creation of a dataset with the union of predictors and classes:"
      ],
      "metadata": {
        "id": "wNCCss9tACcx"
      }
    },
    {
      "cell_type": "code",
      "source": [
        "dataset = torch.utils.data.TensorDataset(previsores_train, classe_train)"
      ],
      "metadata": {
        "id": "tYalOFt__g2-"
      },
      "execution_count": 18,
      "outputs": []
    },
    {
      "cell_type": "code",
      "source": [
        "type(dataset)"
      ],
      "metadata": {
        "colab": {
          "base_uri": "https://localhost:8080/"
        },
        "id": "vn-Wkaa1AQvm",
        "outputId": "3e8be7c5-8eb4-4cbf-8709-d93321269d91"
      },
      "execution_count": 19,
      "outputs": [
        {
          "output_type": "execute_result",
          "data": {
            "text/plain": [
              "torch.utils.data.dataset.TensorDataset"
            ]
          },
          "metadata": {},
          "execution_count": 19
        }
      ]
    },
    {
      "cell_type": "code",
      "source": [
        "train_loader = torch.utils.data.DataLoader(dataset, batch_size=10, shuffle=True)"
      ],
      "metadata": {
        "id": "h8yf2Y7MAU-K"
      },
      "execution_count": 20,
      "outputs": []
    },
    {
      "cell_type": "code",
      "source": [],
      "metadata": {
        "id": "4sRCcHICBLuv"
      },
      "execution_count": 20,
      "outputs": []
    },
    {
      "cell_type": "markdown",
      "source": [
        "### Model building:"
      ],
      "metadata": {
        "id": "qBI-F7_DBMbf"
      }
    },
    {
      "cell_type": "code",
      "source": [
        "# 30 neurônios no input = 30 atributos previsores\n",
        "# 16 neurônios 1° camada oculta\n",
        "# 16 neurônios 2° camada oculta\n",
        "# pq 16 neurônios nas redes ocultas? -> (entradas + saídas) / 2 = (30+1)/2 = 16\n",
        "# 1 neurônio na camada de saída (probabilidade de uma classe 0 ou 1)\n",
        "\n",
        "classificador = nn.Sequential( # sequencia de camada\n",
        "\n",
        "    nn.Linear(in_features=30, out_features=16,), # Linear = todas as camadas de entrada ligado a todos de saída\n",
        "    nn.ReLU(), # função de ativação aplicado no 1° camdada de 16 neurônios\n",
        "\n",
        "    nn.Linear(16, 16), # Linear = todas as 16 camadas ligadas aos próximos 16 neurônios\n",
        "    nn.ReLU(), # função de ativação aplicado no 2° camada de 16 neurônios\n",
        "\n",
        "    nn.Linear(16, 1), # Linear = todas as 16 camadas ligadas ao neurônio de saída\n",
        "    nn.Sigmoid(), # função de ativação na camada com 1 neurônio\n",
        ")\n"
      ],
      "metadata": {
        "id": "hdzyUVFuBOgG"
      },
      "execution_count": 21,
      "outputs": []
    },
    {
      "cell_type": "code",
      "source": [
        "# observar a estrutura da rede neural:\n",
        "\n",
        "classificador.parameters"
      ],
      "metadata": {
        "colab": {
          "base_uri": "https://localhost:8080/"
        },
        "id": "XBdDGExFEZP2",
        "outputId": "ac5c44cf-99e4-4986-db85-84c8a4492adb"
      },
      "execution_count": 22,
      "outputs": [
        {
          "output_type": "execute_result",
          "data": {
            "text/plain": [
              "<bound method Module.parameters of Sequential(\n",
              "  (0): Linear(in_features=30, out_features=16, bias=True)\n",
              "  (1): ReLU()\n",
              "  (2): Linear(in_features=16, out_features=16, bias=True)\n",
              "  (3): ReLU()\n",
              "  (4): Linear(in_features=16, out_features=1, bias=True)\n",
              "  (5): Sigmoid()\n",
              ")>"
            ]
          },
          "metadata": {},
          "execution_count": 22
        }
      ]
    },
    {
      "cell_type": "code",
      "source": [
        "# Função de erro:\n",
        "\n",
        "criterion = nn.BCELoss()\n",
        "# Binary cross entropy (comparação entre previsão e gabarito)"
      ],
      "metadata": {
        "id": "unaZfXUTE6PO"
      },
      "execution_count": 23,
      "outputs": []
    },
    {
      "cell_type": "code",
      "source": [
        "# Otimizador\n",
        "\n",
        "optimizer = torch.optim.Adam(classificador.parameters(),\n",
        "                             lr = 0.001, # taxa de aprendizado\n",
        "                             weight_decay = 0.0001) # decaimento dos pesos\n",
        "                             # diminui lr com o passar das epocas"
      ],
      "metadata": {
        "id": "8OPpzysMFD4B"
      },
      "execution_count": 24,
      "outputs": []
    },
    {
      "cell_type": "code",
      "source": [
        "# Necessário um For para treinamento (diferente do TensorFLow ou Sklearn que tem um fit)\n",
        "for epoch in range(200): # Em 1 epoca passando por 426 registros de 10 em 10 (batch) registros\n",
        "  running_loss = 0. # Inicializar o acumulador do erro\n",
        "\n",
        "  for data in train_loader: # train_loader = dados dividido em 10 em 10 registros\n",
        "\n",
        "    inputs, labels = data # inputs=previsores e labels=classes\n",
        "    optimizer.zero_grad() # zerar, pq em cada ajuste de peso é necessario calcular o gradiente separadamente\n",
        "\n",
        "    outputs = classificador(inputs) #passando os inputs no modelo e gerando os outputs -> processo forward na rede (esqeurda p/ direita)\n",
        "    # outputs-> classificador.forward(inputs)\n",
        "    loss = criterion(outputs, labels) #calculo do erro entre labels reais e preditos\n",
        "    loss.backward() #voltando e atualizando os pesos processo de backward na rede (direita p/ esquerda)\n",
        "    optimizer.step() #atualização dos pesos usando o \"Adam\"\n",
        "\n",
        "    running_loss += loss.item() #somatorio do erro\n",
        "  print('Época %3d: perda %.5f' % (epoch+1, running_loss/len(train_loader)))\n"
      ],
      "metadata": {
        "colab": {
          "base_uri": "https://localhost:8080/"
        },
        "id": "mV1iDbiCFiHm",
        "outputId": "19b08b41-adc5-4747-da6a-0a149c5509ad"
      },
      "execution_count": 44,
      "outputs": [
        {
          "output_type": "stream",
          "name": "stdout",
          "text": [
            "Época   1: perda 0.16903\n",
            "Época   2: perda 0.13317\n",
            "Época   3: perda 0.14649\n",
            "Época   4: perda 0.12645\n",
            "Época   5: perda 0.12825\n",
            "Época   6: perda 0.13072\n",
            "Época   7: perda 0.13557\n",
            "Época   8: perda 0.13752\n",
            "Época   9: perda 0.12574\n",
            "Época  10: perda 0.12867\n",
            "Época  11: perda 0.13926\n",
            "Época  12: perda 0.17216\n",
            "Época  13: perda 0.21998\n",
            "Época  14: perda 0.15726\n",
            "Época  15: perda 0.18958\n",
            "Época  16: perda 0.10270\n",
            "Época  17: perda 0.13913\n",
            "Época  18: perda 0.11765\n",
            "Época  19: perda 0.11724\n",
            "Época  20: perda 0.11082\n",
            "Época  21: perda 0.11524\n",
            "Época  22: perda 0.11435\n",
            "Época  23: perda 0.12975\n",
            "Época  24: perda 0.18454\n",
            "Época  25: perda 0.11940\n",
            "Época  26: perda 0.10665\n",
            "Época  27: perda 0.11657\n",
            "Época  28: perda 0.12813\n",
            "Época  29: perda 0.11541\n",
            "Época  30: perda 0.10819\n",
            "Época  31: perda 0.10836\n",
            "Época  32: perda 0.11920\n",
            "Época  33: perda 0.11772\n",
            "Época  34: perda 0.09690\n",
            "Época  35: perda 0.16700\n",
            "Época  36: perda 0.14758\n",
            "Época  37: perda 0.10124\n",
            "Época  38: perda 0.12282\n",
            "Época  39: perda 0.22560\n",
            "Época  40: perda 0.18721\n",
            "Época  41: perda 0.13104\n",
            "Época  42: perda 0.12981\n",
            "Época  43: perda 0.11923\n",
            "Época  44: perda 0.10716\n",
            "Época  45: perda 0.09304\n",
            "Época  46: perda 0.09606\n",
            "Época  47: perda 0.11234\n",
            "Época  48: perda 0.12824\n",
            "Época  49: perda 0.16136\n",
            "Época  50: perda 0.13446\n",
            "Época  51: perda 0.11991\n",
            "Época  52: perda 0.16126\n",
            "Época  53: perda 0.09770\n",
            "Época  54: perda 0.09919\n",
            "Época  55: perda 0.09344\n",
            "Época  56: perda 0.08920\n",
            "Época  57: perda 0.15663\n",
            "Época  58: perda 0.13263\n",
            "Época  59: perda 0.12572\n",
            "Época  60: perda 0.11413\n",
            "Época  61: perda 0.12353\n",
            "Época  62: perda 0.09119\n",
            "Época  63: perda 0.08393\n",
            "Época  64: perda 0.08902\n",
            "Época  65: perda 0.08175\n",
            "Época  66: perda 0.11245\n",
            "Época  67: perda 0.10994\n",
            "Época  68: perda 0.09620\n",
            "Época  69: perda 0.09483\n",
            "Época  70: perda 0.09180\n",
            "Época  71: perda 0.10098\n",
            "Época  72: perda 0.10211\n",
            "Época  73: perda 0.14015\n",
            "Época  74: perda 0.09617\n",
            "Época  75: perda 0.08932\n",
            "Época  76: perda 0.08135\n",
            "Época  77: perda 0.10858\n",
            "Época  78: perda 0.10915\n",
            "Época  79: perda 0.09978\n",
            "Época  80: perda 0.10126\n",
            "Época  81: perda 0.08059\n",
            "Época  82: perda 0.07895\n",
            "Época  83: perda 0.10244\n",
            "Época  84: perda 0.08979\n",
            "Época  85: perda 0.09937\n",
            "Época  86: perda 0.11484\n",
            "Época  87: perda 0.15320\n",
            "Época  88: perda 0.10772\n",
            "Época  89: perda 0.07588\n",
            "Época  90: perda 0.07841\n",
            "Época  91: perda 0.10055\n",
            "Época  92: perda 0.08026\n",
            "Época  93: perda 0.10969\n",
            "Época  94: perda 0.10880\n",
            "Época  95: perda 0.09223\n",
            "Época  96: perda 0.10891\n",
            "Época  97: perda 0.08487\n",
            "Época  98: perda 0.08838\n",
            "Época  99: perda 0.08587\n",
            "Época 100: perda 0.09464\n",
            "Época 101: perda 0.07332\n",
            "Época 102: perda 0.12087\n",
            "Época 103: perda 0.07651\n",
            "Época 104: perda 0.07037\n",
            "Época 105: perda 0.08714\n",
            "Época 106: perda 0.08758\n",
            "Época 107: perda 0.08961\n",
            "Época 108: perda 0.13140\n",
            "Época 109: perda 0.12508\n",
            "Época 110: perda 0.13923\n",
            "Época 111: perda 0.10873\n",
            "Época 112: perda 0.08470\n",
            "Época 113: perda 0.09443\n",
            "Época 114: perda 0.14340\n",
            "Época 115: perda 0.25658\n",
            "Época 116: perda 0.10598\n",
            "Época 117: perda 0.08747\n",
            "Época 118: perda 0.11592\n",
            "Época 119: perda 0.12946\n",
            "Época 120: perda 0.08348\n",
            "Época 121: perda 0.07884\n",
            "Época 122: perda 0.07249\n",
            "Época 123: perda 0.09240\n",
            "Época 124: perda 0.10044\n",
            "Época 125: perda 0.09942\n",
            "Época 126: perda 0.11222\n",
            "Época 127: perda 0.10237\n",
            "Época 128: perda 0.07214\n",
            "Época 129: perda 0.07872\n",
            "Época 130: perda 0.06973\n",
            "Época 131: perda 0.06339\n",
            "Época 132: perda 0.06995\n",
            "Época 133: perda 0.08549\n",
            "Época 134: perda 0.07252\n",
            "Época 135: perda 0.07688\n",
            "Época 136: perda 0.07134\n",
            "Época 137: perda 0.07612\n",
            "Época 138: perda 0.08903\n",
            "Época 139: perda 0.07823\n",
            "Época 140: perda 0.09040\n",
            "Época 141: perda 0.14856\n",
            "Época 142: perda 0.14903\n",
            "Época 143: perda 0.10617\n",
            "Época 144: perda 0.08830\n",
            "Época 145: perda 0.08810\n",
            "Época 146: perda 0.07304\n",
            "Época 147: perda 0.07370\n",
            "Época 148: perda 0.06512\n",
            "Época 149: perda 0.06881\n",
            "Época 150: perda 0.07234\n",
            "Época 151: perda 0.06481\n",
            "Época 152: perda 0.06780\n",
            "Época 153: perda 0.07252\n",
            "Época 154: perda 0.06902\n",
            "Época 155: perda 0.11009\n",
            "Época 156: perda 0.27674\n",
            "Época 157: perda 0.19071\n",
            "Época 158: perda 0.12610\n",
            "Época 159: perda 0.20033\n",
            "Época 160: perda 0.10934\n",
            "Época 161: perda 0.07646\n",
            "Época 162: perda 0.07482\n",
            "Época 163: perda 0.07393\n",
            "Época 164: perda 0.09733\n",
            "Época 165: perda 0.10088\n",
            "Época 166: perda 0.11153\n",
            "Época 167: perda 0.06507\n",
            "Época 168: perda 0.06470\n",
            "Época 169: perda 0.06374\n",
            "Época 170: perda 0.09179\n",
            "Época 171: perda 0.08102\n",
            "Época 172: perda 0.06787\n",
            "Época 173: perda 0.09632\n",
            "Época 174: perda 0.07640\n",
            "Época 175: perda 0.08820\n",
            "Época 176: perda 0.07716\n",
            "Época 177: perda 0.06328\n",
            "Época 178: perda 0.06615\n",
            "Época 179: perda 0.06198\n",
            "Época 180: perda 0.06624\n",
            "Época 181: perda 0.11888\n",
            "Época 182: perda 0.10632\n",
            "Época 183: perda 0.14505\n",
            "Época 184: perda 0.08619\n",
            "Época 185: perda 0.07502\n",
            "Época 186: perda 0.08147\n",
            "Época 187: perda 0.07473\n",
            "Época 188: perda 0.06005\n",
            "Época 189: perda 0.08208\n",
            "Época 190: perda 0.08911\n",
            "Época 191: perda 0.09715\n",
            "Época 192: perda 0.05895\n",
            "Época 193: perda 0.07564\n",
            "Época 194: perda 0.07655\n",
            "Época 195: perda 0.07728\n",
            "Época 196: perda 0.21748\n",
            "Época 197: perda 0.09350\n",
            "Época 198: perda 0.10091\n",
            "Época 199: perda 0.07198\n",
            "Época 200: perda 0.07737\n"
          ]
        }
      ]
    },
    {
      "cell_type": "code",
      "source": [],
      "metadata": {
        "id": "B-GdMs6zMS3M"
      },
      "execution_count": 25,
      "outputs": []
    },
    {
      "cell_type": "markdown",
      "source": [
        "### Visualization of weights:"
      ],
      "metadata": {
        "id": "VigzDj6-cglC"
      }
    },
    {
      "cell_type": "code",
      "source": [
        "params = list(classificador.parameters())\n"
      ],
      "metadata": {
        "id": "Q4c7IswAckt1"
      },
      "execution_count": 45,
      "outputs": []
    },
    {
      "cell_type": "code",
      "source": [
        "pesos0 = params[0]\n",
        "pesos0.shape"
      ],
      "metadata": {
        "colab": {
          "base_uri": "https://localhost:8080/"
        },
        "id": "yuZaRTcPcvwm",
        "outputId": "8238ca63-d9b3-4f2e-b9d2-36d20825c66a"
      },
      "execution_count": 46,
      "outputs": [
        {
          "output_type": "execute_result",
          "data": {
            "text/plain": [
              "torch.Size([16, 30])"
            ]
          },
          "metadata": {},
          "execution_count": 46
        }
      ]
    },
    {
      "cell_type": "code",
      "source": [
        "# ligação (pesos) entre todas os 30 inputs da camadas de entrada com os 16 neurônios da primeira camada oculta\n",
        "print(pesos0)"
      ],
      "metadata": {
        "colab": {
          "base_uri": "https://localhost:8080/"
        },
        "id": "Gi9bHgTsdH4K",
        "outputId": "a07d8056-4167-4e55-f090-0fb4df501aba"
      },
      "execution_count": 47,
      "outputs": [
        {
          "output_type": "stream",
          "name": "stdout",
          "text": [
            "Parameter containing:\n",
            "tensor([[-3.0252e-01,  1.9470e-01, -4.3069e-01,  6.3169e-02, -1.2455e-01,\n",
            "          1.8700e-01, -2.0718e-01,  6.2858e-02,  1.0215e-01,  2.6136e-01,\n",
            "          1.8225e-01,  2.6587e-02,  3.8213e-02,  2.0215e-01,  9.3089e-03,\n",
            "          1.9209e-02,  9.7972e-02, -2.0351e-02,  6.4287e-01,  9.6996e-03,\n",
            "         -5.3615e-01,  2.8192e-01, -3.6466e-01,  5.5116e-02, -3.0095e-01,\n",
            "         -2.7347e-01, -4.2930e-01, -2.2039e-01, -2.4088e-01,  8.0924e-02],\n",
            "        [-4.1443e-02, -4.4646e-02, -2.0202e-01, -2.8591e-03,  2.0464e-01,\n",
            "          1.3739e-01,  1.0784e-01,  1.0084e-01, -9.2251e-02, -2.6704e-02,\n",
            "          1.2437e-01, -4.0202e-02,  3.2382e-02,  1.1058e-01,  1.3563e-02,\n",
            "          1.2478e-01,  2.0430e-01, -2.6260e-02,  4.9277e-01,  1.3466e-01,\n",
            "         -5.8327e-01,  3.1599e-01, -3.5713e-01,  1.8757e-01,  1.5667e-01,\n",
            "          8.6591e-02,  8.2741e-02,  2.3554e-02,  1.5731e-01,  5.3442e-01],\n",
            "        [ 9.5104e-02, -4.1855e-01,  2.3979e-01, -5.5596e-02, -2.5673e-01,\n",
            "          3.1176e-01, -6.2362e-02, -2.3068e-01, -4.3109e-01,  2.1794e-01,\n",
            "         -6.4414e-02, -3.2860e-02,  1.0271e-01, -3.1874e-01, -1.3045e-03,\n",
            "          5.0289e-03,  6.9316e-03,  9.5307e-03,  2.3455e-01,  6.3235e-02,\n",
            "          8.7737e-02, -5.7773e-01,  1.9610e-01, -1.5588e-01, -1.0613e-02,\n",
            "         -5.8617e-02,  1.8178e-01, -6.4337e-01, -3.5397e-01, -1.1589e-01],\n",
            "        [ 2.6745e-01, -1.4718e-01,  4.6724e-01,  1.6523e-01, -4.1369e-01,\n",
            "         -1.2178e-01, -6.4654e-02, -1.2573e-02,  1.0629e-01, -3.3009e-01,\n",
            "         -1.9179e-01,  3.1955e-02, -1.6447e-03, -2.2665e-01, -4.2831e-02,\n",
            "         -1.0046e-02, -4.6386e-01,  1.1688e-01, -7.1629e-01, -3.2461e-01,\n",
            "          6.1556e-01, -3.5047e-01,  2.8507e-01, -1.7864e-01, -1.2376e-01,\n",
            "          1.8421e-02,  9.6940e-03, -3.6445e-02, -9.6455e-02, -5.0680e-01],\n",
            "        [ 1.0107e-02,  2.7549e-02,  2.8507e-02, -9.8590e-02,  9.0880e-04,\n",
            "         -5.7562e-04,  1.1211e-02, -1.7769e-02,  4.2780e-03, -3.2792e-02,\n",
            "          1.0030e-01,  7.0217e-02, -5.8706e-02,  2.2427e-01,  5.9375e-05,\n",
            "          6.0990e-03, -1.5596e-02, -6.9296e-03, -3.4799e-03, -2.0282e-04,\n",
            "          3.3657e-02,  6.9870e-03,  1.2053e-01, -1.2388e-01,  6.9312e-02,\n",
            "         -1.5284e-02,  1.1740e-01, -1.4204e-02,  1.6908e-02, -5.1390e-04],\n",
            "        [ 1.5495e-01, -4.7410e-02,  2.0686e-01, -1.1878e-01,  4.5542e-01,\n",
            "         -5.1477e-01,  5.6641e-01,  2.8794e-01,  1.0415e-01,  9.4361e-02,\n",
            "          2.8358e-01,  2.8630e-02,  3.5508e-02, -1.9809e-01,  1.0374e-03,\n",
            "         -4.1159e-02, -5.9113e-02, -4.7274e-03, -6.9272e-01, -5.9215e-02,\n",
            "          1.4610e-01, -3.3404e-01,  1.8587e-01, -1.2958e-01,  1.9489e-01,\n",
            "         -3.2402e-01, -7.9062e-02,  2.0989e-01,  3.8111e-01, -6.5762e-01],\n",
            "        [ 2.8045e-01, -2.2506e-02,  3.1456e-01, -8.4901e-02, -2.5318e-02,\n",
            "          8.0977e-02,  3.2646e-02, -1.7744e-02, -2.6288e-01,  4.1566e-01,\n",
            "         -1.4940e-01, -4.8197e-02,  4.0220e-02,  2.0013e-01, -6.4429e-03,\n",
            "         -2.5153e-02, -3.8045e-02,  4.5407e-02, -9.5727e-02,  4.0253e-02,\n",
            "          1.5785e-01, -4.4036e-01,  3.3146e-01, -1.8162e-02,  2.9710e-01,\n",
            "         -1.1333e-01,  1.2674e-02, -3.3885e-01,  1.5522e-02, -1.7455e-01],\n",
            "        [-1.0450e-02, -6.9243e-02, -3.7393e-01, -1.3637e-01,  3.7305e-01,\n",
            "         -3.0567e-01,  1.4394e-01, -5.9394e-01, -5.6977e-01, -1.1954e-01,\n",
            "         -3.2048e-01,  1.2028e-01, -3.6478e-02, -7.1120e-02,  1.6910e-02,\n",
            "          2.6606e-02,  1.2483e-01,  3.1224e-02,  6.8157e-01,  1.3444e-01,\n",
            "         -4.1486e-01,  2.1658e-01, -3.1103e-02,  1.5823e-01,  3.6054e-01,\n",
            "         -2.9517e-01, -4.4392e-01, -6.5497e-01, -2.5484e-01,  2.7493e-01],\n",
            "        [ 2.8682e-02, -1.6201e-08, -2.8915e-04, -3.5810e-02,  7.0128e-39,\n",
            "          1.5008e-39, -4.0711e-39, -6.0414e-39, -6.3284e-05,  2.2711e-40,\n",
            "         -2.0944e-03, -1.0899e-01, -2.4127e-02, -2.6800e-07, -2.4147e-39,\n",
            "          1.7785e-39,  7.0468e-39, -1.0210e-39,  1.2438e-39, -1.4174e-41,\n",
            "          8.3405e-14, -2.4999e-06,  1.4819e-03, -3.7194e-02,  3.5326e-40,\n",
            "          1.2497e-02, -1.7467e-39,  1.5952e-39, -2.2319e-39,  1.6784e-39],\n",
            "        [ 2.9779e-01, -1.7865e-01,  4.1273e-01,  1.9804e-01, -5.0836e-01,\n",
            "         -4.2403e-01, -1.0418e-01, -6.0168e-02,  1.1052e-01,  3.6391e-01,\n",
            "          7.6271e-02, -2.1777e-01,  9.5706e-03, -3.5458e-01, -1.4354e-02,\n",
            "         -1.3794e-01, -1.5842e-01,  5.5981e-02,  7.1535e-01, -1.0057e-02,\n",
            "          3.4103e-01, -3.5941e-01,  8.2483e-02, -1.9702e-01,  3.2144e-02,\n",
            "         -6.2095e-02, -9.7253e-04,  2.2948e-02,  1.2678e-01, -1.7957e-01],\n",
            "        [ 7.7735e-02,  5.1127e-01,  7.6249e-02, -1.5576e-01,  2.5598e-02,\n",
            "          2.3503e-02, -3.8777e-02,  3.5721e-01,  6.1121e-02, -3.8390e-01,\n",
            "          2.5387e-01,  5.5355e-02, -9.8972e-02,  1.1725e-01,  5.0308e-03,\n",
            "          3.5497e-02,  1.2602e-02,  3.0283e-02, -4.6053e-01,  7.4613e-03,\n",
            "          8.9093e-02,  5.3429e-01,  2.5794e-01,  6.9670e-02,  6.9922e-02,\n",
            "          1.6036e-01, -1.1790e-02, -1.8838e-01,  4.5330e-02,  2.9318e-02],\n",
            "        [ 6.6862e-02, -8.2915e-21, -3.3684e-05, -2.6799e-02,  1.3649e-38,\n",
            "         -1.5243e-38,  1.7092e-38, -6.8971e-39,  1.6509e-39, -4.9847e-39,\n",
            "         -9.9234e-07, -9.0543e-04, -2.3524e-02, -1.0566e-08,  7.0900e-38,\n",
            "          1.0216e-38, -1.2356e-38,  4.6283e-38,  1.0630e-37, -5.2157e-38,\n",
            "         -9.8452e-21, -3.3448e-13, -1.2716e-04,  1.2637e-02, -9.7300e-39,\n",
            "         -2.6520e-37,  1.9496e-39, -1.5350e-14, -1.4729e-38, -3.7560e-40],\n",
            "        [ 2.3428e-01,  1.2545e-01,  4.4332e-02,  2.9939e-02, -1.5771e-01,\n",
            "          8.3938e-01, -7.2763e-01,  1.2885e-01,  4.5506e-02,  4.7429e-01,\n",
            "          3.6866e-01,  7.0893e-02, -1.0071e-01,  3.3981e-02, -4.4084e-04,\n",
            "         -6.2967e-02, -8.1324e-02,  6.0086e-04, -2.1569e-01, -2.2414e-01,\n",
            "          3.6005e-01, -1.9570e-01,  1.2262e-01,  9.2147e-02,  3.6602e-01,\n",
            "          1.5124e-01, -1.5066e-01, -2.5596e-01, -1.4752e-01, -5.3698e-01],\n",
            "        [-2.9314e-01, -3.0995e-01, -1.0622e-01,  1.1893e-01,  2.4335e-02,\n",
            "         -2.8339e-01, -2.6473e-01, -2.2459e-01,  2.5560e-01, -5.0827e-01,\n",
            "         -2.2019e-01,  4.1516e-02, -1.0497e-01, -3.0585e-02, -5.2354e-03,\n",
            "          1.3615e-02,  1.2748e-02, -2.3769e-02, -4.7483e-01, -3.5882e-03,\n",
            "         -3.0303e-01, -1.8289e-01, -1.5319e-02,  9.4979e-02,  2.9019e-01,\n",
            "          1.3968e-01,  3.6294e-01,  4.1371e-01,  8.8163e-02,  6.3250e-02],\n",
            "        [-3.4693e-01, -7.9784e-01, -4.1211e-01,  9.9157e-02,  2.6238e-01,\n",
            "          5.2434e-02,  7.4824e-02, -4.9862e-01, -9.7023e-02,  6.9906e-01,\n",
            "          2.0363e-01, -1.5413e-02, -1.1966e-01,  1.6192e-01,  1.0820e-03,\n",
            "         -2.4233e-02,  5.0677e-02, -4.6027e-02,  7.1002e-01, -3.2442e-04,\n",
            "         -4.0776e-01, -6.6744e-01, -2.6037e-01,  9.5367e-02, -1.0981e-01,\n",
            "         -6.0632e-02, -2.7332e-01,  2.3311e-01,  2.2365e-01,  2.9571e-01],\n",
            "        [ 1.1099e-01, -4.3937e-01,  9.9366e-02,  4.7698e-02, -6.0700e-02,\n",
            "         -1.6371e-01, -1.3477e-01,  1.6318e-01,  2.2120e-01, -1.3287e-01,\n",
            "         -4.1241e-02, -1.0864e-02,  1.1669e-02, -3.8212e-01, -1.4548e-02,\n",
            "         -5.2626e-02, -1.0359e-01, -2.4982e-02, -4.9353e-01, -4.1591e-02,\n",
            "          4.6607e-01, -4.0386e-01,  2.9684e-01, -5.7759e-02,  1.4467e-01,\n",
            "          1.3342e-01,  1.2301e-01,  7.8865e-02,  1.0256e-01, -3.3229e-01]],\n",
            "       requires_grad=True)\n"
          ]
        }
      ]
    },
    {
      "cell_type": "code",
      "source": [
        "# Unidade de bias na 1° camada oculta\n",
        "bias0 = params[1]\n",
        "bias0.shape"
      ],
      "metadata": {
        "colab": {
          "base_uri": "https://localhost:8080/"
        },
        "id": "GZRBS5m1ddWV",
        "outputId": "f8ee10f3-6bd2-41d3-9aa8-61029c03ce21"
      },
      "execution_count": 48,
      "outputs": [
        {
          "output_type": "execute_result",
          "data": {
            "text/plain": [
              "torch.Size([16])"
            ]
          },
          "metadata": {},
          "execution_count": 48
        }
      ]
    },
    {
      "cell_type": "code",
      "source": [
        "# ligação (pesos) entre todas os 16 neurônios da primeira camada oculta com os 16 neurônios da segunda camada oculta.\n",
        "pesos1 = params[2]\n",
        "pesos1.shape"
      ],
      "metadata": {
        "colab": {
          "base_uri": "https://localhost:8080/"
        },
        "id": "-p6BK-pFd_ol",
        "outputId": "1cbf589f-7e0c-4daa-8674-5db3715b21fa"
      },
      "execution_count": 49,
      "outputs": [
        {
          "output_type": "execute_result",
          "data": {
            "text/plain": [
              "torch.Size([16, 16])"
            ]
          },
          "metadata": {},
          "execution_count": 49
        }
      ]
    },
    {
      "cell_type": "code",
      "source": [
        "# Unidade de bias na 2° camada oculta\n",
        "bias1 = params[3]\n",
        "bias1.shape"
      ],
      "metadata": {
        "colab": {
          "base_uri": "https://localhost:8080/"
        },
        "id": "z5GZVMXZeK7r",
        "outputId": "9187a806-3a4b-42eb-b8e3-3ee699487bc3"
      },
      "execution_count": 50,
      "outputs": [
        {
          "output_type": "execute_result",
          "data": {
            "text/plain": [
              "torch.Size([16])"
            ]
          },
          "metadata": {},
          "execution_count": 50
        }
      ]
    },
    {
      "cell_type": "code",
      "source": [],
      "metadata": {
        "id": "fr3wtnXae1xo"
      },
      "execution_count": 50,
      "outputs": []
    },
    {
      "cell_type": "markdown",
      "source": [
        "### Model evaluation:"
      ],
      "metadata": {
        "id": "NmUp-V8SfD31"
      }
    },
    {
      "cell_type": "code",
      "source": [
        "classificador.eval() # .eval = significa que o classificador em modo avaliação\n"
      ],
      "metadata": {
        "colab": {
          "base_uri": "https://localhost:8080/"
        },
        "id": "OfDvxf0qfFnk",
        "outputId": "f89a24b2-db32-420b-c2d2-26055f0153aa"
      },
      "execution_count": 51,
      "outputs": [
        {
          "output_type": "execute_result",
          "data": {
            "text/plain": [
              "Sequential(\n",
              "  (0): Linear(in_features=30, out_features=16, bias=True)\n",
              "  (1): ReLU()\n",
              "  (2): Linear(in_features=16, out_features=16, bias=True)\n",
              "  (3): ReLU()\n",
              "  (4): Linear(in_features=16, out_features=1, bias=True)\n",
              "  (5): Sigmoid()\n",
              ")"
            ]
          },
          "metadata": {},
          "execution_count": 51
        }
      ]
    },
    {
      "cell_type": "code",
      "source": [
        "type(previsores_test)"
      ],
      "metadata": {
        "colab": {
          "base_uri": "https://localhost:8080/"
        },
        "id": "ZQNa5mbTgyEH",
        "outputId": "82bc3ade-6e87-43f1-ec38-67cdeb99bd32"
      },
      "execution_count": 52,
      "outputs": [
        {
          "output_type": "execute_result",
          "data": {
            "text/plain": [
              "torch.Tensor"
            ]
          },
          "metadata": {},
          "execution_count": 52
        }
      ]
    },
    {
      "cell_type": "code",
      "source": [
        "previsores_test = torch.tensor(np.array(previsores_test), dtype=torch.float)"
      ],
      "metadata": {
        "id": "_IogBHRgg6Zn"
      },
      "execution_count": 53,
      "outputs": []
    },
    {
      "cell_type": "code",
      "source": [
        "type(previsores_test)"
      ],
      "metadata": {
        "colab": {
          "base_uri": "https://localhost:8080/"
        },
        "id": "qlrl_6fchGMk",
        "outputId": "2b3a4907-2b5c-4cea-ac0a-08598232c1b3"
      },
      "execution_count": 54,
      "outputs": [
        {
          "output_type": "execute_result",
          "data": {
            "text/plain": [
              "torch.Tensor"
            ]
          },
          "metadata": {},
          "execution_count": 54
        }
      ]
    },
    {
      "cell_type": "code",
      "source": [
        "previsoes = classificador.forward(previsores_test) # passar pela rede neural em forward"
      ],
      "metadata": {
        "id": "j5moNpFOhIZc"
      },
      "execution_count": 55,
      "outputs": []
    },
    {
      "cell_type": "code",
      "source": [
        "# probabilidade entre 0 e 1\n",
        "previsoes"
      ],
      "metadata": {
        "colab": {
          "base_uri": "https://localhost:8080/"
        },
        "id": "Ta9pu3pAhZ_2",
        "outputId": "72151f1b-a621-445f-fcb0-7b5b962c772a"
      },
      "execution_count": 56,
      "outputs": [
        {
          "output_type": "execute_result",
          "data": {
            "text/plain": [
              "tensor([[4.1128e-01],\n",
              "        [2.0087e-06],\n",
              "        [2.4451e-03],\n",
              "        [1.0000e+00],\n",
              "        [9.9834e-01],\n",
              "        [9.4987e-06],\n",
              "        [8.6155e-09],\n",
              "        [6.6492e-01],\n",
              "        [9.9991e-01],\n",
              "        [9.9321e-01],\n",
              "        [9.9932e-01],\n",
              "        [2.2631e-01],\n",
              "        [9.9985e-01],\n",
              "        [3.6486e-01],\n",
              "        [1.0000e+00],\n",
              "        [9.7123e-01],\n",
              "        [9.9891e-01],\n",
              "        [9.9899e-01],\n",
              "        [1.0000e+00],\n",
              "        [5.2450e-06],\n",
              "        [1.0885e-03],\n",
              "        [9.7384e-01],\n",
              "        [4.8028e-10],\n",
              "        [9.9916e-01],\n",
              "        [9.9536e-01],\n",
              "        [9.9993e-01],\n",
              "        [9.9934e-01],\n",
              "        [1.0000e+00],\n",
              "        [9.9162e-01],\n",
              "        [3.1888e-04],\n",
              "        [9.9989e-01],\n",
              "        [9.9930e-01],\n",
              "        [1.0000e+00],\n",
              "        [7.1213e-01],\n",
              "        [9.9678e-01],\n",
              "        [9.9987e-01],\n",
              "        [2.7229e-03],\n",
              "        [9.7438e-01],\n",
              "        [1.7525e-06],\n",
              "        [5.4938e-01],\n",
              "        [6.3619e-01],\n",
              "        [3.4740e-03],\n",
              "        [9.9991e-01],\n",
              "        [9.8935e-01],\n",
              "        [1.0000e+00],\n",
              "        [9.9984e-01],\n",
              "        [1.0000e+00],\n",
              "        [1.0000e+00],\n",
              "        [9.9109e-01],\n",
              "        [9.2467e-01],\n",
              "        [1.0282e-05],\n",
              "        [7.6115e-06],\n",
              "        [9.9962e-01],\n",
              "        [1.0000e+00],\n",
              "        [9.9980e-01],\n",
              "        [9.4611e-01],\n",
              "        [9.9780e-01],\n",
              "        [9.9047e-09],\n",
              "        [2.8848e-04],\n",
              "        [9.9914e-01],\n",
              "        [8.3047e-01],\n",
              "        [9.2377e-09],\n",
              "        [3.9085e-06],\n",
              "        [9.8222e-01],\n",
              "        [9.9932e-01],\n",
              "        [9.5294e-01],\n",
              "        [3.0110e-01],\n",
              "        [3.3194e-01],\n",
              "        [9.9941e-01],\n",
              "        [9.9886e-01],\n",
              "        [9.9670e-01],\n",
              "        [1.6547e-06],\n",
              "        [9.9087e-01],\n",
              "        [7.5383e-01],\n",
              "        [1.0000e+00],\n",
              "        [9.9387e-01],\n",
              "        [9.9627e-01],\n",
              "        [7.7159e-01],\n",
              "        [9.7860e-01],\n",
              "        [1.0000e+00],\n",
              "        [5.5640e-01],\n",
              "        [9.9265e-01],\n",
              "        [9.9999e-01],\n",
              "        [1.1094e-06],\n",
              "        [2.6783e-02],\n",
              "        [3.3425e-01],\n",
              "        [2.8556e-09],\n",
              "        [3.7588e-04],\n",
              "        [1.0000e+00],\n",
              "        [9.4478e-01],\n",
              "        [9.8578e-01],\n",
              "        [9.1377e-01],\n",
              "        [9.3047e-01],\n",
              "        [1.0000e+00],\n",
              "        [9.9999e-01],\n",
              "        [1.0000e+00],\n",
              "        [4.0692e-06],\n",
              "        [1.8832e-03],\n",
              "        [9.9984e-01],\n",
              "        [8.2409e-03],\n",
              "        [3.4169e-05],\n",
              "        [1.0000e+00],\n",
              "        [5.0386e-05],\n",
              "        [7.0274e-05],\n",
              "        [9.9713e-01],\n",
              "        [9.9426e-01],\n",
              "        [9.6473e-01],\n",
              "        [1.1624e-13],\n",
              "        [8.0705e-01],\n",
              "        [9.5879e-01],\n",
              "        [5.2895e-03],\n",
              "        [9.0089e-01],\n",
              "        [9.9004e-01],\n",
              "        [2.0751e-07],\n",
              "        [1.0000e+00],\n",
              "        [1.4056e-08],\n",
              "        [1.0000e+00],\n",
              "        [9.8863e-01],\n",
              "        [9.9973e-01],\n",
              "        [6.7001e-02],\n",
              "        [1.5399e-01],\n",
              "        [9.9999e-01],\n",
              "        [9.9954e-01],\n",
              "        [9.6949e-06],\n",
              "        [9.9973e-01],\n",
              "        [6.4180e-08],\n",
              "        [2.5840e-05],\n",
              "        [1.0000e+00],\n",
              "        [9.9956e-01],\n",
              "        [2.5901e-11],\n",
              "        [5.1270e-08],\n",
              "        [1.7458e-01],\n",
              "        [5.2218e-01],\n",
              "        [9.9593e-01],\n",
              "        [4.1921e-01],\n",
              "        [8.3726e-01],\n",
              "        [9.9874e-01],\n",
              "        [9.6362e-01],\n",
              "        [9.9827e-01],\n",
              "        [4.3456e-04],\n",
              "        [9.9074e-01],\n",
              "        [5.3121e-10],\n",
              "        [9.9978e-01]], grad_fn=<SigmoidBackward0>)"
            ]
          },
          "metadata": {},
          "execution_count": 56
        }
      ]
    },
    {
      "cell_type": "code",
      "source": [
        "# Limiar de classificação\n",
        "\n",
        "previsoes = np.array(previsoes> 0.5) # valor 0.5 de acordo com o cenário\n",
        "previsoes"
      ],
      "metadata": {
        "colab": {
          "base_uri": "https://localhost:8080/"
        },
        "id": "4F6bTn7shbtu",
        "outputId": "fa642df2-929a-4110-c203-6b5dd6fcb2bf"
      },
      "execution_count": 57,
      "outputs": [
        {
          "output_type": "execute_result",
          "data": {
            "text/plain": [
              "array([[False],\n",
              "       [False],\n",
              "       [False],\n",
              "       [ True],\n",
              "       [ True],\n",
              "       [False],\n",
              "       [False],\n",
              "       [ True],\n",
              "       [ True],\n",
              "       [ True],\n",
              "       [ True],\n",
              "       [False],\n",
              "       [ True],\n",
              "       [False],\n",
              "       [ True],\n",
              "       [ True],\n",
              "       [ True],\n",
              "       [ True],\n",
              "       [ True],\n",
              "       [False],\n",
              "       [False],\n",
              "       [ True],\n",
              "       [False],\n",
              "       [ True],\n",
              "       [ True],\n",
              "       [ True],\n",
              "       [ True],\n",
              "       [ True],\n",
              "       [ True],\n",
              "       [False],\n",
              "       [ True],\n",
              "       [ True],\n",
              "       [ True],\n",
              "       [ True],\n",
              "       [ True],\n",
              "       [ True],\n",
              "       [False],\n",
              "       [ True],\n",
              "       [False],\n",
              "       [ True],\n",
              "       [ True],\n",
              "       [False],\n",
              "       [ True],\n",
              "       [ True],\n",
              "       [ True],\n",
              "       [ True],\n",
              "       [ True],\n",
              "       [ True],\n",
              "       [ True],\n",
              "       [ True],\n",
              "       [False],\n",
              "       [False],\n",
              "       [ True],\n",
              "       [ True],\n",
              "       [ True],\n",
              "       [ True],\n",
              "       [ True],\n",
              "       [False],\n",
              "       [False],\n",
              "       [ True],\n",
              "       [ True],\n",
              "       [False],\n",
              "       [False],\n",
              "       [ True],\n",
              "       [ True],\n",
              "       [ True],\n",
              "       [False],\n",
              "       [False],\n",
              "       [ True],\n",
              "       [ True],\n",
              "       [ True],\n",
              "       [False],\n",
              "       [ True],\n",
              "       [ True],\n",
              "       [ True],\n",
              "       [ True],\n",
              "       [ True],\n",
              "       [ True],\n",
              "       [ True],\n",
              "       [ True],\n",
              "       [ True],\n",
              "       [ True],\n",
              "       [ True],\n",
              "       [False],\n",
              "       [False],\n",
              "       [False],\n",
              "       [False],\n",
              "       [False],\n",
              "       [ True],\n",
              "       [ True],\n",
              "       [ True],\n",
              "       [ True],\n",
              "       [ True],\n",
              "       [ True],\n",
              "       [ True],\n",
              "       [ True],\n",
              "       [False],\n",
              "       [False],\n",
              "       [ True],\n",
              "       [False],\n",
              "       [False],\n",
              "       [ True],\n",
              "       [False],\n",
              "       [False],\n",
              "       [ True],\n",
              "       [ True],\n",
              "       [ True],\n",
              "       [False],\n",
              "       [ True],\n",
              "       [ True],\n",
              "       [False],\n",
              "       [ True],\n",
              "       [ True],\n",
              "       [False],\n",
              "       [ True],\n",
              "       [False],\n",
              "       [ True],\n",
              "       [ True],\n",
              "       [ True],\n",
              "       [False],\n",
              "       [False],\n",
              "       [ True],\n",
              "       [ True],\n",
              "       [False],\n",
              "       [ True],\n",
              "       [False],\n",
              "       [False],\n",
              "       [ True],\n",
              "       [ True],\n",
              "       [False],\n",
              "       [False],\n",
              "       [False],\n",
              "       [ True],\n",
              "       [ True],\n",
              "       [False],\n",
              "       [ True],\n",
              "       [ True],\n",
              "       [ True],\n",
              "       [ True],\n",
              "       [False],\n",
              "       [ True],\n",
              "       [False],\n",
              "       [ True]])"
            ]
          },
          "metadata": {},
          "execution_count": 57
        }
      ]
    },
    {
      "cell_type": "code",
      "source": [
        "previsoes.shape"
      ],
      "metadata": {
        "colab": {
          "base_uri": "https://localhost:8080/"
        },
        "id": "U1XhZgdei5_u",
        "outputId": "0125e942-0695-425a-edc6-f91d570349da"
      },
      "execution_count": 58,
      "outputs": [
        {
          "output_type": "execute_result",
          "data": {
            "text/plain": [
              "(143, 1)"
            ]
          },
          "metadata": {},
          "execution_count": 58
        }
      ]
    },
    {
      "cell_type": "code",
      "source": [
        "classe_test"
      ],
      "metadata": {
        "colab": {
          "base_uri": "https://localhost:8080/",
          "height": 424
        },
        "id": "gqzQto-YilA0",
        "outputId": "51ab3902-3c89-41b4-f64b-33821701c0f3"
      },
      "execution_count": 59,
      "outputs": [
        {
          "output_type": "execute_result",
          "data": {
            "text/plain": [
              "     0\n",
              "204  1\n",
              "70   0\n",
              "131  0\n",
              "431  1\n",
              "540  1\n",
              "..  ..\n",
              "89   1\n",
              "199  0\n",
              "411  1\n",
              "18   0\n",
              "390  1\n",
              "\n",
              "[143 rows x 1 columns]"
            ],
            "text/html": [
              "\n",
              "\n",
              "  <div id=\"df-a13d813f-b6dc-4e7d-a512-6b9cde961502\">\n",
              "    <div class=\"colab-df-container\">\n",
              "      <div>\n",
              "<style scoped>\n",
              "    .dataframe tbody tr th:only-of-type {\n",
              "        vertical-align: middle;\n",
              "    }\n",
              "\n",
              "    .dataframe tbody tr th {\n",
              "        vertical-align: top;\n",
              "    }\n",
              "\n",
              "    .dataframe thead th {\n",
              "        text-align: right;\n",
              "    }\n",
              "</style>\n",
              "<table border=\"1\" class=\"dataframe\">\n",
              "  <thead>\n",
              "    <tr style=\"text-align: right;\">\n",
              "      <th></th>\n",
              "      <th>0</th>\n",
              "    </tr>\n",
              "  </thead>\n",
              "  <tbody>\n",
              "    <tr>\n",
              "      <th>204</th>\n",
              "      <td>1</td>\n",
              "    </tr>\n",
              "    <tr>\n",
              "      <th>70</th>\n",
              "      <td>0</td>\n",
              "    </tr>\n",
              "    <tr>\n",
              "      <th>131</th>\n",
              "      <td>0</td>\n",
              "    </tr>\n",
              "    <tr>\n",
              "      <th>431</th>\n",
              "      <td>1</td>\n",
              "    </tr>\n",
              "    <tr>\n",
              "      <th>540</th>\n",
              "      <td>1</td>\n",
              "    </tr>\n",
              "    <tr>\n",
              "      <th>...</th>\n",
              "      <td>...</td>\n",
              "    </tr>\n",
              "    <tr>\n",
              "      <th>89</th>\n",
              "      <td>1</td>\n",
              "    </tr>\n",
              "    <tr>\n",
              "      <th>199</th>\n",
              "      <td>0</td>\n",
              "    </tr>\n",
              "    <tr>\n",
              "      <th>411</th>\n",
              "      <td>1</td>\n",
              "    </tr>\n",
              "    <tr>\n",
              "      <th>18</th>\n",
              "      <td>0</td>\n",
              "    </tr>\n",
              "    <tr>\n",
              "      <th>390</th>\n",
              "      <td>1</td>\n",
              "    </tr>\n",
              "  </tbody>\n",
              "</table>\n",
              "<p>143 rows × 1 columns</p>\n",
              "</div>\n",
              "      <button class=\"colab-df-convert\" onclick=\"convertToInteractive('df-a13d813f-b6dc-4e7d-a512-6b9cde961502')\"\n",
              "              title=\"Convert this dataframe to an interactive table.\"\n",
              "              style=\"display:none;\">\n",
              "\n",
              "  <svg xmlns=\"http://www.w3.org/2000/svg\" height=\"24px\"viewBox=\"0 0 24 24\"\n",
              "       width=\"24px\">\n",
              "    <path d=\"M0 0h24v24H0V0z\" fill=\"none\"/>\n",
              "    <path d=\"M18.56 5.44l.94 2.06.94-2.06 2.06-.94-2.06-.94-.94-2.06-.94 2.06-2.06.94zm-11 1L8.5 8.5l.94-2.06 2.06-.94-2.06-.94L8.5 2.5l-.94 2.06-2.06.94zm10 10l.94 2.06.94-2.06 2.06-.94-2.06-.94-.94-2.06-.94 2.06-2.06.94z\"/><path d=\"M17.41 7.96l-1.37-1.37c-.4-.4-.92-.59-1.43-.59-.52 0-1.04.2-1.43.59L10.3 9.45l-7.72 7.72c-.78.78-.78 2.05 0 2.83L4 21.41c.39.39.9.59 1.41.59.51 0 1.02-.2 1.41-.59l7.78-7.78 2.81-2.81c.8-.78.8-2.07 0-2.86zM5.41 20L4 18.59l7.72-7.72 1.47 1.35L5.41 20z\"/>\n",
              "  </svg>\n",
              "      </button>\n",
              "\n",
              "\n",
              "\n",
              "    <div id=\"df-fa48f42e-10c3-49b1-9fd3-25b375dc4c33\">\n",
              "      <button class=\"colab-df-quickchart\" onclick=\"quickchart('df-fa48f42e-10c3-49b1-9fd3-25b375dc4c33')\"\n",
              "              title=\"Suggest charts.\"\n",
              "              style=\"display:none;\">\n",
              "\n",
              "<svg xmlns=\"http://www.w3.org/2000/svg\" height=\"24px\"viewBox=\"0 0 24 24\"\n",
              "     width=\"24px\">\n",
              "    <g>\n",
              "        <path d=\"M19 3H5c-1.1 0-2 .9-2 2v14c0 1.1.9 2 2 2h14c1.1 0 2-.9 2-2V5c0-1.1-.9-2-2-2zM9 17H7v-7h2v7zm4 0h-2V7h2v10zm4 0h-2v-4h2v4z\"/>\n",
              "    </g>\n",
              "</svg>\n",
              "      </button>\n",
              "    </div>\n",
              "\n",
              "<style>\n",
              "  .colab-df-quickchart {\n",
              "    background-color: #E8F0FE;\n",
              "    border: none;\n",
              "    border-radius: 50%;\n",
              "    cursor: pointer;\n",
              "    display: none;\n",
              "    fill: #1967D2;\n",
              "    height: 32px;\n",
              "    padding: 0 0 0 0;\n",
              "    width: 32px;\n",
              "  }\n",
              "\n",
              "  .colab-df-quickchart:hover {\n",
              "    background-color: #E2EBFA;\n",
              "    box-shadow: 0px 1px 2px rgba(60, 64, 67, 0.3), 0px 1px 3px 1px rgba(60, 64, 67, 0.15);\n",
              "    fill: #174EA6;\n",
              "  }\n",
              "\n",
              "  [theme=dark] .colab-df-quickchart {\n",
              "    background-color: #3B4455;\n",
              "    fill: #D2E3FC;\n",
              "  }\n",
              "\n",
              "  [theme=dark] .colab-df-quickchart:hover {\n",
              "    background-color: #434B5C;\n",
              "    box-shadow: 0px 1px 3px 1px rgba(0, 0, 0, 0.15);\n",
              "    filter: drop-shadow(0px 1px 2px rgba(0, 0, 0, 0.3));\n",
              "    fill: #FFFFFF;\n",
              "  }\n",
              "</style>\n",
              "\n",
              "    <script>\n",
              "      async function quickchart(key) {\n",
              "        const containerElement = document.querySelector('#' + key);\n",
              "        const charts = await google.colab.kernel.invokeFunction(\n",
              "            'suggestCharts', [key], {});\n",
              "      }\n",
              "    </script>\n",
              "\n",
              "      <script>\n",
              "\n",
              "function displayQuickchartButton(domScope) {\n",
              "  let quickchartButtonEl =\n",
              "    domScope.querySelector('#df-fa48f42e-10c3-49b1-9fd3-25b375dc4c33 button.colab-df-quickchart');\n",
              "  quickchartButtonEl.style.display =\n",
              "    google.colab.kernel.accessAllowed ? 'block' : 'none';\n",
              "}\n",
              "\n",
              "        displayQuickchartButton(document);\n",
              "      </script>\n",
              "      <style>\n",
              "    .colab-df-container {\n",
              "      display:flex;\n",
              "      flex-wrap:wrap;\n",
              "      gap: 12px;\n",
              "    }\n",
              "\n",
              "    .colab-df-convert {\n",
              "      background-color: #E8F0FE;\n",
              "      border: none;\n",
              "      border-radius: 50%;\n",
              "      cursor: pointer;\n",
              "      display: none;\n",
              "      fill: #1967D2;\n",
              "      height: 32px;\n",
              "      padding: 0 0 0 0;\n",
              "      width: 32px;\n",
              "    }\n",
              "\n",
              "    .colab-df-convert:hover {\n",
              "      background-color: #E2EBFA;\n",
              "      box-shadow: 0px 1px 2px rgba(60, 64, 67, 0.3), 0px 1px 3px 1px rgba(60, 64, 67, 0.15);\n",
              "      fill: #174EA6;\n",
              "    }\n",
              "\n",
              "    [theme=dark] .colab-df-convert {\n",
              "      background-color: #3B4455;\n",
              "      fill: #D2E3FC;\n",
              "    }\n",
              "\n",
              "    [theme=dark] .colab-df-convert:hover {\n",
              "      background-color: #434B5C;\n",
              "      box-shadow: 0px 1px 3px 1px rgba(0, 0, 0, 0.15);\n",
              "      filter: drop-shadow(0px 1px 2px rgba(0, 0, 0, 0.3));\n",
              "      fill: #FFFFFF;\n",
              "    }\n",
              "  </style>\n",
              "\n",
              "      <script>\n",
              "        const buttonEl =\n",
              "          document.querySelector('#df-a13d813f-b6dc-4e7d-a512-6b9cde961502 button.colab-df-convert');\n",
              "        buttonEl.style.display =\n",
              "          google.colab.kernel.accessAllowed ? 'block' : 'none';\n",
              "\n",
              "        async function convertToInteractive(key) {\n",
              "          const element = document.querySelector('#df-a13d813f-b6dc-4e7d-a512-6b9cde961502');\n",
              "          const dataTable =\n",
              "            await google.colab.kernel.invokeFunction('convertToInteractive',\n",
              "                                                     [key], {});\n",
              "          if (!dataTable) return;\n",
              "\n",
              "          const docLinkHtml = 'Like what you see? Visit the ' +\n",
              "            '<a target=\"_blank\" href=https://colab.research.google.com/notebooks/data_table.ipynb>data table notebook</a>'\n",
              "            + ' to learn more about interactive tables.';\n",
              "          element.innerHTML = '';\n",
              "          dataTable['output_type'] = 'display_data';\n",
              "          await google.colab.output.renderOutput(dataTable, element);\n",
              "          const docLink = document.createElement('div');\n",
              "          docLink.innerHTML = docLinkHtml;\n",
              "          element.appendChild(docLink);\n",
              "        }\n",
              "      </script>\n",
              "    </div>\n",
              "  </div>\n"
            ]
          },
          "metadata": {},
          "execution_count": 59
        }
      ]
    },
    {
      "cell_type": "code",
      "source": [
        "# Taxa de acerto, comparação entre as etiquetas 0 e 1 com as str True e False:\n",
        "\n",
        "taxa_acerto = accuracy_score(classe_test, previsoes)\n",
        "taxa_acerto"
      ],
      "metadata": {
        "colab": {
          "base_uri": "https://localhost:8080/"
        },
        "id": "6k_J_Ug8h_YX",
        "outputId": "bd1c3318-dec0-48bf-bc56-8477d7219a6f"
      },
      "execution_count": 60,
      "outputs": [
        {
          "output_type": "execute_result",
          "data": {
            "text/plain": [
              "0.9230769230769231"
            ]
          },
          "metadata": {},
          "execution_count": 60
        }
      ]
    },
    {
      "cell_type": "code",
      "source": [
        "# Matrix de confusão:\n",
        "\n",
        "matrix = confusion_matrix(classe_test, previsoes)\n",
        "matrix"
      ],
      "metadata": {
        "colab": {
          "base_uri": "https://localhost:8080/"
        },
        "id": "KsDIRHeCiPUM",
        "outputId": "02b33700-a7bd-438e-dd54-a94a1b6b3e03"
      },
      "execution_count": 61,
      "outputs": [
        {
          "output_type": "execute_result",
          "data": {
            "text/plain": [
              "array([[46,  8],\n",
              "       [ 3, 86]])"
            ]
          },
          "metadata": {},
          "execution_count": 61
        }
      ]
    },
    {
      "cell_type": "code",
      "source": [
        "sns.heatmap(matrix, annot=True);"
      ],
      "metadata": {
        "colab": {
          "base_uri": "https://localhost:8080/",
          "height": 430
        },
        "id": "wMInwLwakmxe",
        "outputId": "7fe947ba-bad8-4c8c-849b-d9025304ab8a"
      },
      "execution_count": 62,
      "outputs": [
        {
          "output_type": "display_data",
          "data": {
            "text/plain": [
              "<Figure size 640x480 with 2 Axes>"
            ],
            "image/png": "[encoded data removed]"
          },
          "metadata": {}
        }
      ]
    },
    {
      "cell_type": "code",
      "source": [],
      "metadata": {
        "id": "4btjJVHDktDi"
      },
      "execution_count": null,
      "outputs": []
    }
  ]
}