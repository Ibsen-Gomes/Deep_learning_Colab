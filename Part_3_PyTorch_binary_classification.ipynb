{
  "nbformat": 4,
  "nbformat_minor": 0,
  "metadata": {
    "colab": {
      "provenance": [],
      "mount_file_id": "1P8q54Lfd0qJ7c4ysqZf6esxbKw4ND9ms",
      "authorship_tag": "ABX9TyMt6sqiw4aHxi1Ykp+0kDRT",
      "include_colab_link": true
    },
    "kernelspec": {
      "name": "python3",
      "display_name": "Python 3"
    },
    "language_info": {
      "name": "python"
    }
  },
  "cells": [
    {
      "cell_type": "markdown",
      "metadata": {
        "id": "view-in-github",
        "colab_type": "text"
      },
      "source": [
        "<a href=\"https://colab.research.google.com/github/Ibsen-Gomes/Deep_learning_breast_cancer_binary_classification/blob/main/Deep_learning_breast_cancer_PyTorch.ipynb\" target=\"_parent\"><img src=\"https://colab.research.google.com/assets/colab-badge.svg\" alt=\"Open In Colab\"/></a>"
      ]
    },
    {
      "cell_type": "markdown",
      "source": [
        "# Part 3)"
      ],
      "metadata": {
        "id": "QV-U_l23OqrA"
      }
    },
    {
      "cell_type": "markdown",
      "source": [
        "#Using the best Hyperparameters found in the colab: Deep_learning_PyTorch_crossV_dropout_tuning.ipynb"
      ],
      "metadata": {
        "id": "cFx8GsLMVhbQ"
      }
    },
    {
      "cell_type": "markdown",
      "source": [
        "### Libraries:"
      ],
      "metadata": {
        "id": "M9dJck8L-CXw"
      }
    },
    {
      "cell_type": "code",
      "source": [
        "import pandas as pd\n",
        "import numpy as np\n",
        "import seaborn as sns\n",
        "from sklearn.model_selection import train_test_split\n",
        "from sklearn.metrics import confusion_matrix, accuracy_score"
      ],
      "metadata": {
        "id": "4WgHe92r-Ax6"
      },
      "execution_count": 1,
      "outputs": []
    },
    {
      "cell_type": "markdown",
      "source": [
        "### PyTorch package import:"
      ],
      "metadata": {
        "id": "NEvz3onB-JRE"
      }
    },
    {
      "cell_type": "code",
      "source": [
        "import torch\n",
        "torch.__version__"
      ],
      "metadata": {
        "colab": {
          "base_uri": "https://localhost:8080/",
          "height": 35
        },
        "id": "csxD8avJxcF5",
        "outputId": "4bb12faf-f3a6-4892-b2e6-5e750e89f059"
      },
      "execution_count": 2,
      "outputs": [
        {
          "output_type": "execute_result",
          "data": {
            "text/plain": [
              "'2.0.1+cu118'"
            ],
            "application/vnd.google.colaboratory.intrinsic+json": {
              "type": "string"
            }
          },
          "metadata": {},
          "execution_count": 2
        }
      ]
    },
    {
      "cell_type": "code",
      "source": [
        "import torch.nn as nn"
      ],
      "metadata": {
        "id": "ZdRl6WxXxoua"
      },
      "execution_count": 3,
      "outputs": []
    },
    {
      "cell_type": "markdown",
      "source": [
        "### Load data"
      ],
      "metadata": {
        "id": "6lGVDwFJy86B"
      }
    },
    {
      "cell_type": "code",
      "source": [
        "np.random.seed(42)\n",
        "torch.manual_seed(42)"
      ],
      "metadata": {
        "colab": {
          "base_uri": "https://localhost:8080/"
        },
        "id": "CssdCo9pxsaL",
        "outputId": "c1542ed8-de38-4f4b-c0ae-52d9885b37d7"
      },
      "execution_count": 4,
      "outputs": [
        {
          "output_type": "execute_result",
          "data": {
            "text/plain": [
              "<torch._C.Generator at 0x7fd2e1908b30>"
            ]
          },
          "metadata": {},
          "execution_count": 4
        }
      ]
    },
    {
      "cell_type": "code",
      "source": [
        "previsores = pd.read_csv('/content/drive/MyDrive/Deep_learning/entradas_breast.csv')\n",
        "classe = pd.read_csv('/content/drive/MyDrive/Deep_learning/saidas_breast.csv')"
      ],
      "metadata": {
        "id": "7Ffz0JXdzEqr"
      },
      "execution_count": 5,
      "outputs": []
    },
    {
      "cell_type": "code",
      "source": [
        "type(previsores)"
      ],
      "metadata": {
        "colab": {
          "base_uri": "https://localhost:8080/"
        },
        "id": "nj_lwatI7Ase",
        "outputId": "f18d6ef2-ce2e-4a95-9e8d-3359e5e8f3da"
      },
      "execution_count": 6,
      "outputs": [
        {
          "output_type": "execute_result",
          "data": {
            "text/plain": [
              "pandas.core.frame.DataFrame"
            ]
          },
          "metadata": {},
          "execution_count": 6
        }
      ]
    },
    {
      "cell_type": "code",
      "source": [
        "previsores.head()"
      ],
      "metadata": {
        "colab": {
          "base_uri": "https://localhost:8080/",
          "height": 300
        },
        "id": "7hgIKjvU7LFP",
        "outputId": "14b41c49-b51d-4e0c-bfa2-0c28788a9fcd"
      },
      "execution_count": 7,
      "outputs": [
        {
          "output_type": "execute_result",
          "data": {
            "text/plain": [
              "    radius_mean   texture_mean   perimeter_mean   area_mean   smoothness_mean  \\\n",
              "0         17.99          10.38           122.80      1001.0           0.11840   \n",
              "1         20.57          17.77           132.90      1326.0           0.08474   \n",
              "2         19.69          21.25           130.00      1203.0           0.10960   \n",
              "3         11.42          20.38            77.58       386.1           0.14250   \n",
              "4         20.29          14.34           135.10      1297.0           0.10030   \n",
              "\n",
              "    compactness_mean   concavity_mean  concave_points_mean   symmetry_mean  \\\n",
              "0            0.27760           0.3001              0.14710          0.2419   \n",
              "1            0.07864           0.0869              0.07017          0.1812   \n",
              "2            0.15990           0.1974              0.12790          0.2069   \n",
              "3            0.28390           0.2414              0.10520          0.2597   \n",
              "4            0.13280         198.0000              0.10430          0.1809   \n",
              "\n",
              "    fractal_dimension_mean  ...   radius_worst   texture_worst  \\\n",
              "0                  0.07871  ...          25.38           17.33   \n",
              "1                  0.05667  ...          24.99           23.41   \n",
              "2                  0.05999  ...          23.57           25.53   \n",
              "3                  0.09744  ...          14.91           26.50   \n",
              "4                  0.05883  ...          22.54           16.67   \n",
              "\n",
              "    perimeter_worst   area_worst   smoothness_worst   compactness_worst  \\\n",
              "0            184.60       2019.0             0.1622              0.6656   \n",
              "1            158.80       1956.0             0.1238              0.1866   \n",
              "2            152.50       1709.0             0.1444              0.4245   \n",
              "3             98.87        567.7             0.2098              0.8663   \n",
              "4            152.20       1575.0             0.1374            205.0000   \n",
              "\n",
              "    concavity_worst   concave_points_worst   symmetry_worst  \\\n",
              "0            0.7119                 0.2654           0.4601   \n",
              "1            0.2416               186.0000         275.0000   \n",
              "2            0.4504               243.0000           0.3613   \n",
              "3            0.6869                 0.2575           0.6638   \n",
              "4            0.4000                 0.1625           0.2364   \n",
              "\n",
              "    fractal_dimension_worst  \n",
              "0                   0.11890  \n",
              "1                   0.08902  \n",
              "2                   0.08758  \n",
              "3                 173.00000  \n",
              "4                   0.07678  \n",
              "\n",
              "[5 rows x 30 columns]"
            ],
            "text/html": [
              "\n",
              "\n",
              "  <div id=\"df-a43ee039-7b8e-4b9f-baeb-03647bb93a17\">\n",
              "    <div class=\"colab-df-container\">\n",
              "      <div>\n",
              "<style scoped>\n",
              "    .dataframe tbody tr th:only-of-type {\n",
              "        vertical-align: middle;\n",
              "    }\n",
              "\n",
              "    .dataframe tbody tr th {\n",
              "        vertical-align: top;\n",
              "    }\n",
              "\n",
              "    .dataframe thead th {\n",
              "        text-align: right;\n",
              "    }\n",
              "</style>\n",
              "<table border=\"1\" class=\"dataframe\">\n",
              "  <thead>\n",
              "    <tr style=\"text-align: right;\">\n",
              "      <th></th>\n",
              "      <th>radius_mean</th>\n",
              "      <th>texture_mean</th>\n",
              "      <th>perimeter_mean</th>\n",
              "      <th>area_mean</th>\n",
              "      <th>smoothness_mean</th>\n",
              "      <th>compactness_mean</th>\n",
              "      <th>concavity_mean</th>\n",
              "      <th>concave_points_mean</th>\n",
              "      <th>symmetry_mean</th>\n",
              "      <th>fractal_dimension_mean</th>\n",
              "      <th>...</th>\n",
              "      <th>radius_worst</th>\n",
              "      <th>texture_worst</th>\n",
              "      <th>perimeter_worst</th>\n",
              "      <th>area_worst</th>\n",
              "      <th>smoothness_worst</th>\n",
              "      <th>compactness_worst</th>\n",
              "      <th>concavity_worst</th>\n",
              "      <th>concave_points_worst</th>\n",
              "      <th>symmetry_worst</th>\n",
              "      <th>fractal_dimension_worst</th>\n",
              "    </tr>\n",
              "  </thead>\n",
              "  <tbody>\n",
              "    <tr>\n",
              "      <th>0</th>\n",
              "      <td>17.99</td>\n",
              "      <td>10.38</td>\n",
              "      <td>122.80</td>\n",
              "      <td>1001.0</td>\n",
              "      <td>0.11840</td>\n",
              "      <td>0.27760</td>\n",
              "      <td>0.3001</td>\n",
              "      <td>0.14710</td>\n",
              "      <td>0.2419</td>\n",
              "      <td>0.07871</td>\n",
              "      <td>...</td>\n",
              "      <td>25.38</td>\n",
              "      <td>17.33</td>\n",
              "      <td>184.60</td>\n",
              "      <td>2019.0</td>\n",
              "      <td>0.1622</td>\n",
              "      <td>0.6656</td>\n",
              "      <td>0.7119</td>\n",
              "      <td>0.2654</td>\n",
              "      <td>0.4601</td>\n",
              "      <td>0.11890</td>\n",
              "    </tr>\n",
              "    <tr>\n",
              "      <th>1</th>\n",
              "      <td>20.57</td>\n",
              "      <td>17.77</td>\n",
              "      <td>132.90</td>\n",
              "      <td>1326.0</td>\n",
              "      <td>0.08474</td>\n",
              "      <td>0.07864</td>\n",
              "      <td>0.0869</td>\n",
              "      <td>0.07017</td>\n",
              "      <td>0.1812</td>\n",
              "      <td>0.05667</td>\n",
              "      <td>...</td>\n",
              "      <td>24.99</td>\n",
              "      <td>23.41</td>\n",
              "      <td>158.80</td>\n",
              "      <td>1956.0</td>\n",
              "      <td>0.1238</td>\n",
              "      <td>0.1866</td>\n",
              "      <td>0.2416</td>\n",
              "      <td>186.0000</td>\n",
              "      <td>275.0000</td>\n",
              "      <td>0.08902</td>\n",
              "    </tr>\n",
              "    <tr>\n",
              "      <th>2</th>\n",
              "      <td>19.69</td>\n",
              "      <td>21.25</td>\n",
              "      <td>130.00</td>\n",
              "      <td>1203.0</td>\n",
              "      <td>0.10960</td>\n",
              "      <td>0.15990</td>\n",
              "      <td>0.1974</td>\n",
              "      <td>0.12790</td>\n",
              "      <td>0.2069</td>\n",
              "      <td>0.05999</td>\n",
              "      <td>...</td>\n",
              "      <td>23.57</td>\n",
              "      <td>25.53</td>\n",
              "      <td>152.50</td>\n",
              "      <td>1709.0</td>\n",
              "      <td>0.1444</td>\n",
              "      <td>0.4245</td>\n",
              "      <td>0.4504</td>\n",
              "      <td>243.0000</td>\n",
              "      <td>0.3613</td>\n",
              "      <td>0.08758</td>\n",
              "    </tr>\n",
              "    <tr>\n",
              "      <th>3</th>\n",
              "      <td>11.42</td>\n",
              "      <td>20.38</td>\n",
              "      <td>77.58</td>\n",
              "      <td>386.1</td>\n",
              "      <td>0.14250</td>\n",
              "      <td>0.28390</td>\n",
              "      <td>0.2414</td>\n",
              "      <td>0.10520</td>\n",
              "      <td>0.2597</td>\n",
              "      <td>0.09744</td>\n",
              "      <td>...</td>\n",
              "      <td>14.91</td>\n",
              "      <td>26.50</td>\n",
              "      <td>98.87</td>\n",
              "      <td>567.7</td>\n",
              "      <td>0.2098</td>\n",
              "      <td>0.8663</td>\n",
              "      <td>0.6869</td>\n",
              "      <td>0.2575</td>\n",
              "      <td>0.6638</td>\n",
              "      <td>173.00000</td>\n",
              "    </tr>\n",
              "    <tr>\n",
              "      <th>4</th>\n",
              "      <td>20.29</td>\n",
              "      <td>14.34</td>\n",
              "      <td>135.10</td>\n",
              "      <td>1297.0</td>\n",
              "      <td>0.10030</td>\n",
              "      <td>0.13280</td>\n",
              "      <td>198.0000</td>\n",
              "      <td>0.10430</td>\n",
              "      <td>0.1809</td>\n",
              "      <td>0.05883</td>\n",
              "      <td>...</td>\n",
              "      <td>22.54</td>\n",
              "      <td>16.67</td>\n",
              "      <td>152.20</td>\n",
              "      <td>1575.0</td>\n",
              "      <td>0.1374</td>\n",
              "      <td>205.0000</td>\n",
              "      <td>0.4000</td>\n",
              "      <td>0.1625</td>\n",
              "      <td>0.2364</td>\n",
              "      <td>0.07678</td>\n",
              "    </tr>\n",
              "  </tbody>\n",
              "</table>\n",
              "<p>5 rows × 30 columns</p>\n",
              "</div>\n",
              "      <button class=\"colab-df-convert\" onclick=\"convertToInteractive('df-a43ee039-7b8e-4b9f-baeb-03647bb93a17')\"\n",
              "              title=\"Convert this dataframe to an interactive table.\"\n",
              "              style=\"display:none;\">\n",
              "\n",
              "  <svg xmlns=\"http://www.w3.org/2000/svg\" height=\"24px\"viewBox=\"0 0 24 24\"\n",
              "       width=\"24px\">\n",
              "    <path d=\"M0 0h24v24H0V0z\" fill=\"none\"/>\n",
              "    <path d=\"M18.56 5.44l.94 2.06.94-2.06 2.06-.94-2.06-.94-.94-2.06-.94 2.06-2.06.94zm-11 1L8.5 8.5l.94-2.06 2.06-.94-2.06-.94L8.5 2.5l-.94 2.06-2.06.94zm10 10l.94 2.06.94-2.06 2.06-.94-2.06-.94-.94-2.06-.94 2.06-2.06.94z\"/><path d=\"M17.41 7.96l-1.37-1.37c-.4-.4-.92-.59-1.43-.59-.52 0-1.04.2-1.43.59L10.3 9.45l-7.72 7.72c-.78.78-.78 2.05 0 2.83L4 21.41c.39.39.9.59 1.41.59.51 0 1.02-.2 1.41-.59l7.78-7.78 2.81-2.81c.8-.78.8-2.07 0-2.86zM5.41 20L4 18.59l7.72-7.72 1.47 1.35L5.41 20z\"/>\n",
              "  </svg>\n",
              "      </button>\n",
              "\n",
              "\n",
              "\n",
              "    <div id=\"df-c20957e6-0cb6-41dd-8335-97bfd8123224\">\n",
              "      <button class=\"colab-df-quickchart\" onclick=\"quickchart('df-c20957e6-0cb6-41dd-8335-97bfd8123224')\"\n",
              "              title=\"Suggest charts.\"\n",
              "              style=\"display:none;\">\n",
              "\n",
              "<svg xmlns=\"http://www.w3.org/2000/svg\" height=\"24px\"viewBox=\"0 0 24 24\"\n",
              "     width=\"24px\">\n",
              "    <g>\n",
              "        <path d=\"M19 3H5c-1.1 0-2 .9-2 2v14c0 1.1.9 2 2 2h14c1.1 0 2-.9 2-2V5c0-1.1-.9-2-2-2zM9 17H7v-7h2v7zm4 0h-2V7h2v10zm4 0h-2v-4h2v4z\"/>\n",
              "    </g>\n",
              "</svg>\n",
              "      </button>\n",
              "    </div>\n",
              "\n",
              "<style>\n",
              "  .colab-df-quickchart {\n",
              "    background-color: #E8F0FE;\n",
              "    border: none;\n",
              "    border-radius: 50%;\n",
              "    cursor: pointer;\n",
              "    display: none;\n",
              "    fill: #1967D2;\n",
              "    height: 32px;\n",
              "    padding: 0 0 0 0;\n",
              "    width: 32px;\n",
              "  }\n",
              "\n",
              "  .colab-df-quickchart:hover {\n",
              "    background-color: #E2EBFA;\n",
              "    box-shadow: 0px 1px 2px rgba(60, 64, 67, 0.3), 0px 1px 3px 1px rgba(60, 64, 67, 0.15);\n",
              "    fill: #174EA6;\n",
              "  }\n",
              "\n",
              "  [theme=dark] .colab-df-quickchart {\n",
              "    background-color: #3B4455;\n",
              "    fill: #D2E3FC;\n",
              "  }\n",
              "\n",
              "  [theme=dark] .colab-df-quickchart:hover {\n",
              "    background-color: #434B5C;\n",
              "    box-shadow: 0px 1px 3px 1px rgba(0, 0, 0, 0.15);\n",
              "    filter: drop-shadow(0px 1px 2px rgba(0, 0, 0, 0.3));\n",
              "    fill: #FFFFFF;\n",
              "  }\n",
              "</style>\n",
              "\n",
              "    <script>\n",
              "      async function quickchart(key) {\n",
              "        const containerElement = document.querySelector('#' + key);\n",
              "        const charts = await google.colab.kernel.invokeFunction(\n",
              "            'suggestCharts', [key], {});\n",
              "      }\n",
              "    </script>\n",
              "\n",
              "      <script>\n",
              "\n",
              "function displayQuickchartButton(domScope) {\n",
              "  let quickchartButtonEl =\n",
              "    domScope.querySelector('#df-c20957e6-0cb6-41dd-8335-97bfd8123224 button.colab-df-quickchart');\n",
              "  quickchartButtonEl.style.display =\n",
              "    google.colab.kernel.accessAllowed ? 'block' : 'none';\n",
              "}\n",
              "\n",
              "        displayQuickchartButton(document);\n",
              "      </script>\n",
              "      <style>\n",
              "    .colab-df-container {\n",
              "      display:flex;\n",
              "      flex-wrap:wrap;\n",
              "      gap: 12px;\n",
              "    }\n",
              "\n",
              "    .colab-df-convert {\n",
              "      background-color: #E8F0FE;\n",
              "      border: none;\n",
              "      border-radius: 50%;\n",
              "      cursor: pointer;\n",
              "      display: none;\n",
              "      fill: #1967D2;\n",
              "      height: 32px;\n",
              "      padding: 0 0 0 0;\n",
              "      width: 32px;\n",
              "    }\n",
              "\n",
              "    .colab-df-convert:hover {\n",
              "      background-color: #E2EBFA;\n",
              "      box-shadow: 0px 1px 2px rgba(60, 64, 67, 0.3), 0px 1px 3px 1px rgba(60, 64, 67, 0.15);\n",
              "      fill: #174EA6;\n",
              "    }\n",
              "\n",
              "    [theme=dark] .colab-df-convert {\n",
              "      background-color: #3B4455;\n",
              "      fill: #D2E3FC;\n",
              "    }\n",
              "\n",
              "    [theme=dark] .colab-df-convert:hover {\n",
              "      background-color: #434B5C;\n",
              "      box-shadow: 0px 1px 3px 1px rgba(0, 0, 0, 0.15);\n",
              "      filter: drop-shadow(0px 1px 2px rgba(0, 0, 0, 0.3));\n",
              "      fill: #FFFFFF;\n",
              "    }\n",
              "  </style>\n",
              "\n",
              "      <script>\n",
              "        const buttonEl =\n",
              "          document.querySelector('#df-a43ee039-7b8e-4b9f-baeb-03647bb93a17 button.colab-df-convert');\n",
              "        buttonEl.style.display =\n",
              "          google.colab.kernel.accessAllowed ? 'block' : 'none';\n",
              "\n",
              "        async function convertToInteractive(key) {\n",
              "          const element = document.querySelector('#df-a43ee039-7b8e-4b9f-baeb-03647bb93a17');\n",
              "          const dataTable =\n",
              "            await google.colab.kernel.invokeFunction('convertToInteractive',\n",
              "                                                     [key], {});\n",
              "          if (!dataTable) return;\n",
              "\n",
              "          const docLinkHtml = 'Like what you see? Visit the ' +\n",
              "            '<a target=\"_blank\" href=https://colab.research.google.com/notebooks/data_table.ipynb>data table notebook</a>'\n",
              "            + ' to learn more about interactive tables.';\n",
              "          element.innerHTML = '';\n",
              "          dataTable['output_type'] = 'display_data';\n",
              "          await google.colab.output.renderOutput(dataTable, element);\n",
              "          const docLink = document.createElement('div');\n",
              "          docLink.innerHTML = docLinkHtml;\n",
              "          element.appendChild(docLink);\n",
              "        }\n",
              "      </script>\n",
              "    </div>\n",
              "  </div>\n"
            ]
          },
          "metadata": {},
          "execution_count": 7
        }
      ]
    },
    {
      "cell_type": "code",
      "source": [
        "classe.head()"
      ],
      "metadata": {
        "colab": {
          "base_uri": "https://localhost:8080/",
          "height": 206
        },
        "id": "55FTNTiL7ONY",
        "outputId": "dada2aeb-acd8-4f11-a310-1c9fef31664e"
      },
      "execution_count": 8,
      "outputs": [
        {
          "output_type": "execute_result",
          "data": {
            "text/plain": [
              "   0\n",
              "0  0\n",
              "1  0\n",
              "2  0\n",
              "3  0\n",
              "4  0"
            ],
            "text/html": [
              "\n",
              "\n",
              "  <div id=\"df-cdf9f35c-5e74-4986-97c6-4b9d957f8227\">\n",
              "    <div class=\"colab-df-container\">\n",
              "      <div>\n",
              "<style scoped>\n",
              "    .dataframe tbody tr th:only-of-type {\n",
              "        vertical-align: middle;\n",
              "    }\n",
              "\n",
              "    .dataframe tbody tr th {\n",
              "        vertical-align: top;\n",
              "    }\n",
              "\n",
              "    .dataframe thead th {\n",
              "        text-align: right;\n",
              "    }\n",
              "</style>\n",
              "<table border=\"1\" class=\"dataframe\">\n",
              "  <thead>\n",
              "    <tr style=\"text-align: right;\">\n",
              "      <th></th>\n",
              "      <th>0</th>\n",
              "    </tr>\n",
              "  </thead>\n",
              "  <tbody>\n",
              "    <tr>\n",
              "      <th>0</th>\n",
              "      <td>0</td>\n",
              "    </tr>\n",
              "    <tr>\n",
              "      <th>1</th>\n",
              "      <td>0</td>\n",
              "    </tr>\n",
              "    <tr>\n",
              "      <th>2</th>\n",
              "      <td>0</td>\n",
              "    </tr>\n",
              "    <tr>\n",
              "      <th>3</th>\n",
              "      <td>0</td>\n",
              "    </tr>\n",
              "    <tr>\n",
              "      <th>4</th>\n",
              "      <td>0</td>\n",
              "    </tr>\n",
              "  </tbody>\n",
              "</table>\n",
              "</div>\n",
              "      <button class=\"colab-df-convert\" onclick=\"convertToInteractive('df-cdf9f35c-5e74-4986-97c6-4b9d957f8227')\"\n",
              "              title=\"Convert this dataframe to an interactive table.\"\n",
              "              style=\"display:none;\">\n",
              "\n",
              "  <svg xmlns=\"http://www.w3.org/2000/svg\" height=\"24px\"viewBox=\"0 0 24 24\"\n",
              "       width=\"24px\">\n",
              "    <path d=\"M0 0h24v24H0V0z\" fill=\"none\"/>\n",
              "    <path d=\"M18.56 5.44l.94 2.06.94-2.06 2.06-.94-2.06-.94-.94-2.06-.94 2.06-2.06.94zm-11 1L8.5 8.5l.94-2.06 2.06-.94-2.06-.94L8.5 2.5l-.94 2.06-2.06.94zm10 10l.94 2.06.94-2.06 2.06-.94-2.06-.94-.94-2.06-.94 2.06-2.06.94z\"/><path d=\"M17.41 7.96l-1.37-1.37c-.4-.4-.92-.59-1.43-.59-.52 0-1.04.2-1.43.59L10.3 9.45l-7.72 7.72c-.78.78-.78 2.05 0 2.83L4 21.41c.39.39.9.59 1.41.59.51 0 1.02-.2 1.41-.59l7.78-7.78 2.81-2.81c.8-.78.8-2.07 0-2.86zM5.41 20L4 18.59l7.72-7.72 1.47 1.35L5.41 20z\"/>\n",
              "  </svg>\n",
              "      </button>\n",
              "\n",
              "\n",
              "\n",
              "    <div id=\"df-02c2cc66-0eff-4275-bdbc-b56225474202\">\n",
              "      <button class=\"colab-df-quickchart\" onclick=\"quickchart('df-02c2cc66-0eff-4275-bdbc-b56225474202')\"\n",
              "              title=\"Suggest charts.\"\n",
              "              style=\"display:none;\">\n",
              "\n",
              "<svg xmlns=\"http://www.w3.org/2000/svg\" height=\"24px\"viewBox=\"0 0 24 24\"\n",
              "     width=\"24px\">\n",
              "    <g>\n",
              "        <path d=\"M19 3H5c-1.1 0-2 .9-2 2v14c0 1.1.9 2 2 2h14c1.1 0 2-.9 2-2V5c0-1.1-.9-2-2-2zM9 17H7v-7h2v7zm4 0h-2V7h2v10zm4 0h-2v-4h2v4z\"/>\n",
              "    </g>\n",
              "</svg>\n",
              "      </button>\n",
              "    </div>\n",
              "\n",
              "<style>\n",
              "  .colab-df-quickchart {\n",
              "    background-color: #E8F0FE;\n",
              "    border: none;\n",
              "    border-radius: 50%;\n",
              "    cursor: pointer;\n",
              "    display: none;\n",
              "    fill: #1967D2;\n",
              "    height: 32px;\n",
              "    padding: 0 0 0 0;\n",
              "    width: 32px;\n",
              "  }\n",
              "\n",
              "  .colab-df-quickchart:hover {\n",
              "    background-color: #E2EBFA;\n",
              "    box-shadow: 0px 1px 2px rgba(60, 64, 67, 0.3), 0px 1px 3px 1px rgba(60, 64, 67, 0.15);\n",
              "    fill: #174EA6;\n",
              "  }\n",
              "\n",
              "  [theme=dark] .colab-df-quickchart {\n",
              "    background-color: #3B4455;\n",
              "    fill: #D2E3FC;\n",
              "  }\n",
              "\n",
              "  [theme=dark] .colab-df-quickchart:hover {\n",
              "    background-color: #434B5C;\n",
              "    box-shadow: 0px 1px 3px 1px rgba(0, 0, 0, 0.15);\n",
              "    filter: drop-shadow(0px 1px 2px rgba(0, 0, 0, 0.3));\n",
              "    fill: #FFFFFF;\n",
              "  }\n",
              "</style>\n",
              "\n",
              "    <script>\n",
              "      async function quickchart(key) {\n",
              "        const containerElement = document.querySelector('#' + key);\n",
              "        const charts = await google.colab.kernel.invokeFunction(\n",
              "            'suggestCharts', [key], {});\n",
              "      }\n",
              "    </script>\n",
              "\n",
              "      <script>\n",
              "\n",
              "function displayQuickchartButton(domScope) {\n",
              "  let quickchartButtonEl =\n",
              "    domScope.querySelector('#df-02c2cc66-0eff-4275-bdbc-b56225474202 button.colab-df-quickchart');\n",
              "  quickchartButtonEl.style.display =\n",
              "    google.colab.kernel.accessAllowed ? 'block' : 'none';\n",
              "}\n",
              "\n",
              "        displayQuickchartButton(document);\n",
              "      </script>\n",
              "      <style>\n",
              "    .colab-df-container {\n",
              "      display:flex;\n",
              "      flex-wrap:wrap;\n",
              "      gap: 12px;\n",
              "    }\n",
              "\n",
              "    .colab-df-convert {\n",
              "      background-color: #E8F0FE;\n",
              "      border: none;\n",
              "      border-radius: 50%;\n",
              "      cursor: pointer;\n",
              "      display: none;\n",
              "      fill: #1967D2;\n",
              "      height: 32px;\n",
              "      padding: 0 0 0 0;\n",
              "      width: 32px;\n",
              "    }\n",
              "\n",
              "    .colab-df-convert:hover {\n",
              "      background-color: #E2EBFA;\n",
              "      box-shadow: 0px 1px 2px rgba(60, 64, 67, 0.3), 0px 1px 3px 1px rgba(60, 64, 67, 0.15);\n",
              "      fill: #174EA6;\n",
              "    }\n",
              "\n",
              "    [theme=dark] .colab-df-convert {\n",
              "      background-color: #3B4455;\n",
              "      fill: #D2E3FC;\n",
              "    }\n",
              "\n",
              "    [theme=dark] .colab-df-convert:hover {\n",
              "      background-color: #434B5C;\n",
              "      box-shadow: 0px 1px 3px 1px rgba(0, 0, 0, 0.15);\n",
              "      filter: drop-shadow(0px 1px 2px rgba(0, 0, 0, 0.3));\n",
              "      fill: #FFFFFF;\n",
              "    }\n",
              "  </style>\n",
              "\n",
              "      <script>\n",
              "        const buttonEl =\n",
              "          document.querySelector('#df-cdf9f35c-5e74-4986-97c6-4b9d957f8227 button.colab-df-convert');\n",
              "        buttonEl.style.display =\n",
              "          google.colab.kernel.accessAllowed ? 'block' : 'none';\n",
              "\n",
              "        async function convertToInteractive(key) {\n",
              "          const element = document.querySelector('#df-cdf9f35c-5e74-4986-97c6-4b9d957f8227');\n",
              "          const dataTable =\n",
              "            await google.colab.kernel.invokeFunction('convertToInteractive',\n",
              "                                                     [key], {});\n",
              "          if (!dataTable) return;\n",
              "\n",
              "          const docLinkHtml = 'Like what you see? Visit the ' +\n",
              "            '<a target=\"_blank\" href=https://colab.research.google.com/notebooks/data_table.ipynb>data table notebook</a>'\n",
              "            + ' to learn more about interactive tables.';\n",
              "          element.innerHTML = '';\n",
              "          dataTable['output_type'] = 'display_data';\n",
              "          await google.colab.output.renderOutput(dataTable, element);\n",
              "          const docLink = document.createElement('div');\n",
              "          docLink.innerHTML = docLinkHtml;\n",
              "          element.appendChild(docLink);\n",
              "        }\n",
              "      </script>\n",
              "    </div>\n",
              "  </div>\n"
            ]
          },
          "metadata": {},
          "execution_count": 8
        }
      ]
    },
    {
      "cell_type": "code",
      "source": [
        "np.unique(classe)"
      ],
      "metadata": {
        "colab": {
          "base_uri": "https://localhost:8080/"
        },
        "id": "nhg_bRLq7XNU",
        "outputId": "ed220dbf-054e-4753-c946-8b90241181fb"
      },
      "execution_count": 9,
      "outputs": [
        {
          "output_type": "execute_result",
          "data": {
            "text/plain": [
              "array([0, 1])"
            ]
          },
          "metadata": {},
          "execution_count": 9
        }
      ]
    },
    {
      "cell_type": "markdown",
      "source": [
        "### Sample count for each label:"
      ],
      "metadata": {
        "id": "u7DQfWgy-jHN"
      }
    },
    {
      "cell_type": "code",
      "source": [
        "sns.countplot(x=classe['0'])"
      ],
      "metadata": {
        "colab": {
          "base_uri": "https://localhost:8080/",
          "height": 466
        },
        "id": "A8nJH17w7dEP",
        "outputId": "f0d4530b-73b3-46a7-ff18-d20a292d4ddf"
      },
      "execution_count": 10,
      "outputs": [
        {
          "output_type": "execute_result",
          "data": {
            "text/plain": [
              "<Axes: xlabel='0', ylabel='count'>"
            ]
          },
          "metadata": {},
          "execution_count": 10
        },
        {
          "output_type": "display_data",
          "data": {
            "text/plain": [
              "<Figure size 640x480 with 1 Axes>"
            ],
            "image/png": "[encoded data removed]"
          },
          "metadata": {}
        }
      ]
    },
    {
      "cell_type": "code",
      "source": [],
      "metadata": {
        "id": "vS5ng2Uv-INV"
      },
      "execution_count": 10,
      "outputs": []
    },
    {
      "cell_type": "markdown",
      "source": [
        "### Transformation into Tensors:\n",
        "\n",
        "##### Essential for processing on GPUs"
      ],
      "metadata": {
        "id": "iMjDJRI5-Qk2"
      }
    },
    {
      "cell_type": "code",
      "source": [
        "previsores = torch.tensor(np.array(previsores), dtype = torch.float)\n",
        "classe = torch.tensor(np.array(classe), dtype = torch.float)"
      ],
      "metadata": {
        "id": "71ii63IR-TLU"
      },
      "execution_count": 11,
      "outputs": []
    },
    {
      "cell_type": "code",
      "source": [
        "type(previsores)"
      ],
      "metadata": {
        "colab": {
          "base_uri": "https://localhost:8080/"
        },
        "id": "Y8vsTkDO4NvK",
        "outputId": "68b9e8bf-5176-4d50-8942-6144a8bf2d48"
      },
      "execution_count": 12,
      "outputs": [
        {
          "output_type": "execute_result",
          "data": {
            "text/plain": [
              "torch.Tensor"
            ]
          },
          "metadata": {},
          "execution_count": 12
        }
      ]
    },
    {
      "cell_type": "code",
      "source": [],
      "metadata": {
        "id": "Kp2XlNvI4Y63"
      },
      "execution_count": 12,
      "outputs": []
    },
    {
      "cell_type": "markdown",
      "source": [
        "#### Creation of a dataset with the union of predictors and classes:"
      ],
      "metadata": {
        "id": "wNCCss9tACcx"
      }
    },
    {
      "cell_type": "code",
      "source": [
        "train_loader = torch.utils.data.DataLoader(torch.utils.data.TensorDataset(previsores, classe), batch_size = 10, shuffle = True)"
      ],
      "metadata": {
        "id": "kOX18VX34dH9"
      },
      "execution_count": 13,
      "outputs": []
    },
    {
      "cell_type": "code",
      "source": [
        "type(train_loader)"
      ],
      "metadata": {
        "id": "h8yf2Y7MAU-K",
        "colab": {
          "base_uri": "https://localhost:8080/"
        },
        "outputId": "28d19f62-446b-4277-d5bd-9e702e3681fe"
      },
      "execution_count": 14,
      "outputs": [
        {
          "output_type": "execute_result",
          "data": {
            "text/plain": [
              "torch.utils.data.dataloader.DataLoader"
            ]
          },
          "metadata": {},
          "execution_count": 14
        }
      ]
    },
    {
      "cell_type": "code",
      "source": [],
      "metadata": {
        "id": "4sRCcHICBLuv"
      },
      "execution_count": 14,
      "outputs": []
    },
    {
      "cell_type": "markdown",
      "source": [
        "### Model building:"
      ],
      "metadata": {
        "id": "qBI-F7_DBMbf"
      }
    },
    {
      "cell_type": "code",
      "source": [
        "class classificador_torch(nn.Module):\n",
        "    def __init__(self):\n",
        "        super().__init__()\n",
        "\n",
        "        # Contruindo a rede: 30 -> 16 -> 16 -> 1\n",
        "\n",
        "        # 1) 30 -> 16:\n",
        "        self.dense0 = nn.Linear(30, 8)\n",
        "        torch.nn.init.normal_(self.dense0.weight, mean = 0.0, std= 0.05)\n",
        "\n",
        "        # 2) 16 -> 16:\n",
        "        self.dense1 = nn.Linear(8, 8)\n",
        "        torch.nn.init.normal_(self.dense1.weight, mean = 0.0, std= 0.05)\n",
        "\n",
        "        # 3) 16 -> 1:\n",
        "        self.dense2 = nn.Linear(8, 1)\n",
        "        self.activation = nn.ReLU()\n",
        "        self.dropout = nn.Dropout(0.2)\n",
        "        self.output = nn.Sigmoid()\n",
        "\n",
        "    def forward(self, X):\n",
        "\n",
        "        X = self.dense0(X)\n",
        "        X = self.activation(X)\n",
        "        X = self.dropout(X)\n",
        "        X = self.dense1(X)\n",
        "        X = self.activation(X)\n",
        "        X = self.dropout(X)\n",
        "        X = self.dense2(X)\n",
        "        X = self.output(X)\n",
        "\n",
        "        return X"
      ],
      "metadata": {
        "id": "hdzyUVFuBOgG"
      },
      "execution_count": 15,
      "outputs": []
    },
    {
      "cell_type": "code",
      "source": [
        "classificador = classificador_torch()"
      ],
      "metadata": {
        "id": "aDKUf7h49eew"
      },
      "execution_count": 16,
      "outputs": []
    },
    {
      "cell_type": "code",
      "source": [
        "# Função de erro:\n",
        "\n",
        "criterion = nn.BCELoss()\n",
        "# Binary cross entropy (comparação entre previsão e gabarito)"
      ],
      "metadata": {
        "id": "unaZfXUTE6PO"
      },
      "execution_count": 17,
      "outputs": []
    },
    {
      "cell_type": "code",
      "source": [
        "# Otimizador\n",
        "\n",
        "optimizer = torch.optim.Adam(classificador.parameters(),\n",
        "                             lr = 0.001, # taxa de aprendizado\n",
        "                             weight_decay = 0.0001) # decaimento dos pesos\n",
        "                             # diminui lr com o passar das epocas"
      ],
      "metadata": {
        "id": "8OPpzysMFD4B"
      },
      "execution_count": 18,
      "outputs": []
    },
    {
      "cell_type": "markdown",
      "source": [
        "### Train step:"
      ],
      "metadata": {
        "id": "BiCqbI8r5imn"
      }
    },
    {
      "cell_type": "code",
      "source": [
        "# Necessário um For para treinamento (diferente do TensorFLow ou Sklearn que tem um fit)\n",
        "for epoch in range(200): # Em 1 epoca passando por 426 registros de 10 em 10 (batch) registros\n",
        "  running_loss = 0. # Inicializar o acumulador do erro\n",
        "\n",
        "  for data in train_loader: # train_loader = dados dividido em 10 em 10 registros\n",
        "\n",
        "    inputs, labels = data # inputs=previsores e labels=classes\n",
        "    optimizer.zero_grad() # zerar, pq em cada ajuste de peso é necessario calcular o gradiente separadamente\n",
        "\n",
        "    outputs = classificador(inputs) #passando os inputs no modelo e gerando os outputs -> processo forward na rede (esqeurda p/ direita)\n",
        "    # outputs-> classificador.forward(inputs)\n",
        "    loss = criterion(outputs, labels) #calculo do erro entre labels reais e preditos\n",
        "    loss.backward() #voltando e atualizando os pesos processo de backward na rede (direita p/ esquerda)\n",
        "    optimizer.step() #atualização dos pesos usando o \"Adam\"\n",
        "\n",
        "    running_loss += loss.item() #somatorio do erro\n",
        "  print('Época %3d: perda %.5f' % (epoch+1, running_loss/len(train_loader)))\n",
        ""
      ],
      "metadata": {
        "colab": {
          "base_uri": "https://localhost:8080/"
        },
        "id": "0VK10zEc5d53",
        "outputId": "5710ce5c-1ef6-4c56-a804-2147c33bad5b"
      },
      "execution_count": 19,
      "outputs": [
        {
          "output_type": "stream",
          "name": "stdout",
          "text": [
            "Época   1: perda 0.97008\n",
            "Época   2: perda 0.58635\n",
            "Época   3: perda 0.54363\n",
            "Época   4: perda 0.53904\n",
            "Época   5: perda 0.50976\n",
            "Época   6: perda 0.47439\n",
            "Época   7: perda 0.45982\n",
            "Época   8: perda 0.45519\n",
            "Época   9: perda 0.44725\n",
            "Época  10: perda 0.40732\n",
            "Época  11: perda 0.38278\n",
            "Época  12: perda 0.36570\n",
            "Época  13: perda 0.36539\n",
            "Época  14: perda 0.37197\n",
            "Época  15: perda 0.33728\n",
            "Época  16: perda 0.35045\n",
            "Época  17: perda 0.33362\n",
            "Época  18: perda 0.30838\n",
            "Época  19: perda 0.30996\n",
            "Época  20: perda 0.27926\n",
            "Época  21: perda 0.29213\n",
            "Época  22: perda 0.29624\n",
            "Época  23: perda 0.27357\n",
            "Época  24: perda 0.28001\n",
            "Época  25: perda 0.26190\n",
            "Época  26: perda 0.28857\n",
            "Época  27: perda 0.25516\n",
            "Época  28: perda 0.25392\n",
            "Época  29: perda 0.27343\n",
            "Época  30: perda 0.26386\n",
            "Época  31: perda 0.27594\n",
            "Época  32: perda 0.25172\n",
            "Época  33: perda 0.24124\n",
            "Época  34: perda 0.24441\n",
            "Época  35: perda 0.27407\n",
            "Época  36: perda 0.25252\n",
            "Época  37: perda 0.24498\n",
            "Época  38: perda 0.25347\n",
            "Época  39: perda 0.26146\n",
            "Época  40: perda 0.25895\n",
            "Época  41: perda 0.22706\n",
            "Época  42: perda 0.22343\n",
            "Época  43: perda 0.26354\n",
            "Época  44: perda 0.22911\n",
            "Época  45: perda 0.25518\n",
            "Época  46: perda 0.24503\n",
            "Época  47: perda 0.22894\n",
            "Época  48: perda 0.21750\n",
            "Época  49: perda 0.20916\n",
            "Época  50: perda 0.22517\n",
            "Época  51: perda 0.23347\n",
            "Época  52: perda 0.23283\n",
            "Época  53: perda 0.22246\n",
            "Época  54: perda 0.22115\n",
            "Época  55: perda 0.25541\n",
            "Época  56: perda 0.23782\n",
            "Época  57: perda 0.21837\n",
            "Época  58: perda 0.21454\n",
            "Época  59: perda 0.20615\n",
            "Época  60: perda 0.23876\n",
            "Época  61: perda 0.20620\n",
            "Época  62: perda 0.18978\n",
            "Época  63: perda 0.22563\n",
            "Época  64: perda 0.22945\n",
            "Época  65: perda 0.23331\n",
            "Época  66: perda 0.19761\n",
            "Época  67: perda 0.22169\n",
            "Época  68: perda 0.20279\n",
            "Época  69: perda 0.22350\n",
            "Época  70: perda 0.20661\n",
            "Época  71: perda 0.21911\n",
            "Época  72: perda 0.22537\n",
            "Época  73: perda 0.23820\n",
            "Época  74: perda 0.20117\n",
            "Época  75: perda 0.21712\n",
            "Época  76: perda 0.19102\n",
            "Época  77: perda 0.22448\n",
            "Época  78: perda 0.19085\n",
            "Época  79: perda 0.22134\n",
            "Época  80: perda 0.22389\n",
            "Época  81: perda 0.21405\n",
            "Época  82: perda 0.20963\n",
            "Época  83: perda 0.21132\n",
            "Época  84: perda 0.22551\n",
            "Época  85: perda 0.20266\n",
            "Época  86: perda 0.22614\n",
            "Época  87: perda 0.19712\n",
            "Época  88: perda 0.20943\n",
            "Época  89: perda 0.17849\n",
            "Época  90: perda 0.21155\n",
            "Época  91: perda 0.20083\n",
            "Época  92: perda 0.21064\n",
            "Época  93: perda 0.19769\n",
            "Época  94: perda 0.22477\n",
            "Época  95: perda 0.22901\n",
            "Época  96: perda 0.20526\n",
            "Época  97: perda 0.19151\n",
            "Época  98: perda 0.23067\n",
            "Época  99: perda 0.21467\n",
            "Época 100: perda 0.20440\n",
            "Época 101: perda 0.20174\n",
            "Época 102: perda 0.17849\n",
            "Época 103: perda 0.20289\n",
            "Época 104: perda 0.24356\n",
            "Época 105: perda 0.20624\n",
            "Época 106: perda 0.22213\n",
            "Época 107: perda 0.21704\n",
            "Época 108: perda 0.21044\n",
            "Época 109: perda 0.19187\n",
            "Época 110: perda 0.17910\n",
            "Época 111: perda 0.19585\n",
            "Época 112: perda 0.17744\n",
            "Época 113: perda 0.19605\n",
            "Época 114: perda 0.19246\n",
            "Época 115: perda 0.19712\n",
            "Época 116: perda 0.20479\n",
            "Época 117: perda 0.18812\n",
            "Época 118: perda 0.18695\n",
            "Época 119: perda 0.22072\n",
            "Época 120: perda 0.21690\n",
            "Época 121: perda 0.21921\n",
            "Época 122: perda 0.22939\n",
            "Época 123: perda 0.19578\n",
            "Época 124: perda 0.23793\n",
            "Época 125: perda 0.21752\n",
            "Época 126: perda 0.19967\n",
            "Época 127: perda 0.19524\n",
            "Época 128: perda 0.23183\n",
            "Época 129: perda 0.18973\n",
            "Época 130: perda 0.19929\n",
            "Época 131: perda 0.24335\n",
            "Época 132: perda 0.18903\n",
            "Época 133: perda 0.20091\n",
            "Época 134: perda 0.20892\n",
            "Época 135: perda 0.19933\n",
            "Época 136: perda 0.20499\n",
            "Época 137: perda 0.21048\n",
            "Época 138: perda 0.22061\n",
            "Época 139: perda 0.18581\n",
            "Época 140: perda 0.22012\n",
            "Época 141: perda 0.20727\n",
            "Época 142: perda 0.19034\n",
            "Época 143: perda 0.19827\n",
            "Época 144: perda 0.20850\n",
            "Época 145: perda 0.17659\n",
            "Época 146: perda 0.19815\n",
            "Época 147: perda 0.20358\n",
            "Época 148: perda 0.18497\n",
            "Época 149: perda 0.19843\n",
            "Época 150: perda 0.17598\n",
            "Época 151: perda 0.18988\n",
            "Época 152: perda 0.18638\n",
            "Época 153: perda 0.23147\n",
            "Época 154: perda 0.18029\n",
            "Época 155: perda 0.20210\n",
            "Época 156: perda 0.18560\n",
            "Época 157: perda 0.16553\n",
            "Época 158: perda 0.16609\n",
            "Época 159: perda 0.21092\n",
            "Época 160: perda 0.17914\n",
            "Época 161: perda 0.20263\n",
            "Época 162: perda 0.18601\n",
            "Época 163: perda 0.18161\n",
            "Época 164: perda 0.19099\n",
            "Época 165: perda 0.19850\n",
            "Época 166: perda 0.22210\n",
            "Época 167: perda 0.16900\n",
            "Época 168: perda 0.18844\n",
            "Época 169: perda 0.19865\n",
            "Época 170: perda 0.16268\n",
            "Época 171: perda 0.16804\n",
            "Época 172: perda 0.18017\n",
            "Época 173: perda 0.19606\n",
            "Época 174: perda 0.16531\n",
            "Época 175: perda 0.18794\n",
            "Época 176: perda 0.15937\n",
            "Época 177: perda 0.19308\n",
            "Época 178: perda 0.17606\n",
            "Época 179: perda 0.18579\n",
            "Época 180: perda 0.17892\n",
            "Época 181: perda 0.16065\n",
            "Época 182: perda 0.18635\n",
            "Época 183: perda 0.17160\n",
            "Época 184: perda 0.18826\n",
            "Época 185: perda 0.19763\n",
            "Época 186: perda 0.20161\n",
            "Época 187: perda 0.18052\n",
            "Época 188: perda 0.17566\n",
            "Época 189: perda 0.20766\n",
            "Época 190: perda 0.21046\n",
            "Época 191: perda 0.20505\n",
            "Época 192: perda 0.20357\n",
            "Época 193: perda 0.37358\n",
            "Época 194: perda 0.18284\n",
            "Época 195: perda 0.16466\n",
            "Época 196: perda 0.18594\n",
            "Época 197: perda 0.17847\n",
            "Época 198: perda 0.16180\n",
            "Época 199: perda 0.18369\n",
            "Época 200: perda 0.16530\n"
          ]
        }
      ]
    },
    {
      "cell_type": "markdown",
      "source": [
        "### Sorting a new patient record"
      ],
      "metadata": {
        "id": "rOZcvQTp5stt"
      }
    },
    {
      "cell_type": "code",
      "source": [
        "novo = torch.tensor([[15.80, 8.34, 118, 900, 0.10, 0.26, 0.08, 0.134, 0.178,\n",
        "                  0.20, 0.05, 1098, 0.87, 4500, 145.2, 0.005, 0.04, 0.05, 0.015,\n",
        "                  0.03, 0.007, 23.15, 16.64, 178.5, 2018, 0.14, 0.185,\n",
        "                  0.84, 158, 0.363]], dtype = torch.float)"
      ],
      "metadata": {
        "id": "EHddlukp5d-8"
      },
      "execution_count": 20,
      "outputs": []
    },
    {
      "cell_type": "code",
      "source": [
        "classificador.eval() # .eval = significa que o classificador em modo avaliação\n"
      ],
      "metadata": {
        "colab": {
          "base_uri": "https://localhost:8080/"
        },
        "id": "OfDvxf0qfFnk",
        "outputId": "8b74468e-7478-4749-87b2-6b0cbf6276ff"
      },
      "execution_count": 21,
      "outputs": [
        {
          "output_type": "execute_result",
          "data": {
            "text/plain": [
              "classificador_torch(\n",
              "  (dense0): Linear(in_features=30, out_features=8, bias=True)\n",
              "  (dense1): Linear(in_features=8, out_features=8, bias=True)\n",
              "  (dense2): Linear(in_features=8, out_features=1, bias=True)\n",
              "  (activation): ReLU()\n",
              "  (dropout): Dropout(p=0.2, inplace=False)\n",
              "  (output): Sigmoid()\n",
              ")"
            ]
          },
          "metadata": {},
          "execution_count": 21
        }
      ]
    },
    {
      "cell_type": "code",
      "source": [
        "previsao = classificador(novo)"
      ],
      "metadata": {
        "id": "fr3wtnXae1xo"
      },
      "execution_count": 22,
      "outputs": []
    },
    {
      "cell_type": "code",
      "source": [
        "previsao = previsao = previsao.detach()\n",
        "previsao = previsao.numpy()\n",
        "previsao"
      ],
      "metadata": {
        "colab": {
          "base_uri": "https://localhost:8080/"
        },
        "id": "eGYWsDe37cyF",
        "outputId": "f5d0528f-eedb-4fd6-b383-b79064a54f7b"
      },
      "execution_count": 23,
      "outputs": [
        {
          "output_type": "execute_result",
          "data": {
            "text/plain": [
              "array([[1.]], dtype=float32)"
            ]
          },
          "metadata": {},
          "execution_count": 23
        }
      ]
    },
    {
      "cell_type": "code",
      "source": [
        "type(previsao)"
      ],
      "metadata": {
        "colab": {
          "base_uri": "https://localhost:8080/"
        },
        "id": "sC6Mxbe-7eAi",
        "outputId": "680273fc-57d3-435a-e9a9-bd109774dafd"
      },
      "execution_count": 24,
      "outputs": [
        {
          "output_type": "execute_result",
          "data": {
            "text/plain": [
              "numpy.ndarray"
            ]
          },
          "metadata": {},
          "execution_count": 24
        }
      ]
    },
    {
      "cell_type": "code",
      "source": [
        "previsao = (previsao > 0.5)\n",
        "previsao"
      ],
      "metadata": {
        "colab": {
          "base_uri": "https://localhost:8080/"
        },
        "id": "FTyYP9R_7yaD",
        "outputId": "fc32053a-f9ea-4709-ae06-118d93558830"
      },
      "execution_count": 25,
      "outputs": [
        {
          "output_type": "execute_result",
          "data": {
            "text/plain": [
              "array([[ True]])"
            ]
          },
          "metadata": {},
          "execution_count": 25
        }
      ]
    },
    {
      "cell_type": "code",
      "source": [],
      "metadata": {
        "id": "kO_4XdRr71pi"
      },
      "execution_count": 25,
      "outputs": []
    },
    {
      "cell_type": "markdown",
      "source": [
        "### Save classifier weights"
      ],
      "metadata": {
        "id": "1tdSoWbA73X3"
      }
    },
    {
      "cell_type": "code",
      "source": [
        "classificador.state_dict()"
      ],
      "metadata": {
        "colab": {
          "base_uri": "https://localhost:8080/"
        },
        "id": "2d1Dd_9Z799N",
        "outputId": "8c1a9ace-d9cb-4df6-b1b0-7a477061a983"
      },
      "execution_count": 26,
      "outputs": [
        {
          "output_type": "execute_result",
          "data": {
            "text/plain": [
              "OrderedDict([('dense0.weight',\n",
              "              tensor([[ 1.7191e-01,  3.1530e-01,  3.4512e-01,  4.5283e-02,  7.6804e-02,\n",
              "                        2.7054e-02, -1.0811e-02,  7.6111e-01,  3.5106e-01, -5.0837e-01,\n",
              "                       -2.5091e-02,  3.1908e-02, -6.7575e-03,  8.8070e-03,  8.6232e-03,\n",
              "                        5.0790e-01,  5.4090e-01,  5.0852e-02, -4.1703e-01, -4.1383e-02,\n",
              "                        3.4332e-01,  9.8579e-02,  1.8886e-01, -1.3166e-01, -2.8584e-01,\n",
              "                        1.0251e-01, -2.2169e-01,  1.3207e-01,  8.7113e-02, -4.8013e-02],\n",
              "                      [-1.0731e-04, -3.3308e-04,  7.2754e-03, -4.2624e-02,  2.7833e-39,\n",
              "                       -7.5035e-05,  1.2376e-04,  1.3731e-39, -2.5132e-03, -8.3541e-05,\n",
              "                       -5.7028e-03,  1.3194e-04, -7.4372e-04,  7.6252e-04,  3.5935e-40,\n",
              "                       -2.3013e-39, -7.5227e-40,  3.3047e-39,  4.0950e-15, -1.6480e-39,\n",
              "                       -6.1195e-05, -2.4310e-03, -1.9151e-02, -5.9335e-02,  3.6443e-04,\n",
              "                       -7.4310e-04,  1.3269e-03, -5.7459e-16,  6.8652e-03,  2.1215e-39],\n",
              "                      [ 5.9646e-02, -2.5390e-02,  6.6631e-02, -6.2198e-02,  3.8642e-02,\n",
              "                       -1.6647e-01,  3.0789e-01,  6.1031e-01,  6.6644e-01,  6.9191e-02,\n",
              "                       -1.6144e-01,  5.8126e-02,  1.9285e-02,  9.2189e-02,  6.0114e-04,\n",
              "                        5.5906e-02,  1.3653e-02,  2.9918e-04,  9.9656e-03, -1.1917e-01,\n",
              "                        2.4499e-02, -1.8126e-01, -2.2321e-02, -1.9676e-01,  4.4525e-02,\n",
              "                        1.4218e-01, -2.1967e-01, -1.6451e-02, -1.8002e-01, -4.2752e-02],\n",
              "                      [ 2.0734e-01,  1.0290e-01,  3.8670e-01,  9.0611e-02, -1.4987e-01,\n",
              "                       -1.8394e-01,  1.1233e-01,  1.5664e-01,  1.9353e-02,  9.6002e-01,\n",
              "                       -2.7775e-01, -4.4768e-02,  9.6999e-03,  4.2617e-02, -9.7105e-03,\n",
              "                       -3.6084e-02,  2.5701e-01,  6.0374e-01,  4.3043e-01, -7.1126e-03,\n",
              "                        3.5211e-01, -1.1433e-01,  2.8069e-01, -1.8609e-01,  7.6319e-02,\n",
              "                        5.9214e-02,  5.0033e-02, -1.7670e-01, -4.8790e-02, -3.3982e-02],\n",
              "                      [-1.9284e-01,  5.9621e-02, -4.6397e-01, -1.7510e-01,  1.0716e-01,\n",
              "                       -8.2472e-02,  9.6792e-02, -6.8462e-03,  3.8870e-02,  1.5768e-01,\n",
              "                        2.0021e-02, -1.2309e-04,  3.5339e-03, -6.0887e-03,  1.8346e-02,\n",
              "                        3.5059e-02, -5.2524e-01, -4.8621e-02,  1.6087e-01,  5.1024e-01,\n",
              "                       -5.1449e-01,  2.3957e-01, -2.5276e-01,  2.2549e-01, -1.8549e-02,\n",
              "                        6.5018e-02,  2.3898e-02,  3.9013e-02,  1.0012e-02,  7.1735e-01],\n",
              "                      [-2.1247e-01, -3.1177e-02, -4.6592e-01, -1.3848e-01,  1.3420e-01,\n",
              "                       -1.3740e-01, -1.3955e-02,  3.3675e-01,  4.8602e-02,  1.1119e-01,\n",
              "                        2.4138e-03, -5.3386e-03, -8.3779e-03, -1.9124e-02,  4.7428e-03,\n",
              "                        1.2344e-01, -4.2054e-01, -1.2086e-01,  2.3293e-01,  1.6996e-02,\n",
              "                       -2.8193e-01,  1.5612e-01, -3.6448e-01,  2.2835e-01,  4.5790e-02,\n",
              "                        6.6924e-02,  2.4391e-02,  9.2590e-02, -2.7588e-03,  6.2489e-01],\n",
              "                      [-3.3720e-02, -1.8894e-03, -3.6192e-02, -6.4499e-02,  5.7895e-06,\n",
              "                       -2.2780e-02, -3.7542e-03,  1.4390e-08,  1.2937e-04, -7.6964e-07,\n",
              "                        3.8744e-03, -4.9011e-02, -2.1676e-02,  5.0384e-02, -4.1987e-21,\n",
              "                        4.1124e-19, -2.6588e-19, -1.9295e-19, -2.9099e-20,  6.3347e-20,\n",
              "                        6.0010e-04,  1.8469e-03, -5.6606e-03, -1.6935e-02,  1.3720e-04,\n",
              "                        1.2423e-06, -3.8778e-02, -8.9520e-03, -5.2624e-03, -4.0291e-19],\n",
              "                      [-1.9086e-01,  6.2874e-02, -4.9610e-01, -4.4324e-02,  2.4877e-01,\n",
              "                        1.0144e-01,  4.1808e-02, -1.1234e-01, -9.2660e-02,  1.7017e-01,\n",
              "                        3.6410e-03,  3.1402e-03,  7.2906e-03, -9.2166e-03,  2.8229e-02,\n",
              "                        1.2808e-01, -2.5370e-01,  1.0001e-01,  3.1471e-01,  4.4234e-01,\n",
              "                       -3.2523e-01,  1.0473e-01, -4.8887e-01,  1.4917e-01, -8.5496e-03,\n",
              "                       -5.2019e-02, -2.0825e-01, -9.8419e-03, -6.9304e-03,  7.8236e-01]])),\n",
              "             ('dense0.bias',\n",
              "              tensor([ 5.0968e-01, -2.1473e-39,  1.0743e-01,  5.7979e-01, -8.3095e-01,\n",
              "                      -9.5886e-01, -2.9272e-18, -9.4105e-01])),\n",
              "             ('dense1.weight',\n",
              "              tensor([[ 6.9861e-02,  8.8405e-03,  1.2210e-01,  2.9893e-01, -2.0250e-01,\n",
              "                       -1.3477e-01,  8.0950e-02, -7.2404e-02],\n",
              "                      [-2.0257e-02,  4.5173e-03, -7.2971e-02, -2.0356e-02,  8.1652e-02,\n",
              "                        1.2187e-01, -4.7493e-02,  5.3609e-02],\n",
              "                      [-5.4578e-02, -7.9897e-06, -1.2160e-01, -3.6130e-02,  1.2342e-01,\n",
              "                        1.8899e-01, -5.9042e-02,  8.0810e-02],\n",
              "                      [ 3.8031e-02, -3.1110e-02,  8.5797e-02,  2.0414e-01, -2.0107e-01,\n",
              "                       -6.0746e-02,  3.4004e-02, -6.7338e-02],\n",
              "                      [-1.8407e-02, -1.1670e-02, -1.8299e-03, -2.2778e-02, -5.0058e-02,\n",
              "                       -1.1455e-02, -1.6871e-02, -4.5334e-02],\n",
              "                      [ 4.7266e-02, -2.8031e-02,  8.3684e-02,  1.6503e-01, -8.5808e-02,\n",
              "                       -7.0639e-02,  1.2254e-01, -5.8558e-02],\n",
              "                      [-1.0801e-01,  8.1436e-02, -7.5215e-02, -4.9666e-02, -2.9825e-02,\n",
              "                       -9.1792e-02, -1.2468e-02, -3.2822e-02],\n",
              "                      [-2.4635e-02,  3.7223e-02, -6.3902e-02, -1.0070e-01,  7.6552e-02,\n",
              "                        1.3481e-01, -3.5249e-02,  6.0938e-02]])),\n",
              "             ('dense1.bias',\n",
              "              tensor([ 1.1493e+00, -5.6544e-01, -9.4074e-01,  8.0980e-01, -8.7838e-04,\n",
              "                       1.0608e+00, -5.5117e-03, -5.2751e-01])),\n",
              "             ('dense2.weight',\n",
              "              tensor([[ 0.3254, -0.2620, -0.1660,  0.5216, -0.2458,  0.3155, -0.1466, -0.2155]])),\n",
              "             ('dense2.bias', tensor([1.0201]))])"
            ]
          },
          "metadata": {},
          "execution_count": 26
        }
      ]
    },
    {
      "cell_type": "code",
      "source": [
        "torch.save(classificador.state_dict(), '/content/drive/MyDrive/Deep_learning/checkpoint.pth')"
      ],
      "metadata": {
        "id": "oQv4BtQA8DHx"
      },
      "execution_count": 27,
      "outputs": []
    },
    {
      "cell_type": "code",
      "source": [],
      "metadata": {
        "id": "NT2_0SKJ8OEW"
      },
      "execution_count": 27,
      "outputs": []
    }
  ]
}
