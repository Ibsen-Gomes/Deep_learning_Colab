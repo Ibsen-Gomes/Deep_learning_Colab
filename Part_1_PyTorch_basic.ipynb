{
  "nbformat": 4,
  "nbformat_minor": 0,
  "metadata": {
    "colab": {
      "provenance": [],
      "mount_file_id": "15x8txVO1V9SusjtURzEeanVxIPwfAlxY",
      "authorship_tag": "ABX9TyOinAbF6QVKJK6r/WtnUYaM",
      "include_colab_link": true
    },
    "kernelspec": {
      "name": "python3",
      "display_name": "Python 3"
    },
    "language_info": {
      "name": "python"
    }
  },
  "cells": [
    {
      "cell_type": "markdown",
      "metadata": {
        "id": "view-in-github",
        "colab_type": "text"
      },
      "source": [
        "<a href=\"https://colab.research.google.com/github/Ibsen-Gomes/Deep_learning_breast_cancer_binary_classification/blob/main/Part_1_PyTorch_basic.ipynb\" target=\"_parent\"><img src=\"https://colab.research.google.com/assets/colab-badge.svg\" alt=\"Open In Colab\"/></a>"
      ]
    },
    {
      "cell_type": "markdown",
      "source": [
        "# Part 1\n",
        "\n",
        "## Basic PyTorch library application."
      ],
      "metadata": {
        "id": "QV-U_l23OqrA"
      }
    },
    {
      "cell_type": "markdown",
      "source": [
        "### Libraries:"
      ],
      "metadata": {
        "id": "M9dJck8L-CXw"
      }
    },
    {
      "cell_type": "code",
      "source": [
        "import pandas as pd\n",
        "import numpy as np\n",
        "import seaborn as sns\n",
        "from sklearn.model_selection import train_test_split\n",
        "from sklearn.metrics import confusion_matrix, accuracy_score"
      ],
      "metadata": {
        "id": "4WgHe92r-Ax6"
      },
      "execution_count": 1,
      "outputs": []
    },
    {
      "cell_type": "markdown",
      "source": [
        "### PyTorch package import:"
      ],
      "metadata": {
        "id": "NEvz3onB-JRE"
      }
    },
    {
      "cell_type": "code",
      "source": [
        "import torch\n",
        "torch.__version__"
      ],
      "metadata": {
        "colab": {
          "base_uri": "https://localhost:8080/",
          "height": 35
        },
        "id": "csxD8avJxcF5",
        "outputId": "c3c558e4-0165-4f95-dcef-a219ebf10013"
      },
      "execution_count": 2,
      "outputs": [
        {
          "output_type": "execute_result",
          "data": {
            "text/plain": [
              "'2.0.1+cu118'"
            ],
            "application/vnd.google.colaboratory.intrinsic+json": {
              "type": "string"
            }
          },
          "metadata": {},
          "execution_count": 2
        }
      ]
    },
    {
      "cell_type": "code",
      "source": [
        "import torch.nn as nn"
      ],
      "metadata": {
        "id": "ZdRl6WxXxoua"
      },
      "execution_count": 3,
      "outputs": []
    },
    {
      "cell_type": "markdown",
      "source": [
        "### Load data"
      ],
      "metadata": {
        "id": "6lGVDwFJy86B"
      }
    },
    {
      "cell_type": "code",
      "source": [
        "np.random.seed(42)\n",
        "torch.manual_seed(42)"
      ],
      "metadata": {
        "colab": {
          "base_uri": "https://localhost:8080/"
        },
        "id": "CssdCo9pxsaL",
        "outputId": "58b43477-d0f9-40e1-f41a-7877ae506b2d"
      },
      "execution_count": 4,
      "outputs": [
        {
          "output_type": "execute_result",
          "data": {
            "text/plain": [
              "<torch._C.Generator at 0x79f7ad61d870>"
            ]
          },
          "metadata": {},
          "execution_count": 4
        }
      ]
    },
    {
      "cell_type": "code",
      "source": [
        "previsores = pd.read_csv('/content/drive/MyDrive/Deep_learning/entradas_breast.csv')\n",
        "classe = pd.read_csv('/content/drive/MyDrive/Deep_learning/saidas_breast.csv')\n",
        "\n"
      ],
      "metadata": {
        "id": "7Ffz0JXdzEqr"
      },
      "execution_count": 5,
      "outputs": []
    },
    {
      "cell_type": "code",
      "source": [
        "previsores.shape"
      ],
      "metadata": {
        "colab": {
          "base_uri": "https://localhost:8080/"
        },
        "id": "nj_lwatI7Ase",
        "outputId": "d8ab5d60-c7a6-4360-efaf-cf9dde16e7eb"
      },
      "execution_count": 6,
      "outputs": [
        {
          "output_type": "execute_result",
          "data": {
            "text/plain": [
              "(569, 30)"
            ]
          },
          "metadata": {},
          "execution_count": 6
        }
      ]
    },
    {
      "cell_type": "code",
      "source": [
        "previsores.head()"
      ],
      "metadata": {
        "colab": {
          "base_uri": "https://localhost:8080/",
          "height": 300
        },
        "id": "7hgIKjvU7LFP",
        "outputId": "3aad07a7-c3d3-42c9-fc01-2dc1940f1350"
      },
      "execution_count": 7,
      "outputs": [
        {
          "output_type": "execute_result",
          "data": {
            "text/plain": [
              "    radius_mean   texture_mean   perimeter_mean   area_mean   smoothness_mean  \\\n",
              "0         17.99          10.38           122.80      1001.0           0.11840   \n",
              "1         20.57          17.77           132.90      1326.0           0.08474   \n",
              "2         19.69          21.25           130.00      1203.0           0.10960   \n",
              "3         11.42          20.38            77.58       386.1           0.14250   \n",
              "4         20.29          14.34           135.10      1297.0           0.10030   \n",
              "\n",
              "    compactness_mean   concavity_mean  concave_points_mean   symmetry_mean  \\\n",
              "0            0.27760           0.3001              0.14710          0.2419   \n",
              "1            0.07864           0.0869              0.07017          0.1812   \n",
              "2            0.15990           0.1974              0.12790          0.2069   \n",
              "3            0.28390           0.2414              0.10520          0.2597   \n",
              "4            0.13280         198.0000              0.10430          0.1809   \n",
              "\n",
              "    fractal_dimension_mean  ...   radius_worst   texture_worst  \\\n",
              "0                  0.07871  ...          25.38           17.33   \n",
              "1                  0.05667  ...          24.99           23.41   \n",
              "2                  0.05999  ...          23.57           25.53   \n",
              "3                  0.09744  ...          14.91           26.50   \n",
              "4                  0.05883  ...          22.54           16.67   \n",
              "\n",
              "    perimeter_worst   area_worst   smoothness_worst   compactness_worst  \\\n",
              "0            184.60       2019.0             0.1622              0.6656   \n",
              "1            158.80       1956.0             0.1238              0.1866   \n",
              "2            152.50       1709.0             0.1444              0.4245   \n",
              "3             98.87        567.7             0.2098              0.8663   \n",
              "4            152.20       1575.0             0.1374            205.0000   \n",
              "\n",
              "    concavity_worst   concave_points_worst   symmetry_worst  \\\n",
              "0            0.7119                 0.2654           0.4601   \n",
              "1            0.2416               186.0000         275.0000   \n",
              "2            0.4504               243.0000           0.3613   \n",
              "3            0.6869                 0.2575           0.6638   \n",
              "4            0.4000                 0.1625           0.2364   \n",
              "\n",
              "    fractal_dimension_worst  \n",
              "0                   0.11890  \n",
              "1                   0.08902  \n",
              "2                   0.08758  \n",
              "3                 173.00000  \n",
              "4                   0.07678  \n",
              "\n",
              "[5 rows x 30 columns]"
            ],
            "text/html": [
              "\n",
              "\n",
              "  <div id=\"df-626afb06-993f-424e-9ed8-d8dc6198368c\">\n",
              "    <div class=\"colab-df-container\">\n",
              "      <div>\n",
              "<style scoped>\n",
              "    .dataframe tbody tr th:only-of-type {\n",
              "        vertical-align: middle;\n",
              "    }\n",
              "\n",
              "    .dataframe tbody tr th {\n",
              "        vertical-align: top;\n",
              "    }\n",
              "\n",
              "    .dataframe thead th {\n",
              "        text-align: right;\n",
              "    }\n",
              "</style>\n",
              "<table border=\"1\" class=\"dataframe\">\n",
              "  <thead>\n",
              "    <tr style=\"text-align: right;\">\n",
              "      <th></th>\n",
              "      <th>radius_mean</th>\n",
              "      <th>texture_mean</th>\n",
              "      <th>perimeter_mean</th>\n",
              "      <th>area_mean</th>\n",
              "      <th>smoothness_mean</th>\n",
              "      <th>compactness_mean</th>\n",
              "      <th>concavity_mean</th>\n",
              "      <th>concave_points_mean</th>\n",
              "      <th>symmetry_mean</th>\n",
              "      <th>fractal_dimension_mean</th>\n",
              "      <th>...</th>\n",
              "      <th>radius_worst</th>\n",
              "      <th>texture_worst</th>\n",
              "      <th>perimeter_worst</th>\n",
              "      <th>area_worst</th>\n",
              "      <th>smoothness_worst</th>\n",
              "      <th>compactness_worst</th>\n",
              "      <th>concavity_worst</th>\n",
              "      <th>concave_points_worst</th>\n",
              "      <th>symmetry_worst</th>\n",
              "      <th>fractal_dimension_worst</th>\n",
              "    </tr>\n",
              "  </thead>\n",
              "  <tbody>\n",
              "    <tr>\n",
              "      <th>0</th>\n",
              "      <td>17.99</td>\n",
              "      <td>10.38</td>\n",
              "      <td>122.80</td>\n",
              "      <td>1001.0</td>\n",
              "      <td>0.11840</td>\n",
              "      <td>0.27760</td>\n",
              "      <td>0.3001</td>\n",
              "      <td>0.14710</td>\n",
              "      <td>0.2419</td>\n",
              "      <td>0.07871</td>\n",
              "      <td>...</td>\n",
              "      <td>25.38</td>\n",
              "      <td>17.33</td>\n",
              "      <td>184.60</td>\n",
              "      <td>2019.0</td>\n",
              "      <td>0.1622</td>\n",
              "      <td>0.6656</td>\n",
              "      <td>0.7119</td>\n",
              "      <td>0.2654</td>\n",
              "      <td>0.4601</td>\n",
              "      <td>0.11890</td>\n",
              "    </tr>\n",
              "    <tr>\n",
              "      <th>1</th>\n",
              "      <td>20.57</td>\n",
              "      <td>17.77</td>\n",
              "      <td>132.90</td>\n",
              "      <td>1326.0</td>\n",
              "      <td>0.08474</td>\n",
              "      <td>0.07864</td>\n",
              "      <td>0.0869</td>\n",
              "      <td>0.07017</td>\n",
              "      <td>0.1812</td>\n",
              "      <td>0.05667</td>\n",
              "      <td>...</td>\n",
              "      <td>24.99</td>\n",
              "      <td>23.41</td>\n",
              "      <td>158.80</td>\n",
              "      <td>1956.0</td>\n",
              "      <td>0.1238</td>\n",
              "      <td>0.1866</td>\n",
              "      <td>0.2416</td>\n",
              "      <td>186.0000</td>\n",
              "      <td>275.0000</td>\n",
              "      <td>0.08902</td>\n",
              "    </tr>\n",
              "    <tr>\n",
              "      <th>2</th>\n",
              "      <td>19.69</td>\n",
              "      <td>21.25</td>\n",
              "      <td>130.00</td>\n",
              "      <td>1203.0</td>\n",
              "      <td>0.10960</td>\n",
              "      <td>0.15990</td>\n",
              "      <td>0.1974</td>\n",
              "      <td>0.12790</td>\n",
              "      <td>0.2069</td>\n",
              "      <td>0.05999</td>\n",
              "      <td>...</td>\n",
              "      <td>23.57</td>\n",
              "      <td>25.53</td>\n",
              "      <td>152.50</td>\n",
              "      <td>1709.0</td>\n",
              "      <td>0.1444</td>\n",
              "      <td>0.4245</td>\n",
              "      <td>0.4504</td>\n",
              "      <td>243.0000</td>\n",
              "      <td>0.3613</td>\n",
              "      <td>0.08758</td>\n",
              "    </tr>\n",
              "    <tr>\n",
              "      <th>3</th>\n",
              "      <td>11.42</td>\n",
              "      <td>20.38</td>\n",
              "      <td>77.58</td>\n",
              "      <td>386.1</td>\n",
              "      <td>0.14250</td>\n",
              "      <td>0.28390</td>\n",
              "      <td>0.2414</td>\n",
              "      <td>0.10520</td>\n",
              "      <td>0.2597</td>\n",
              "      <td>0.09744</td>\n",
              "      <td>...</td>\n",
              "      <td>14.91</td>\n",
              "      <td>26.50</td>\n",
              "      <td>98.87</td>\n",
              "      <td>567.7</td>\n",
              "      <td>0.2098</td>\n",
              "      <td>0.8663</td>\n",
              "      <td>0.6869</td>\n",
              "      <td>0.2575</td>\n",
              "      <td>0.6638</td>\n",
              "      <td>173.00000</td>\n",
              "    </tr>\n",
              "    <tr>\n",
              "      <th>4</th>\n",
              "      <td>20.29</td>\n",
              "      <td>14.34</td>\n",
              "      <td>135.10</td>\n",
              "      <td>1297.0</td>\n",
              "      <td>0.10030</td>\n",
              "      <td>0.13280</td>\n",
              "      <td>198.0000</td>\n",
              "      <td>0.10430</td>\n",
              "      <td>0.1809</td>\n",
              "      <td>0.05883</td>\n",
              "      <td>...</td>\n",
              "      <td>22.54</td>\n",
              "      <td>16.67</td>\n",
              "      <td>152.20</td>\n",
              "      <td>1575.0</td>\n",
              "      <td>0.1374</td>\n",
              "      <td>205.0000</td>\n",
              "      <td>0.4000</td>\n",
              "      <td>0.1625</td>\n",
              "      <td>0.2364</td>\n",
              "      <td>0.07678</td>\n",
              "    </tr>\n",
              "  </tbody>\n",
              "</table>\n",
              "<p>5 rows × 30 columns</p>\n",
              "</div>\n",
              "      <button class=\"colab-df-convert\" onclick=\"convertToInteractive('df-626afb06-993f-424e-9ed8-d8dc6198368c')\"\n",
              "              title=\"Convert this dataframe to an interactive table.\"\n",
              "              style=\"display:none;\">\n",
              "\n",
              "  <svg xmlns=\"http://www.w3.org/2000/svg\" height=\"24px\"viewBox=\"0 0 24 24\"\n",
              "       width=\"24px\">\n",
              "    <path d=\"M0 0h24v24H0V0z\" fill=\"none\"/>\n",
              "    <path d=\"M18.56 5.44l.94 2.06.94-2.06 2.06-.94-2.06-.94-.94-2.06-.94 2.06-2.06.94zm-11 1L8.5 8.5l.94-2.06 2.06-.94-2.06-.94L8.5 2.5l-.94 2.06-2.06.94zm10 10l.94 2.06.94-2.06 2.06-.94-2.06-.94-.94-2.06-.94 2.06-2.06.94z\"/><path d=\"M17.41 7.96l-1.37-1.37c-.4-.4-.92-.59-1.43-.59-.52 0-1.04.2-1.43.59L10.3 9.45l-7.72 7.72c-.78.78-.78 2.05 0 2.83L4 21.41c.39.39.9.59 1.41.59.51 0 1.02-.2 1.41-.59l7.78-7.78 2.81-2.81c.8-.78.8-2.07 0-2.86zM5.41 20L4 18.59l7.72-7.72 1.47 1.35L5.41 20z\"/>\n",
              "  </svg>\n",
              "      </button>\n",
              "\n",
              "\n",
              "\n",
              "    <div id=\"df-35f9221c-3a68-41a4-a255-e0f7424b3aab\">\n",
              "      <button class=\"colab-df-quickchart\" onclick=\"quickchart('df-35f9221c-3a68-41a4-a255-e0f7424b3aab')\"\n",
              "              title=\"Suggest charts.\"\n",
              "              style=\"display:none;\">\n",
              "\n",
              "<svg xmlns=\"http://www.w3.org/2000/svg\" height=\"24px\"viewBox=\"0 0 24 24\"\n",
              "     width=\"24px\">\n",
              "    <g>\n",
              "        <path d=\"M19 3H5c-1.1 0-2 .9-2 2v14c0 1.1.9 2 2 2h14c1.1 0 2-.9 2-2V5c0-1.1-.9-2-2-2zM9 17H7v-7h2v7zm4 0h-2V7h2v10zm4 0h-2v-4h2v4z\"/>\n",
              "    </g>\n",
              "</svg>\n",
              "      </button>\n",
              "    </div>\n",
              "\n",
              "<style>\n",
              "  .colab-df-quickchart {\n",
              "    background-color: #E8F0FE;\n",
              "    border: none;\n",
              "    border-radius: 50%;\n",
              "    cursor: pointer;\n",
              "    display: none;\n",
              "    fill: #1967D2;\n",
              "    height: 32px;\n",
              "    padding: 0 0 0 0;\n",
              "    width: 32px;\n",
              "  }\n",
              "\n",
              "  .colab-df-quickchart:hover {\n",
              "    background-color: #E2EBFA;\n",
              "    box-shadow: 0px 1px 2px rgba(60, 64, 67, 0.3), 0px 1px 3px 1px rgba(60, 64, 67, 0.15);\n",
              "    fill: #174EA6;\n",
              "  }\n",
              "\n",
              "  [theme=dark] .colab-df-quickchart {\n",
              "    background-color: #3B4455;\n",
              "    fill: #D2E3FC;\n",
              "  }\n",
              "\n",
              "  [theme=dark] .colab-df-quickchart:hover {\n",
              "    background-color: #434B5C;\n",
              "    box-shadow: 0px 1px 3px 1px rgba(0, 0, 0, 0.15);\n",
              "    filter: drop-shadow(0px 1px 2px rgba(0, 0, 0, 0.3));\n",
              "    fill: #FFFFFF;\n",
              "  }\n",
              "</style>\n",
              "\n",
              "    <script>\n",
              "      async function quickchart(key) {\n",
              "        const containerElement = document.querySelector('#' + key);\n",
              "        const charts = await google.colab.kernel.invokeFunction(\n",
              "            'suggestCharts', [key], {});\n",
              "      }\n",
              "    </script>\n",
              "\n",
              "      <script>\n",
              "\n",
              "function displayQuickchartButton(domScope) {\n",
              "  let quickchartButtonEl =\n",
              "    domScope.querySelector('#df-35f9221c-3a68-41a4-a255-e0f7424b3aab button.colab-df-quickchart');\n",
              "  quickchartButtonEl.style.display =\n",
              "    google.colab.kernel.accessAllowed ? 'block' : 'none';\n",
              "}\n",
              "\n",
              "        displayQuickchartButton(document);\n",
              "      </script>\n",
              "      <style>\n",
              "    .colab-df-container {\n",
              "      display:flex;\n",
              "      flex-wrap:wrap;\n",
              "      gap: 12px;\n",
              "    }\n",
              "\n",
              "    .colab-df-convert {\n",
              "      background-color: #E8F0FE;\n",
              "      border: none;\n",
              "      border-radius: 50%;\n",
              "      cursor: pointer;\n",
              "      display: none;\n",
              "      fill: #1967D2;\n",
              "      height: 32px;\n",
              "      padding: 0 0 0 0;\n",
              "      width: 32px;\n",
              "    }\n",
              "\n",
              "    .colab-df-convert:hover {\n",
              "      background-color: #E2EBFA;\n",
              "      box-shadow: 0px 1px 2px rgba(60, 64, 67, 0.3), 0px 1px 3px 1px rgba(60, 64, 67, 0.15);\n",
              "      fill: #174EA6;\n",
              "    }\n",
              "\n",
              "    [theme=dark] .colab-df-convert {\n",
              "      background-color: #3B4455;\n",
              "      fill: #D2E3FC;\n",
              "    }\n",
              "\n",
              "    [theme=dark] .colab-df-convert:hover {\n",
              "      background-color: #434B5C;\n",
              "      box-shadow: 0px 1px 3px 1px rgba(0, 0, 0, 0.15);\n",
              "      filter: drop-shadow(0px 1px 2px rgba(0, 0, 0, 0.3));\n",
              "      fill: #FFFFFF;\n",
              "    }\n",
              "  </style>\n",
              "\n",
              "      <script>\n",
              "        const buttonEl =\n",
              "          document.querySelector('#df-626afb06-993f-424e-9ed8-d8dc6198368c button.colab-df-convert');\n",
              "        buttonEl.style.display =\n",
              "          google.colab.kernel.accessAllowed ? 'block' : 'none';\n",
              "\n",
              "        async function convertToInteractive(key) {\n",
              "          const element = document.querySelector('#df-626afb06-993f-424e-9ed8-d8dc6198368c');\n",
              "          const dataTable =\n",
              "            await google.colab.kernel.invokeFunction('convertToInteractive',\n",
              "                                                     [key], {});\n",
              "          if (!dataTable) return;\n",
              "\n",
              "          const docLinkHtml = 'Like what you see? Visit the ' +\n",
              "            '<a target=\"_blank\" href=https://colab.research.google.com/notebooks/data_table.ipynb>data table notebook</a>'\n",
              "            + ' to learn more about interactive tables.';\n",
              "          element.innerHTML = '';\n",
              "          dataTable['output_type'] = 'display_data';\n",
              "          await google.colab.output.renderOutput(dataTable, element);\n",
              "          const docLink = document.createElement('div');\n",
              "          docLink.innerHTML = docLinkHtml;\n",
              "          element.appendChild(docLink);\n",
              "        }\n",
              "      </script>\n",
              "    </div>\n",
              "  </div>\n"
            ]
          },
          "metadata": {},
          "execution_count": 7
        }
      ]
    },
    {
      "cell_type": "code",
      "source": [
        "classe.head()"
      ],
      "metadata": {
        "colab": {
          "base_uri": "https://localhost:8080/",
          "height": 206
        },
        "id": "55FTNTiL7ONY",
        "outputId": "776bc2f7-6246-4d48-98c3-11fef7c7b612"
      },
      "execution_count": 8,
      "outputs": [
        {
          "output_type": "execute_result",
          "data": {
            "text/plain": [
              "   0\n",
              "0  0\n",
              "1  0\n",
              "2  0\n",
              "3  0\n",
              "4  0"
            ],
            "text/html": [
              "\n",
              "\n",
              "  <div id=\"df-8334604c-b154-4c3b-990a-03b7241823a9\">\n",
              "    <div class=\"colab-df-container\">\n",
              "      <div>\n",
              "<style scoped>\n",
              "    .dataframe tbody tr th:only-of-type {\n",
              "        vertical-align: middle;\n",
              "    }\n",
              "\n",
              "    .dataframe tbody tr th {\n",
              "        vertical-align: top;\n",
              "    }\n",
              "\n",
              "    .dataframe thead th {\n",
              "        text-align: right;\n",
              "    }\n",
              "</style>\n",
              "<table border=\"1\" class=\"dataframe\">\n",
              "  <thead>\n",
              "    <tr style=\"text-align: right;\">\n",
              "      <th></th>\n",
              "      <th>0</th>\n",
              "    </tr>\n",
              "  </thead>\n",
              "  <tbody>\n",
              "    <tr>\n",
              "      <th>0</th>\n",
              "      <td>0</td>\n",
              "    </tr>\n",
              "    <tr>\n",
              "      <th>1</th>\n",
              "      <td>0</td>\n",
              "    </tr>\n",
              "    <tr>\n",
              "      <th>2</th>\n",
              "      <td>0</td>\n",
              "    </tr>\n",
              "    <tr>\n",
              "      <th>3</th>\n",
              "      <td>0</td>\n",
              "    </tr>\n",
              "    <tr>\n",
              "      <th>4</th>\n",
              "      <td>0</td>\n",
              "    </tr>\n",
              "  </tbody>\n",
              "</table>\n",
              "</div>\n",
              "      <button class=\"colab-df-convert\" onclick=\"convertToInteractive('df-8334604c-b154-4c3b-990a-03b7241823a9')\"\n",
              "              title=\"Convert this dataframe to an interactive table.\"\n",
              "              style=\"display:none;\">\n",
              "\n",
              "  <svg xmlns=\"http://www.w3.org/2000/svg\" height=\"24px\"viewBox=\"0 0 24 24\"\n",
              "       width=\"24px\">\n",
              "    <path d=\"M0 0h24v24H0V0z\" fill=\"none\"/>\n",
              "    <path d=\"M18.56 5.44l.94 2.06.94-2.06 2.06-.94-2.06-.94-.94-2.06-.94 2.06-2.06.94zm-11 1L8.5 8.5l.94-2.06 2.06-.94-2.06-.94L8.5 2.5l-.94 2.06-2.06.94zm10 10l.94 2.06.94-2.06 2.06-.94-2.06-.94-.94-2.06-.94 2.06-2.06.94z\"/><path d=\"M17.41 7.96l-1.37-1.37c-.4-.4-.92-.59-1.43-.59-.52 0-1.04.2-1.43.59L10.3 9.45l-7.72 7.72c-.78.78-.78 2.05 0 2.83L4 21.41c.39.39.9.59 1.41.59.51 0 1.02-.2 1.41-.59l7.78-7.78 2.81-2.81c.8-.78.8-2.07 0-2.86zM5.41 20L4 18.59l7.72-7.72 1.47 1.35L5.41 20z\"/>\n",
              "  </svg>\n",
              "      </button>\n",
              "\n",
              "\n",
              "\n",
              "    <div id=\"df-564b671e-40f1-4f7b-9942-7bd1c498ac8e\">\n",
              "      <button class=\"colab-df-quickchart\" onclick=\"quickchart('df-564b671e-40f1-4f7b-9942-7bd1c498ac8e')\"\n",
              "              title=\"Suggest charts.\"\n",
              "              style=\"display:none;\">\n",
              "\n",
              "<svg xmlns=\"http://www.w3.org/2000/svg\" height=\"24px\"viewBox=\"0 0 24 24\"\n",
              "     width=\"24px\">\n",
              "    <g>\n",
              "        <path d=\"M19 3H5c-1.1 0-2 .9-2 2v14c0 1.1.9 2 2 2h14c1.1 0 2-.9 2-2V5c0-1.1-.9-2-2-2zM9 17H7v-7h2v7zm4 0h-2V7h2v10zm4 0h-2v-4h2v4z\"/>\n",
              "    </g>\n",
              "</svg>\n",
              "      </button>\n",
              "    </div>\n",
              "\n",
              "<style>\n",
              "  .colab-df-quickchart {\n",
              "    background-color: #E8F0FE;\n",
              "    border: none;\n",
              "    border-radius: 50%;\n",
              "    cursor: pointer;\n",
              "    display: none;\n",
              "    fill: #1967D2;\n",
              "    height: 32px;\n",
              "    padding: 0 0 0 0;\n",
              "    width: 32px;\n",
              "  }\n",
              "\n",
              "  .colab-df-quickchart:hover {\n",
              "    background-color: #E2EBFA;\n",
              "    box-shadow: 0px 1px 2px rgba(60, 64, 67, 0.3), 0px 1px 3px 1px rgba(60, 64, 67, 0.15);\n",
              "    fill: #174EA6;\n",
              "  }\n",
              "\n",
              "  [theme=dark] .colab-df-quickchart {\n",
              "    background-color: #3B4455;\n",
              "    fill: #D2E3FC;\n",
              "  }\n",
              "\n",
              "  [theme=dark] .colab-df-quickchart:hover {\n",
              "    background-color: #434B5C;\n",
              "    box-shadow: 0px 1px 3px 1px rgba(0, 0, 0, 0.15);\n",
              "    filter: drop-shadow(0px 1px 2px rgba(0, 0, 0, 0.3));\n",
              "    fill: #FFFFFF;\n",
              "  }\n",
              "</style>\n",
              "\n",
              "    <script>\n",
              "      async function quickchart(key) {\n",
              "        const containerElement = document.querySelector('#' + key);\n",
              "        const charts = await google.colab.kernel.invokeFunction(\n",
              "            'suggestCharts', [key], {});\n",
              "      }\n",
              "    </script>\n",
              "\n",
              "      <script>\n",
              "\n",
              "function displayQuickchartButton(domScope) {\n",
              "  let quickchartButtonEl =\n",
              "    domScope.querySelector('#df-564b671e-40f1-4f7b-9942-7bd1c498ac8e button.colab-df-quickchart');\n",
              "  quickchartButtonEl.style.display =\n",
              "    google.colab.kernel.accessAllowed ? 'block' : 'none';\n",
              "}\n",
              "\n",
              "        displayQuickchartButton(document);\n",
              "      </script>\n",
              "      <style>\n",
              "    .colab-df-container {\n",
              "      display:flex;\n",
              "      flex-wrap:wrap;\n",
              "      gap: 12px;\n",
              "    }\n",
              "\n",
              "    .colab-df-convert {\n",
              "      background-color: #E8F0FE;\n",
              "      border: none;\n",
              "      border-radius: 50%;\n",
              "      cursor: pointer;\n",
              "      display: none;\n",
              "      fill: #1967D2;\n",
              "      height: 32px;\n",
              "      padding: 0 0 0 0;\n",
              "      width: 32px;\n",
              "    }\n",
              "\n",
              "    .colab-df-convert:hover {\n",
              "      background-color: #E2EBFA;\n",
              "      box-shadow: 0px 1px 2px rgba(60, 64, 67, 0.3), 0px 1px 3px 1px rgba(60, 64, 67, 0.15);\n",
              "      fill: #174EA6;\n",
              "    }\n",
              "\n",
              "    [theme=dark] .colab-df-convert {\n",
              "      background-color: #3B4455;\n",
              "      fill: #D2E3FC;\n",
              "    }\n",
              "\n",
              "    [theme=dark] .colab-df-convert:hover {\n",
              "      background-color: #434B5C;\n",
              "      box-shadow: 0px 1px 3px 1px rgba(0, 0, 0, 0.15);\n",
              "      filter: drop-shadow(0px 1px 2px rgba(0, 0, 0, 0.3));\n",
              "      fill: #FFFFFF;\n",
              "    }\n",
              "  </style>\n",
              "\n",
              "      <script>\n",
              "        const buttonEl =\n",
              "          document.querySelector('#df-8334604c-b154-4c3b-990a-03b7241823a9 button.colab-df-convert');\n",
              "        buttonEl.style.display =\n",
              "          google.colab.kernel.accessAllowed ? 'block' : 'none';\n",
              "\n",
              "        async function convertToInteractive(key) {\n",
              "          const element = document.querySelector('#df-8334604c-b154-4c3b-990a-03b7241823a9');\n",
              "          const dataTable =\n",
              "            await google.colab.kernel.invokeFunction('convertToInteractive',\n",
              "                                                     [key], {});\n",
              "          if (!dataTable) return;\n",
              "\n",
              "          const docLinkHtml = 'Like what you see? Visit the ' +\n",
              "            '<a target=\"_blank\" href=https://colab.research.google.com/notebooks/data_table.ipynb>data table notebook</a>'\n",
              "            + ' to learn more about interactive tables.';\n",
              "          element.innerHTML = '';\n",
              "          dataTable['output_type'] = 'display_data';\n",
              "          await google.colab.output.renderOutput(dataTable, element);\n",
              "          const docLink = document.createElement('div');\n",
              "          docLink.innerHTML = docLinkHtml;\n",
              "          element.appendChild(docLink);\n",
              "        }\n",
              "      </script>\n",
              "    </div>\n",
              "  </div>\n"
            ]
          },
          "metadata": {},
          "execution_count": 8
        }
      ]
    },
    {
      "cell_type": "code",
      "source": [
        "np.unique(classe)"
      ],
      "metadata": {
        "colab": {
          "base_uri": "https://localhost:8080/"
        },
        "id": "nhg_bRLq7XNU",
        "outputId": "ae8ab3b3-f094-4a34-ca6e-65728753008c"
      },
      "execution_count": 9,
      "outputs": [
        {
          "output_type": "execute_result",
          "data": {
            "text/plain": [
              "array([0, 1])"
            ]
          },
          "metadata": {},
          "execution_count": 9
        }
      ]
    },
    {
      "cell_type": "markdown",
      "source": [
        "### Sample count for each label:"
      ],
      "metadata": {
        "id": "u7DQfWgy-jHN"
      }
    },
    {
      "cell_type": "code",
      "source": [
        "sns.countplot(x=classe['0'])"
      ],
      "metadata": {
        "colab": {
          "base_uri": "https://localhost:8080/",
          "height": 466
        },
        "id": "A8nJH17w7dEP",
        "outputId": "b551c18c-7016-4c0d-a8f5-82dcec5fe33f"
      },
      "execution_count": 10,
      "outputs": [
        {
          "output_type": "execute_result",
          "data": {
            "text/plain": [
              "<Axes: xlabel='0', ylabel='count'>"
            ]
          },
          "metadata": {},
          "execution_count": 10
        },
        {
          "output_type": "display_data",
          "data": {
            "text/plain": [
              "<Figure size 640x480 with 1 Axes>"
            ],
            "image/png": "[encoded data removed]"
          },
          "metadata": {}
        }
      ]
    },
    {
      "cell_type": "markdown",
      "source": [
        "### Split data into training and testing:"
      ],
      "metadata": {
        "id": "qSgbLMaS-sqf"
      }
    },
    {
      "cell_type": "code",
      "source": [
        "previsores_train, previsores_test, classe_train, classe_test = train_test_split(previsores,\n",
        "                                                                               classe,\n",
        "                                                                               test_size = 0.25)"
      ],
      "metadata": {
        "id": "gld6l0R87haV"
      },
      "execution_count": 11,
      "outputs": []
    },
    {
      "cell_type": "code",
      "source": [
        "print(previsores_train.shape, classe_train.shape, previsores_test.shape, classe_test.shape) # check the shapes"
      ],
      "metadata": {
        "colab": {
          "base_uri": "https://localhost:8080/"
        },
        "id": "f57P4p8g_Tvj",
        "outputId": "ae82d762-3914-4065-ea06-0aa01b7c8a3f"
      },
      "execution_count": 12,
      "outputs": [
        {
          "output_type": "stream",
          "name": "stdout",
          "text": [
            "(426, 30) (426, 1) (143, 30) (143, 1)\n"
          ]
        }
      ]
    },
    {
      "cell_type": "code",
      "source": [],
      "metadata": {
        "id": "vS5ng2Uv-INV"
      },
      "execution_count": 12,
      "outputs": []
    },
    {
      "cell_type": "markdown",
      "source": [
        "### Transformation into Tensors:\n",
        "\n",
        "##### Essential for processing on GPUs"
      ],
      "metadata": {
        "id": "iMjDJRI5-Qk2"
      }
    },
    {
      "cell_type": "code",
      "source": [
        "type(previsores_train)"
      ],
      "metadata": {
        "colab": {
          "base_uri": "https://localhost:8080/"
        },
        "id": "71ii63IR-TLU",
        "outputId": "5b528570-08c8-4928-f5d3-df047f5921ec"
      },
      "execution_count": 13,
      "outputs": [
        {
          "output_type": "execute_result",
          "data": {
            "text/plain": [
              "pandas.core.frame.DataFrame"
            ]
          },
          "metadata": {},
          "execution_count": 13
        }
      ]
    },
    {
      "cell_type": "code",
      "source": [
        "type(np.array(previsores_train))"
      ],
      "metadata": {
        "colab": {
          "base_uri": "https://localhost:8080/"
        },
        "id": "c4_33HEb-XNQ",
        "outputId": "dddc74ae-86c6-43dd-d50a-74646a74786d"
      },
      "execution_count": 14,
      "outputs": [
        {
          "output_type": "execute_result",
          "data": {
            "text/plain": [
              "numpy.ndarray"
            ]
          },
          "metadata": {},
          "execution_count": 14
        }
      ]
    },
    {
      "cell_type": "code",
      "source": [
        "previsores_train = torch.tensor(np.array(previsores_train), dtype = torch.float)\n",
        "classe_train = torch.tensor(np.array(classe_train), dtype = torch.float)"
      ],
      "metadata": {
        "id": "QjG2y_q7-gxZ"
      },
      "execution_count": 15,
      "outputs": []
    },
    {
      "cell_type": "code",
      "source": [
        "type(previsores_train)"
      ],
      "metadata": {
        "colab": {
          "base_uri": "https://localhost:8080/"
        },
        "id": "zg53Wqw2_Gci",
        "outputId": "e009f6cc-29eb-475c-85f1-20dd355c69fd"
      },
      "execution_count": 16,
      "outputs": [
        {
          "output_type": "execute_result",
          "data": {
            "text/plain": [
              "torch.Tensor"
            ]
          },
          "metadata": {},
          "execution_count": 16
        }
      ]
    },
    {
      "cell_type": "code",
      "source": [
        "type(classe_train)"
      ],
      "metadata": {
        "colab": {
          "base_uri": "https://localhost:8080/"
        },
        "id": "CLOVRRFr_eaX",
        "outputId": "1a896b06-ff2e-46f2-95c3-89317d678e5c"
      },
      "execution_count": 17,
      "outputs": [
        {
          "output_type": "execute_result",
          "data": {
            "text/plain": [
              "torch.Tensor"
            ]
          },
          "metadata": {},
          "execution_count": 17
        }
      ]
    },
    {
      "cell_type": "markdown",
      "source": [
        "#### Creation of a dataset with the union of predictors and classes:"
      ],
      "metadata": {
        "id": "wNCCss9tACcx"
      }
    },
    {
      "cell_type": "code",
      "source": [
        "dataset = torch.utils.data.TensorDataset(previsores_train, classe_train)"
      ],
      "metadata": {
        "id": "tYalOFt__g2-"
      },
      "execution_count": 18,
      "outputs": []
    },
    {
      "cell_type": "code",
      "source": [
        "type(dataset)"
      ],
      "metadata": {
        "colab": {
          "base_uri": "https://localhost:8080/"
        },
        "id": "vn-Wkaa1AQvm",
        "outputId": "afa40bc7-a299-45b9-8aba-0981adda3321"
      },
      "execution_count": 19,
      "outputs": [
        {
          "output_type": "execute_result",
          "data": {
            "text/plain": [
              "torch.utils.data.dataset.TensorDataset"
            ]
          },
          "metadata": {},
          "execution_count": 19
        }
      ]
    },
    {
      "cell_type": "code",
      "source": [
        "train_loader = torch.utils.data.DataLoader(dataset, batch_size=10, shuffle=True)"
      ],
      "metadata": {
        "id": "h8yf2Y7MAU-K"
      },
      "execution_count": 20,
      "outputs": []
    },
    {
      "cell_type": "code",
      "source": [],
      "metadata": {
        "id": "4sRCcHICBLuv"
      },
      "execution_count": 20,
      "outputs": []
    },
    {
      "cell_type": "markdown",
      "source": [
        "### Model building:"
      ],
      "metadata": {
        "id": "qBI-F7_DBMbf"
      }
    },
    {
      "cell_type": "code",
      "source": [
        "# 30 neurônios no input = 30 atributos previsores\n",
        "# 16 neurônios 1° camada oculta\n",
        "# 16 neurônios 2° camada oculta\n",
        "# pq 16 neurônios nas redes ocultas? -> (entradas + saídas) / 2 = (30+1)/2 = 16\n",
        "# 1 neurônio na camada de saída (probabilidade de uma classe 0 ou 1)\n",
        "\n",
        "classificador = nn.Sequential( # sequencia de camada\n",
        "\n",
        "    nn.Linear(in_features=30, out_features=16,), # Linear = todas as camadas de entrada ligado a todos de saída\n",
        "    nn.ReLU(), # função de ativação aplicado no 1° camdada de 16 neurônios\n",
        "\n",
        "    nn.Linear(16, 16), # Linear = todas as 16 camadas ligadas aos próximos 16 neurônios\n",
        "    nn.ReLU(), # função de ativação aplicado no 2° camada de 16 neurônios\n",
        "\n",
        "    nn.Linear(16, 1), # Linear = todas as 16 camadas ligadas ao neurônio de saída\n",
        "    nn.Sigmoid(), # função de ativação na camada com 1 neurônio\n",
        ")\n"
      ],
      "metadata": {
        "id": "hdzyUVFuBOgG"
      },
      "execution_count": 21,
      "outputs": []
    },
    {
      "cell_type": "code",
      "source": [
        "# observar a estrutura da rede neural:\n",
        "\n",
        "classificador.parameters"
      ],
      "metadata": {
        "colab": {
          "base_uri": "https://localhost:8080/"
        },
        "id": "XBdDGExFEZP2",
        "outputId": "8b6f8a62-05f0-49b9-fb2e-0fbe49de490a"
      },
      "execution_count": 22,
      "outputs": [
        {
          "output_type": "execute_result",
          "data": {
            "text/plain": [
              "<bound method Module.parameters of Sequential(\n",
              "  (0): Linear(in_features=30, out_features=16, bias=True)\n",
              "  (1): ReLU()\n",
              "  (2): Linear(in_features=16, out_features=16, bias=True)\n",
              "  (3): ReLU()\n",
              "  (4): Linear(in_features=16, out_features=1, bias=True)\n",
              "  (5): Sigmoid()\n",
              ")>"
            ]
          },
          "metadata": {},
          "execution_count": 22
        }
      ]
    },
    {
      "cell_type": "code",
      "source": [
        "# Função de erro:\n",
        "\n",
        "criterion = nn.BCELoss()\n",
        "# Binary cross entropy (comparação entre previsão e gabarito)"
      ],
      "metadata": {
        "id": "unaZfXUTE6PO"
      },
      "execution_count": 23,
      "outputs": []
    },
    {
      "cell_type": "code",
      "source": [
        "# Otimizador\n",
        "\n",
        "optimizer = torch.optim.Adam(classificador.parameters(),\n",
        "                             lr = 0.001, # taxa de aprendizado\n",
        "                             weight_decay = 0.0001) # decaimento dos pesos\n",
        "                             # diminui lr com o passar das epocas"
      ],
      "metadata": {
        "id": "8OPpzysMFD4B"
      },
      "execution_count": 24,
      "outputs": []
    },
    {
      "cell_type": "code",
      "source": [
        "# Necessário um For para treinamento (diferente do TensorFLow ou Sklearn que tem um fit)\n",
        "for epoch in range(200): # Em 1 epoca passando por 426 registros de 10 em 10 (batch) registros\n",
        "  running_loss = 0. # Inicializar o acumulador do erro\n",
        "\n",
        "  for data in train_loader: # train_loader = dados dividido em 10 em 10 registros\n",
        "\n",
        "    inputs, labels = data # inputs=previsores e labels=classes\n",
        "    optimizer.zero_grad() # zerar, pq em cada ajuste de peso é necessario calcular o gradiente separadamente\n",
        "\n",
        "    outputs = classificador(inputs) #passando os inputs no modelo e gerando os outputs -> processo forward na rede (esqeurda p/ direita)\n",
        "    # outputs-> classificador.forward(inputs)\n",
        "    loss = criterion(outputs, labels) #calculo do erro entre labels reais e preditos\n",
        "    loss.backward() #voltando e atualizando os pesos processo de backward na rede (direita p/ esquerda)\n",
        "    optimizer.step() #atualização dos pesos usando o \"Adam\"\n",
        "\n",
        "    running_loss += loss.item() #somatorio do erro\n",
        "  print('Época %3d: perda %.5f' % (epoch+1, running_loss/len(train_loader)))\n"
      ],
      "metadata": {
        "colab": {
          "base_uri": "https://localhost:8080/"
        },
        "id": "mV1iDbiCFiHm",
        "outputId": "c911bfb0-f988-44ac-960f-e882eae85623"
      },
      "execution_count": 25,
      "outputs": [
        {
          "output_type": "stream",
          "name": "stdout",
          "text": [
            "Época   1: perda 10.76845\n",
            "Época   2: perda 2.76033\n",
            "Época   3: perda 1.41596\n",
            "Época   4: perda 0.70450\n",
            "Época   5: perda 0.68355\n",
            "Época   6: perda 0.38389\n",
            "Época   7: perda 0.60377\n",
            "Época   8: perda 0.28244\n",
            "Época   9: perda 0.25952\n",
            "Época  10: perda 0.24751\n",
            "Época  11: perda 0.31085\n",
            "Época  12: perda 0.23567\n",
            "Época  13: perda 0.25210\n",
            "Época  14: perda 0.23270\n",
            "Época  15: perda 0.23848\n",
            "Época  16: perda 0.20633\n",
            "Época  17: perda 0.24387\n",
            "Época  18: perda 0.28400\n",
            "Época  19: perda 0.22199\n",
            "Época  20: perda 0.22885\n",
            "Época  21: perda 0.19840\n",
            "Época  22: perda 0.26132\n",
            "Época  23: perda 0.27163\n",
            "Época  24: perda 0.22426\n",
            "Época  25: perda 0.26579\n",
            "Época  26: perda 0.22590\n",
            "Época  27: perda 0.20857\n",
            "Época  28: perda 0.20451\n",
            "Época  29: perda 0.20278\n",
            "Época  30: perda 0.20289\n",
            "Época  31: perda 0.23885\n",
            "Época  32: perda 0.19190\n",
            "Época  33: perda 0.24389\n",
            "Época  34: perda 0.38608\n",
            "Época  35: perda 0.23924\n",
            "Época  36: perda 0.26869\n",
            "Época  37: perda 0.22983\n",
            "Época  38: perda 0.35327\n",
            "Época  39: perda 0.41073\n",
            "Época  40: perda 0.23598\n",
            "Época  41: perda 0.24683\n",
            "Época  42: perda 0.17950\n",
            "Época  43: perda 0.17404\n",
            "Época  44: perda 0.20017\n",
            "Época  45: perda 0.19187\n",
            "Época  46: perda 0.16739\n",
            "Época  47: perda 0.22035\n",
            "Época  48: perda 0.20409\n",
            "Época  49: perda 0.17189\n",
            "Época  50: perda 0.18399\n",
            "Época  51: perda 0.18035\n",
            "Época  52: perda 0.18436\n",
            "Época  53: perda 0.17365\n",
            "Época  54: perda 0.19575\n",
            "Época  55: perda 0.18712\n",
            "Época  56: perda 0.18084\n",
            "Época  57: perda 0.19334\n",
            "Época  58: perda 0.19100\n",
            "Época  59: perda 0.16328\n",
            "Época  60: perda 0.19409\n",
            "Época  61: perda 0.15603\n",
            "Época  62: perda 0.21006\n",
            "Época  63: perda 0.14880\n",
            "Época  64: perda 0.17919\n",
            "Época  65: perda 0.23830\n",
            "Época  66: perda 0.24273\n",
            "Época  67: perda 0.15340\n",
            "Época  68: perda 0.16052\n",
            "Época  69: perda 0.16396\n",
            "Época  70: perda 0.17297\n",
            "Época  71: perda 0.15893\n",
            "Época  72: perda 0.15543\n",
            "Época  73: perda 0.19978\n",
            "Época  74: perda 0.18473\n",
            "Época  75: perda 0.16940\n",
            "Época  76: perda 0.13820\n",
            "Época  77: perda 0.15342\n",
            "Época  78: perda 0.17160\n",
            "Época  79: perda 0.17440\n",
            "Época  80: perda 0.19348\n",
            "Época  81: perda 0.16987\n",
            "Época  82: perda 0.15534\n",
            "Época  83: perda 0.16130\n",
            "Época  84: perda 0.15593\n",
            "Época  85: perda 0.15051\n",
            "Época  86: perda 0.15632\n",
            "Época  87: perda 0.18837\n",
            "Época  88: perda 0.16734\n",
            "Época  89: perda 0.18310\n",
            "Época  90: perda 0.17599\n",
            "Época  91: perda 0.15742\n",
            "Época  92: perda 0.16861\n",
            "Época  93: perda 0.17069\n",
            "Época  94: perda 0.18726\n",
            "Época  95: perda 0.18152\n",
            "Época  96: perda 0.16691\n",
            "Época  97: perda 0.15681\n",
            "Época  98: perda 0.14507\n",
            "Época  99: perda 0.15358\n",
            "Época 100: perda 0.15444\n",
            "Época 101: perda 0.16903\n",
            "Época 102: perda 0.13317\n",
            "Época 103: perda 0.14649\n",
            "Época 104: perda 0.12645\n",
            "Época 105: perda 0.12825\n",
            "Época 106: perda 0.13072\n",
            "Época 107: perda 0.13557\n",
            "Época 108: perda 0.13752\n",
            "Época 109: perda 0.12574\n",
            "Época 110: perda 0.12867\n",
            "Época 111: perda 0.13926\n",
            "Época 112: perda 0.17216\n",
            "Época 113: perda 0.21998\n",
            "Época 114: perda 0.15726\n",
            "Época 115: perda 0.18958\n",
            "Época 116: perda 0.10270\n",
            "Época 117: perda 0.13913\n",
            "Época 118: perda 0.11765\n",
            "Época 119: perda 0.11724\n",
            "Época 120: perda 0.11082\n",
            "Época 121: perda 0.11524\n",
            "Época 122: perda 0.11435\n",
            "Época 123: perda 0.12975\n",
            "Época 124: perda 0.18454\n",
            "Época 125: perda 0.11940\n",
            "Época 126: perda 0.10665\n",
            "Época 127: perda 0.11657\n",
            "Época 128: perda 0.12813\n",
            "Época 129: perda 0.11541\n",
            "Época 130: perda 0.10819\n",
            "Época 131: perda 0.10836\n",
            "Época 132: perda 0.11920\n",
            "Época 133: perda 0.11772\n",
            "Época 134: perda 0.09690\n",
            "Época 135: perda 0.16700\n",
            "Época 136: perda 0.14758\n",
            "Época 137: perda 0.10124\n",
            "Época 138: perda 0.12282\n",
            "Época 139: perda 0.22560\n",
            "Época 140: perda 0.18721\n",
            "Época 141: perda 0.13104\n",
            "Época 142: perda 0.12981\n",
            "Época 143: perda 0.11923\n",
            "Época 144: perda 0.10716\n",
            "Época 145: perda 0.09304\n",
            "Época 146: perda 0.09606\n",
            "Época 147: perda 0.11234\n",
            "Época 148: perda 0.12824\n",
            "Época 149: perda 0.16136\n",
            "Época 150: perda 0.13446\n",
            "Época 151: perda 0.11991\n",
            "Época 152: perda 0.16126\n",
            "Época 153: perda 0.09770\n",
            "Época 154: perda 0.09919\n",
            "Época 155: perda 0.09344\n",
            "Época 156: perda 0.08920\n",
            "Época 157: perda 0.15663\n",
            "Época 158: perda 0.13263\n",
            "Época 159: perda 0.12572\n",
            "Época 160: perda 0.11413\n",
            "Época 161: perda 0.12353\n",
            "Época 162: perda 0.09119\n",
            "Época 163: perda 0.08393\n",
            "Época 164: perda 0.08902\n",
            "Época 165: perda 0.08175\n",
            "Época 166: perda 0.11245\n",
            "Época 167: perda 0.10994\n",
            "Época 168: perda 0.09620\n",
            "Época 169: perda 0.09483\n",
            "Época 170: perda 0.09180\n",
            "Época 171: perda 0.10098\n",
            "Época 172: perda 0.10211\n",
            "Época 173: perda 0.14015\n",
            "Época 174: perda 0.09617\n",
            "Época 175: perda 0.08932\n",
            "Época 176: perda 0.08135\n",
            "Época 177: perda 0.10858\n",
            "Época 178: perda 0.10915\n",
            "Época 179: perda 0.09978\n",
            "Época 180: perda 0.10126\n",
            "Época 181: perda 0.08059\n",
            "Época 182: perda 0.07895\n",
            "Época 183: perda 0.10244\n",
            "Época 184: perda 0.08979\n",
            "Época 185: perda 0.09937\n",
            "Época 186: perda 0.11484\n",
            "Época 187: perda 0.15320\n",
            "Época 188: perda 0.10772\n",
            "Época 189: perda 0.07588\n",
            "Época 190: perda 0.07841\n",
            "Época 191: perda 0.10055\n",
            "Época 192: perda 0.08026\n",
            "Época 193: perda 0.10969\n",
            "Época 194: perda 0.10880\n",
            "Época 195: perda 0.09223\n",
            "Época 196: perda 0.10891\n",
            "Época 197: perda 0.08487\n",
            "Época 198: perda 0.08838\n",
            "Época 199: perda 0.08587\n",
            "Época 200: perda 0.09464\n"
          ]
        }
      ]
    },
    {
      "cell_type": "code",
      "source": [],
      "metadata": {
        "id": "B-GdMs6zMS3M"
      },
      "execution_count": 25,
      "outputs": []
    },
    {
      "cell_type": "markdown",
      "source": [
        "### Visualization of weights:"
      ],
      "metadata": {
        "id": "VigzDj6-cglC"
      }
    },
    {
      "cell_type": "code",
      "source": [
        "params = list(classificador.parameters())\n"
      ],
      "metadata": {
        "id": "Q4c7IswAckt1"
      },
      "execution_count": 26,
      "outputs": []
    },
    {
      "cell_type": "code",
      "source": [
        "pesos0 = params[0]\n",
        "pesos0.shape"
      ],
      "metadata": {
        "colab": {
          "base_uri": "https://localhost:8080/"
        },
        "id": "yuZaRTcPcvwm",
        "outputId": "7244652f-c355-4b05-909c-8a08099700b8"
      },
      "execution_count": 27,
      "outputs": [
        {
          "output_type": "execute_result",
          "data": {
            "text/plain": [
              "torch.Size([16, 30])"
            ]
          },
          "metadata": {},
          "execution_count": 27
        }
      ]
    },
    {
      "cell_type": "code",
      "source": [
        "# ligação (pesos) entre todas os 30 inputs da camadas de entrada com os 16 neurônios da primeira camada oculta\n",
        "# print(pesos0)"
      ],
      "metadata": {
        "id": "Gi9bHgTsdH4K"
      },
      "execution_count": 28,
      "outputs": []
    },
    {
      "cell_type": "code",
      "source": [
        "# Unidade de bias na 1° camada oculta\n",
        "bias0 = params[1]\n",
        "bias0.shape"
      ],
      "metadata": {
        "colab": {
          "base_uri": "https://localhost:8080/"
        },
        "id": "GZRBS5m1ddWV",
        "outputId": "65c778ff-237a-4199-8ff4-0c9a2fc60946"
      },
      "execution_count": 29,
      "outputs": [
        {
          "output_type": "execute_result",
          "data": {
            "text/plain": [
              "torch.Size([16])"
            ]
          },
          "metadata": {},
          "execution_count": 29
        }
      ]
    },
    {
      "cell_type": "code",
      "source": [
        "# ligação (pesos) entre todas os 16 neurônios da primeira camada oculta com os 16 neurônios da segunda camada oculta.\n",
        "pesos1 = params[2]\n",
        "pesos1.shape"
      ],
      "metadata": {
        "colab": {
          "base_uri": "https://localhost:8080/"
        },
        "id": "-p6BK-pFd_ol",
        "outputId": "2373c943-9d22-4b57-d6cc-565c9057244d"
      },
      "execution_count": 30,
      "outputs": [
        {
          "output_type": "execute_result",
          "data": {
            "text/plain": [
              "torch.Size([16, 16])"
            ]
          },
          "metadata": {},
          "execution_count": 30
        }
      ]
    },
    {
      "cell_type": "code",
      "source": [
        "# Unidade de bias na 2° camada oculta\n",
        "bias1 = params[3]\n",
        "bias1.shape"
      ],
      "metadata": {
        "colab": {
          "base_uri": "https://localhost:8080/"
        },
        "id": "z5GZVMXZeK7r",
        "outputId": "feae572f-fda6-47a5-8d8e-cb622dc2b0b4"
      },
      "execution_count": 31,
      "outputs": [
        {
          "output_type": "execute_result",
          "data": {
            "text/plain": [
              "torch.Size([16])"
            ]
          },
          "metadata": {},
          "execution_count": 31
        }
      ]
    },
    {
      "cell_type": "code",
      "source": [],
      "metadata": {
        "id": "fr3wtnXae1xo"
      },
      "execution_count": 31,
      "outputs": []
    },
    {
      "cell_type": "markdown",
      "source": [
        "### Model evaluation:"
      ],
      "metadata": {
        "id": "NmUp-V8SfD31"
      }
    },
    {
      "cell_type": "code",
      "source": [
        "classificador.eval() # .eval = significa que o classificador em modo avaliação\n"
      ],
      "metadata": {
        "colab": {
          "base_uri": "https://localhost:8080/"
        },
        "id": "OfDvxf0qfFnk",
        "outputId": "adee80a2-1208-47e1-a62e-18469818cc4d"
      },
      "execution_count": 32,
      "outputs": [
        {
          "output_type": "execute_result",
          "data": {
            "text/plain": [
              "Sequential(\n",
              "  (0): Linear(in_features=30, out_features=16, bias=True)\n",
              "  (1): ReLU()\n",
              "  (2): Linear(in_features=16, out_features=16, bias=True)\n",
              "  (3): ReLU()\n",
              "  (4): Linear(in_features=16, out_features=1, bias=True)\n",
              "  (5): Sigmoid()\n",
              ")"
            ]
          },
          "metadata": {},
          "execution_count": 32
        }
      ]
    },
    {
      "cell_type": "code",
      "source": [
        "type(previsores_test)"
      ],
      "metadata": {
        "colab": {
          "base_uri": "https://localhost:8080/"
        },
        "id": "ZQNa5mbTgyEH",
        "outputId": "feefd04b-fb35-4bd3-ff60-038544fdef25"
      },
      "execution_count": 33,
      "outputs": [
        {
          "output_type": "execute_result",
          "data": {
            "text/plain": [
              "pandas.core.frame.DataFrame"
            ]
          },
          "metadata": {},
          "execution_count": 33
        }
      ]
    },
    {
      "cell_type": "code",
      "source": [
        "previsores_test = torch.tensor(np.array(previsores_test), dtype=torch.float)"
      ],
      "metadata": {
        "id": "_IogBHRgg6Zn"
      },
      "execution_count": 34,
      "outputs": []
    },
    {
      "cell_type": "code",
      "source": [
        "type(previsores_test)"
      ],
      "metadata": {
        "colab": {
          "base_uri": "https://localhost:8080/"
        },
        "id": "qlrl_6fchGMk",
        "outputId": "56a1fae4-34aa-41d4-d1b7-4db786ac1ebf"
      },
      "execution_count": 35,
      "outputs": [
        {
          "output_type": "execute_result",
          "data": {
            "text/plain": [
              "torch.Tensor"
            ]
          },
          "metadata": {},
          "execution_count": 35
        }
      ]
    },
    {
      "cell_type": "code",
      "source": [
        "previsoes = classificador.forward(previsores_test) # passar pela rede neural em forward\n",
        "\n",
        "# retorna uma probabilidade entre 0 e 1"
      ],
      "metadata": {
        "id": "j5moNpFOhIZc"
      },
      "execution_count": 36,
      "outputs": []
    },
    {
      "cell_type": "code",
      "source": [
        "# Limiar de classificação\n",
        "\n",
        "previsoes = np.array(previsoes> 0.5) # valor 0.5 de acordo com o cenário"
      ],
      "metadata": {
        "id": "4F6bTn7shbtu"
      },
      "execution_count": 37,
      "outputs": []
    },
    {
      "cell_type": "code",
      "source": [
        "previsoes.shape"
      ],
      "metadata": {
        "colab": {
          "base_uri": "https://localhost:8080/"
        },
        "id": "U1XhZgdei5_u",
        "outputId": "4e7bcb67-b2c1-4645-ace1-7b343967df88"
      },
      "execution_count": 38,
      "outputs": [
        {
          "output_type": "execute_result",
          "data": {
            "text/plain": [
              "(143, 1)"
            ]
          },
          "metadata": {},
          "execution_count": 38
        }
      ]
    },
    {
      "cell_type": "code",
      "source": [
        "classe_test"
      ],
      "metadata": {
        "colab": {
          "base_uri": "https://localhost:8080/",
          "height": 424
        },
        "id": "gqzQto-YilA0",
        "outputId": "53b6c502-df12-4681-ffdd-6e30f8f62462"
      },
      "execution_count": 39,
      "outputs": [
        {
          "output_type": "execute_result",
          "data": {
            "text/plain": [
              "     0\n",
              "204  1\n",
              "70   0\n",
              "131  0\n",
              "431  1\n",
              "540  1\n",
              "..  ..\n",
              "89   1\n",
              "199  0\n",
              "411  1\n",
              "18   0\n",
              "390  1\n",
              "\n",
              "[143 rows x 1 columns]"
            ],
            "text/html": [
              "\n",
              "\n",
              "  <div id=\"df-db357eb0-7db2-4874-baa5-f2eb8e48a149\">\n",
              "    <div class=\"colab-df-container\">\n",
              "      <div>\n",
              "<style scoped>\n",
              "    .dataframe tbody tr th:only-of-type {\n",
              "        vertical-align: middle;\n",
              "    }\n",
              "\n",
              "    .dataframe tbody tr th {\n",
              "        vertical-align: top;\n",
              "    }\n",
              "\n",
              "    .dataframe thead th {\n",
              "        text-align: right;\n",
              "    }\n",
              "</style>\n",
              "<table border=\"1\" class=\"dataframe\">\n",
              "  <thead>\n",
              "    <tr style=\"text-align: right;\">\n",
              "      <th></th>\n",
              "      <th>0</th>\n",
              "    </tr>\n",
              "  </thead>\n",
              "  <tbody>\n",
              "    <tr>\n",
              "      <th>204</th>\n",
              "      <td>1</td>\n",
              "    </tr>\n",
              "    <tr>\n",
              "      <th>70</th>\n",
              "      <td>0</td>\n",
              "    </tr>\n",
              "    <tr>\n",
              "      <th>131</th>\n",
              "      <td>0</td>\n",
              "    </tr>\n",
              "    <tr>\n",
              "      <th>431</th>\n",
              "      <td>1</td>\n",
              "    </tr>\n",
              "    <tr>\n",
              "      <th>540</th>\n",
              "      <td>1</td>\n",
              "    </tr>\n",
              "    <tr>\n",
              "      <th>...</th>\n",
              "      <td>...</td>\n",
              "    </tr>\n",
              "    <tr>\n",
              "      <th>89</th>\n",
              "      <td>1</td>\n",
              "    </tr>\n",
              "    <tr>\n",
              "      <th>199</th>\n",
              "      <td>0</td>\n",
              "    </tr>\n",
              "    <tr>\n",
              "      <th>411</th>\n",
              "      <td>1</td>\n",
              "    </tr>\n",
              "    <tr>\n",
              "      <th>18</th>\n",
              "      <td>0</td>\n",
              "    </tr>\n",
              "    <tr>\n",
              "      <th>390</th>\n",
              "      <td>1</td>\n",
              "    </tr>\n",
              "  </tbody>\n",
              "</table>\n",
              "<p>143 rows × 1 columns</p>\n",
              "</div>\n",
              "      <button class=\"colab-df-convert\" onclick=\"convertToInteractive('df-db357eb0-7db2-4874-baa5-f2eb8e48a149')\"\n",
              "              title=\"Convert this dataframe to an interactive table.\"\n",
              "              style=\"display:none;\">\n",
              "\n",
              "  <svg xmlns=\"http://www.w3.org/2000/svg\" height=\"24px\"viewBox=\"0 0 24 24\"\n",
              "       width=\"24px\">\n",
              "    <path d=\"M0 0h24v24H0V0z\" fill=\"none\"/>\n",
              "    <path d=\"M18.56 5.44l.94 2.06.94-2.06 2.06-.94-2.06-.94-.94-2.06-.94 2.06-2.06.94zm-11 1L8.5 8.5l.94-2.06 2.06-.94-2.06-.94L8.5 2.5l-.94 2.06-2.06.94zm10 10l.94 2.06.94-2.06 2.06-.94-2.06-.94-.94-2.06-.94 2.06-2.06.94z\"/><path d=\"M17.41 7.96l-1.37-1.37c-.4-.4-.92-.59-1.43-.59-.52 0-1.04.2-1.43.59L10.3 9.45l-7.72 7.72c-.78.78-.78 2.05 0 2.83L4 21.41c.39.39.9.59 1.41.59.51 0 1.02-.2 1.41-.59l7.78-7.78 2.81-2.81c.8-.78.8-2.07 0-2.86zM5.41 20L4 18.59l7.72-7.72 1.47 1.35L5.41 20z\"/>\n",
              "  </svg>\n",
              "      </button>\n",
              "\n",
              "\n",
              "\n",
              "    <div id=\"df-4b1be19c-cc83-4c65-bcb2-9310947d6e7a\">\n",
              "      <button class=\"colab-df-quickchart\" onclick=\"quickchart('df-4b1be19c-cc83-4c65-bcb2-9310947d6e7a')\"\n",
              "              title=\"Suggest charts.\"\n",
              "              style=\"display:none;\">\n",
              "\n",
              "<svg xmlns=\"http://www.w3.org/2000/svg\" height=\"24px\"viewBox=\"0 0 24 24\"\n",
              "     width=\"24px\">\n",
              "    <g>\n",
              "        <path d=\"M19 3H5c-1.1 0-2 .9-2 2v14c0 1.1.9 2 2 2h14c1.1 0 2-.9 2-2V5c0-1.1-.9-2-2-2zM9 17H7v-7h2v7zm4 0h-2V7h2v10zm4 0h-2v-4h2v4z\"/>\n",
              "    </g>\n",
              "</svg>\n",
              "      </button>\n",
              "    </div>\n",
              "\n",
              "<style>\n",
              "  .colab-df-quickchart {\n",
              "    background-color: #E8F0FE;\n",
              "    border: none;\n",
              "    border-radius: 50%;\n",
              "    cursor: pointer;\n",
              "    display: none;\n",
              "    fill: #1967D2;\n",
              "    height: 32px;\n",
              "    padding: 0 0 0 0;\n",
              "    width: 32px;\n",
              "  }\n",
              "\n",
              "  .colab-df-quickchart:hover {\n",
              "    background-color: #E2EBFA;\n",
              "    box-shadow: 0px 1px 2px rgba(60, 64, 67, 0.3), 0px 1px 3px 1px rgba(60, 64, 67, 0.15);\n",
              "    fill: #174EA6;\n",
              "  }\n",
              "\n",
              "  [theme=dark] .colab-df-quickchart {\n",
              "    background-color: #3B4455;\n",
              "    fill: #D2E3FC;\n",
              "  }\n",
              "\n",
              "  [theme=dark] .colab-df-quickchart:hover {\n",
              "    background-color: #434B5C;\n",
              "    box-shadow: 0px 1px 3px 1px rgba(0, 0, 0, 0.15);\n",
              "    filter: drop-shadow(0px 1px 2px rgba(0, 0, 0, 0.3));\n",
              "    fill: #FFFFFF;\n",
              "  }\n",
              "</style>\n",
              "\n",
              "    <script>\n",
              "      async function quickchart(key) {\n",
              "        const containerElement = document.querySelector('#' + key);\n",
              "        const charts = await google.colab.kernel.invokeFunction(\n",
              "            'suggestCharts', [key], {});\n",
              "      }\n",
              "    </script>\n",
              "\n",
              "      <script>\n",
              "\n",
              "function displayQuickchartButton(domScope) {\n",
              "  let quickchartButtonEl =\n",
              "    domScope.querySelector('#df-4b1be19c-cc83-4c65-bcb2-9310947d6e7a button.colab-df-quickchart');\n",
              "  quickchartButtonEl.style.display =\n",
              "    google.colab.kernel.accessAllowed ? 'block' : 'none';\n",
              "}\n",
              "\n",
              "        displayQuickchartButton(document);\n",
              "      </script>\n",
              "      <style>\n",
              "    .colab-df-container {\n",
              "      display:flex;\n",
              "      flex-wrap:wrap;\n",
              "      gap: 12px;\n",
              "    }\n",
              "\n",
              "    .colab-df-convert {\n",
              "      background-color: #E8F0FE;\n",
              "      border: none;\n",
              "      border-radius: 50%;\n",
              "      cursor: pointer;\n",
              "      display: none;\n",
              "      fill: #1967D2;\n",
              "      height: 32px;\n",
              "      padding: 0 0 0 0;\n",
              "      width: 32px;\n",
              "    }\n",
              "\n",
              "    .colab-df-convert:hover {\n",
              "      background-color: #E2EBFA;\n",
              "      box-shadow: 0px 1px 2px rgba(60, 64, 67, 0.3), 0px 1px 3px 1px rgba(60, 64, 67, 0.15);\n",
              "      fill: #174EA6;\n",
              "    }\n",
              "\n",
              "    [theme=dark] .colab-df-convert {\n",
              "      background-color: #3B4455;\n",
              "      fill: #D2E3FC;\n",
              "    }\n",
              "\n",
              "    [theme=dark] .colab-df-convert:hover {\n",
              "      background-color: #434B5C;\n",
              "      box-shadow: 0px 1px 3px 1px rgba(0, 0, 0, 0.15);\n",
              "      filter: drop-shadow(0px 1px 2px rgba(0, 0, 0, 0.3));\n",
              "      fill: #FFFFFF;\n",
              "    }\n",
              "  </style>\n",
              "\n",
              "      <script>\n",
              "        const buttonEl =\n",
              "          document.querySelector('#df-db357eb0-7db2-4874-baa5-f2eb8e48a149 button.colab-df-convert');\n",
              "        buttonEl.style.display =\n",
              "          google.colab.kernel.accessAllowed ? 'block' : 'none';\n",
              "\n",
              "        async function convertToInteractive(key) {\n",
              "          const element = document.querySelector('#df-db357eb0-7db2-4874-baa5-f2eb8e48a149');\n",
              "          const dataTable =\n",
              "            await google.colab.kernel.invokeFunction('convertToInteractive',\n",
              "                                                     [key], {});\n",
              "          if (!dataTable) return;\n",
              "\n",
              "          const docLinkHtml = 'Like what you see? Visit the ' +\n",
              "            '<a target=\"_blank\" href=https://colab.research.google.com/notebooks/data_table.ipynb>data table notebook</a>'\n",
              "            + ' to learn more about interactive tables.';\n",
              "          element.innerHTML = '';\n",
              "          dataTable['output_type'] = 'display_data';\n",
              "          await google.colab.output.renderOutput(dataTable, element);\n",
              "          const docLink = document.createElement('div');\n",
              "          docLink.innerHTML = docLinkHtml;\n",
              "          element.appendChild(docLink);\n",
              "        }\n",
              "      </script>\n",
              "    </div>\n",
              "  </div>\n"
            ]
          },
          "metadata": {},
          "execution_count": 39
        }
      ]
    },
    {
      "cell_type": "code",
      "source": [
        "# Taxa de acerto, comparação entre as etiquetas 0 e 1 com as str True e False:\n",
        "\n",
        "taxa_acerto = accuracy_score(classe_test, previsoes)\n",
        "taxa_acerto"
      ],
      "metadata": {
        "colab": {
          "base_uri": "https://localhost:8080/"
        },
        "id": "6k_J_Ug8h_YX",
        "outputId": "59d2f5f5-be9d-4b46-c2e1-e141c1ad9b93"
      },
      "execution_count": 40,
      "outputs": [
        {
          "output_type": "execute_result",
          "data": {
            "text/plain": [
              "0.9230769230769231"
            ]
          },
          "metadata": {},
          "execution_count": 40
        }
      ]
    },
    {
      "cell_type": "code",
      "source": [
        "# Matrix de confusão:\n",
        "\n",
        "matrix = confusion_matrix(classe_test, previsoes)\n",
        "sns.heatmap(matrix, annot=True);"
      ],
      "metadata": {
        "colab": {
          "base_uri": "https://localhost:8080/",
          "height": 430
        },
        "id": "KsDIRHeCiPUM",
        "outputId": "358f35c0-e6be-40ee-824f-96b8832c28e5"
      },
      "execution_count": 41,
      "outputs": [
        {
          "output_type": "display_data",
          "data": {
            "text/plain": [
              "<Figure size 640x480 with 2 Axes>"
            ],
            "image/png": "[encoded data removed]"
          },
          "metadata": {}
        }
      ]
    },
    {
      "cell_type": "code",
      "source": [],
      "metadata": {
        "id": "4btjJVHDktDi"
      },
      "execution_count": 41,
      "outputs": []
    }
  ]
}